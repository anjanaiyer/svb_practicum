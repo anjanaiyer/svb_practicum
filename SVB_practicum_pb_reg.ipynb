{
  "nbformat": 4,
  "nbformat_minor": 0,
  "metadata": {
    "colab": {
      "name": "SVB_practicum_pb_reg.ipynb",
      "provenance": [],
      "collapsed_sections": []
    },
    "kernelspec": {
      "name": "python3",
      "display_name": "Python 3"
    },
    "language_info": {
      "name": "python"
    }
  },
  "cells": [
    {
      "cell_type": "code",
      "execution_count": 2,
      "metadata": {
        "id": "K0GrWeoXrJdx"
      },
      "outputs": [],
      "source": [
        "import matplotlib.pyplot as plt\n",
        "%matplotlib inline\n",
        "import numpy as np\n",
        "from sklearn.linear_model import Ridge, LinearRegression, Lasso\n",
        "from sklearn.model_selection import cross_val_score\n",
        "import pandas as pd"
      ]
    },
    {
      "cell_type": "code",
      "source": [
        "from google.colab import drive\n",
        "drive.mount('/content/drive')"
      ],
      "metadata": {
        "id": "OsbftYX5sl0J",
        "colab": {
          "base_uri": "https://localhost:8080/"
        },
        "outputId": "a860d1e6-2328-4b66-d554-225cae584023"
      },
      "execution_count": 3,
      "outputs": [
        {
          "output_type": "stream",
          "name": "stdout",
          "text": [
            "Mounted at /content/drive\n"
          ]
        }
      ]
    },
    {
      "cell_type": "code",
      "source": [
        "#importing the data \n",
        "pb_investor_info = pd.read_csv('/content/drive/My Drive/pb_data/investor_info.csv', encoding= 'unicode_escape')\n",
        "pb_investor_info.columns\n",
        "\n",
        "\n",
        "pb_investor_info['last_investment_type'] = pd.to_numeric(pb_investor_info['last_investment_type'], errors='coerce')\n",
        "pb_investor_info['last_investment_class'] = pd.to_numeric(pb_investor_info['last_investment_class'], errors='coerce')\n",
        "pb_investor_info['primary_investor_type'] = pd.to_numeric(pb_investor_info['primary_investor_type'], errors='coerce')\n",
        "\n",
        "pb_investor_info['investor_id'] = pb_investor_info['investor_id'].astype(float)\n",
        "pb_investor_info['total_funds_open'] = pb_investor_info['total_funds_open'].astype(float)\n",
        "pb_investor_info['total_funds_closed'] = pb_investor_info['total_funds_closed'].astype(float)\n",
        "pb_investor_info['AUM'] = pb_investor_info['AUM'].astype(float)\n",
        "pb_investor_info['dry_powder'] = pb_investor_info['dry_powder'].astype(float)\n",
        "pb_investor_info['last_investment_valuation'] = pb_investor_info['last_investment_valuation'].astype(float)\n",
        "pb_investor_info['last_investment_size'] = pb_investor_info['last_investment_size'].astype(float)\n",
        "\n",
        "pb_investor_info['investments_last_5_yrs'] = pb_investor_info['investments_last_5_yrs'].astype(float)\n",
        "pb_investor_info['investments_last_2_yrs'] = pb_investor_info['investments_last_2_yrs'].astype(float)\n",
        "pb_investor_info['last_investment_class'] = pb_investor_info['last_investment_class'].astype(float)\n",
        "pb_investor_info['last_investment_valuation'] = pb_investor_info['last_investment_valuation'].astype(float)\n",
        "pb_investor_info['last_investment_size'] = pb_investor_info['last_investment_size'].astype(float)\n",
        "\n",
        "\n",
        "pb_investor_id = pd.read_csv('/content/drive/My Drive/pb_data/investor_id.csv')\n",
        "pb_investor_id.columns\n",
        "\n",
        "pb_lp_info = pd.read_csv('/content/drive/My Drive/pb_data/lp_info.csv')\n",
        "pb_lp_info.columns\n",
        "\n",
        "pb_lp_id = pd.read_csv('/content/drive/My Drive/pb_data/lp_id.csv')\n",
        "pb_lp_id.columns\n",
        "\n",
        "pb_investor_lp = pd.read_csv('/content/drive/My Drive/pb_data/investor_lp.csv')\n",
        "pb_investor_lp.columns\n",
        "\n",
        "pb_investor_info.fillna(0,inplace=True)\n",
        "pb_lp_info.fillna(0, inplace=True)\n",
        "\n",
        "pb_lp_info.columns\n",
        "pb_lp_info.dtypes\n",
        "\n",
        "pb_lp_info['limited_partner_type'] = pd.to_numeric(pb_lp_info['limited_partner_type'], errors='coerce')\n",
        "pb_lp_info['limited_partner_type'] = pb_lp_info['limited_partner_type'].astype(float)\n",
        "\n",
        "pb_lp_info = pd.read_csv('/content/drive/My Drive/pb_data/lp_info.csv', encoding= 'unicode_escape')\n",
        "pb_lp_info.columns\n",
        "pb_lp_info.dtypes\n",
        "\n",
        "pb_lp_info.fillna(0, inplace=True)\n"
      ],
      "metadata": {
        "id": "nOB2ZMzQsmEs"
      },
      "execution_count": 4,
      "outputs": []
    },
    {
      "cell_type": "code",
      "source": [
        "#for LP\n",
        "\n",
        "# need to clean teh data in order to get this part to run\n",
        "\n",
        "\n",
        "#split into train-validate set (90%) and test set (10%) with random_state=0\n",
        "\n",
        "X1 = pb_lp_info[['ï»¿lp_id', 'cmmt_in_vc_funds', 'total_cmmt_in_vc_funds',\n",
        "        'AUM', 'affliated_funds_num',\n",
        "       'affliated_investors_num',  'total_cmmt']]\n",
        "y1 = pb_lp_info.commitments\n",
        "\n",
        "from sklearn.model_selection import train_test_split\n",
        "X1_train, X1_test, y1_train, y1_test = train_test_split(X1, y1, test_size = 0.1, random_state = 0)\n",
        "\n",
        "from sklearn.preprocessing import StandardScaler, MinMaxScaler, RobustScaler\n",
        "import statsmodels.api as sm\n",
        "linreg = LinearRegression()\n",
        "scaler = StandardScaler()\n",
        "minscaler = MinMaxScaler()\n",
        "robust = RobustScaler()\n",
        "from sklearn.pipeline import make_pipeline\n",
        "from sklearn.model_selection import GridSearchCV\n",
        "\n",
        "pipe1 = make_pipeline(MinMaxScaler(),Lasso(max_iter=1000, tol=1e2))\n",
        "param_grid = {'lasso__alpha': np.logspace(1,5,10)}\n",
        "grid1 = GridSearchCV(pipe1, param_grid, cv=5, return_train_score=True)\n",
        "grid1.fit(X1, y1)\n",
        "features1=['lp_id', 'cmmt_in_vc_funds', 'total_cmmt_in_vc_funds',\n",
        "        'AUM', 'affliated_funds_num',\n",
        "       'affliated_investors_num',  'total_cmmt']\n",
        "\n",
        "lasso1 = Lasso(alpha=grid1.best_params_['lasso__alpha'], tol=1e2)\n",
        "lasso1.fit(X1_train, y1_train)\n",
        "lasso1.score(X1_test, y1_test)\n",
        "\n",
        "grid1.best_params_\n",
        "grid1.best_score_\n",
        "\n",
        "pd.Series(lasso1.coef_,index=features1).sort_values(ascending=False)\n"
      ],
      "metadata": {
        "colab": {
          "base_uri": "https://localhost:8080/"
        },
        "id": "zEfeCflbJVKi",
        "outputId": "7f71976d-6217-450c-b74b-8fa776fe1a60"
      },
      "execution_count": 7,
      "outputs": [
        {
          "output_type": "execute_result",
          "data": {
            "text/plain": [
              "total_cmmt_in_vc_funds     1.767741e-02\n",
              "total_cmmt                 1.599606e-04\n",
              "AUM                        2.570849e-07\n",
              "cmmt_in_vc_funds           0.000000e+00\n",
              "affliated_funds_num        0.000000e+00\n",
              "affliated_investors_num    0.000000e+00\n",
              "lp_id                     -1.474137e-02\n",
              "dtype: float64"
            ]
          },
          "metadata": {},
          "execution_count": 7
        }
      ]
    },
    {
      "cell_type": "markdown",
      "source": [
        "this means that the most influential featuers in determining number of commitments are total commitments, total commitments in vc funds, and AUM - but very small coefficients... nothing really worth presenting on"
      ],
      "metadata": {
        "id": "aFLtaryG7-Uh"
      }
    },
    {
      "cell_type": "code",
      "source": [
        "#for investors\n",
        "#split into train-validate set (90%) and test set (10%) with random_state=0\n",
        "X = pb_investor_info[['investor_id', 'investment_num', 'total_funds_open',\n",
        "       'total_funds_closed', 'total_investments', 'dry_powder', 'last_investment_type',\n",
        "       'last_investment_valuation', 'last_investment_size',\n",
        "       'last_investment_class',\n",
        "       'investments_last_2_yrs', 'investments_last_12_months',\n",
        "       'investments_last_6_months', 'active_porfolio', 'exits',\n",
        "       'last_closed_fund_size', \n",
        "       'primary_investor_type', 'max_fund_size', 'median_fund_size',\n",
        "       'min_fund_size', 'fund_closed_num', 'total_investments_last_5_yrs',\n",
        "       'total_investments_last_2_yrs', 'total_investments_last_12_months',\n",
        "       'total_investments_last_6_months', 'total _active_portfolio',\n",
        "       'total_exits', 'total_investments_last_5_yrs']]\n",
        "y = pb_investor_info.AUM\n",
        "\n",
        "from sklearn.model_selection import train_test_split\n",
        "X_train, X_test, y_train, y_test = train_test_split(X, y, test_size = 0.1, random_state = 0)\n",
        "\n",
        "from sklearn.preprocessing import StandardScaler, MinMaxScaler, RobustScaler\n",
        "import statsmodels.api as sm\n",
        "linreg = LinearRegression()\n",
        "scaler = StandardScaler()\n",
        "minscaler = MinMaxScaler()\n",
        "robust = RobustScaler()\n",
        "from sklearn.pipeline import make_pipeline\n",
        "from sklearn.model_selection import GridSearchCV\n",
        "\n",
        "pipe = make_pipeline(MinMaxScaler(),Lasso(max_iter=1000, tol=1e2))\n",
        "param_grid = {'lasso__alpha': np.logspace(1,5,10)}\n",
        "grid2 = GridSearchCV(pipe, param_grid, cv=5, return_train_score=True)\n",
        "grid2.fit(X, y)\n",
        "\n",
        "\n",
        "features=['investor_id', 'investment_num', 'total_funds_open',\n",
        "       'total_funds_closed', 'total_investments', 'dry_powder', 'last_investment_type',\n",
        "       'last_investment_valuation', 'last_investment_size',\n",
        "       'last_investment_class',\n",
        "       'investments_last_2_yrs', 'investments_last_12_months',\n",
        "       'investments_last_6_months', 'active_porfolio', 'exits',\n",
        "       'last_closed_fund_size', \n",
        "       'primary_investor_type', 'max_fund_size', 'median_fund_size',\n",
        "       'min_fund_size', 'fund_closed_num', 'total_investments_last_5_yrs',\n",
        "       'total_investments_last_2_yrs', 'total_investments_last_12_months',\n",
        "       'total_investments_last_6_months', 'total _active_portfolio',\n",
        "       'total_exits', 'total_investments_last_5_yrs']\n",
        "\n",
        "lasso = Lasso(alpha=grid2.best_params_['lasso__alpha'], tol=1e2)\n",
        "lasso.fit(X_train, y_train)\n",
        "lasso.score(X_test, y_test)\n",
        "\n",
        "grid2.best_params_\n",
        "grid2.best_score_\n",
        "\n",
        "pd.Series(lasso.coef_,index=features).sort_values(ascending=False)"
      ],
      "metadata": {
        "colab": {
          "base_uri": "https://localhost:8080/"
        },
        "id": "jaPfBP8SxFV_",
        "outputId": "e20ca166-a157-4f20-a583-d3678131da18"
      },
      "execution_count": null,
      "outputs": [
        {
          "output_type": "execute_result",
          "data": {
            "text/plain": [
              "total_funds_closed                  0.413064\n",
              "exits                               0.080574\n",
              "dry_powder                          0.074083\n",
              "last_closed_fund_size               0.072561\n",
              "total_exits                         0.033040\n",
              "total_investments_last_5_yrs        0.028708\n",
              "investment_num                      0.025190\n",
              "investments_last_12_months          0.024515\n",
              "total_investments_last_2_yrs        0.006251\n",
              "last_investment_valuation           0.001579\n",
              "last_investment_size                0.000868\n",
              "median_fund_size                    0.000349\n",
              "max_fund_size                       0.000189\n",
              "min_fund_size                       0.000051\n",
              "total_funds_open                    0.000000\n",
              "total_investments_last_6_months     0.000000\n",
              "total_investments_last_12_months    0.000000\n",
              "total_investments_last_5_yrs        0.000000\n",
              "fund_closed_num                     0.000000\n",
              "last_investment_type                0.000000\n",
              "primary_investor_type               0.000000\n",
              "investments_last_6_months           0.000000\n",
              "investments_last_2_yrs              0.000000\n",
              "last_investment_class               0.000000\n",
              "total_investments                  -0.000701\n",
              "investor_id                        -0.006181\n",
              "total _active_portfolio            -0.047536\n",
              "active_porfolio                    -0.075618\n",
              "dtype: float64"
            ]
          },
          "metadata": {},
          "execution_count": 53
        }
      ]
    },
    {
      "cell_type": "markdown",
      "source": [
        "the most important factors when predicting AUM are total funds closed, exits, dry powder, last closed fund size,total exits, and total invest,ents in the past five years"
      ],
      "metadata": {
        "id": "Z7vw22kl8Sez"
      }
    },
    {
      "cell_type": "code",
      "source": [
        ""
      ],
      "metadata": {
        "id": "htQL7gQzvV2m"
      },
      "execution_count": null,
      "outputs": []
    },
    {
      "cell_type": "code",
      "source": [
        ""
      ],
      "metadata": {
        "id": "S4m1w5Pivt9W"
      },
      "execution_count": null,
      "outputs": []
    },
    {
      "cell_type": "code",
      "source": [
        ""
      ],
      "metadata": {
        "id": "WI-wKA0QvyEZ"
      },
      "execution_count": null,
      "outputs": []
    },
    {
      "cell_type": "code",
      "source": [
        ""
      ],
      "metadata": {
        "id": "f5yz1jV9v6MX"
      },
      "execution_count": null,
      "outputs": []
    },
    {
      "cell_type": "code",
      "source": [
        ""
      ],
      "metadata": {
        "id": "tuoNDe5av8_i"
      },
      "execution_count": null,
      "outputs": []
    }
  ]
}