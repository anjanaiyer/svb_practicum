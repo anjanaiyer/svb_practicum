{
  "nbformat": 4,
  "nbformat_minor": 0,
  "metadata": {
    "colab": {
      "name": "clustering_pb_investor_svb.ipynb",
      "provenance": [],
      "collapsed_sections": []
    },
    "kernelspec": {
      "name": "python3",
      "display_name": "Python 3"
    },
    "language_info": {
      "name": "python"
    }
  },
  "cells": [
    {
      "cell_type": "code",
      "execution_count": null,
      "metadata": {
        "id": "VjMKdHUz-zOr"
      },
      "outputs": [],
      "source": [
        "import matplotlib.pyplot as plt\n",
        "%matplotlib inline\n",
        "import numpy as np\n",
        "from sklearn.linear_model import Ridge, LinearRegression, Lasso\n",
        "from sklearn.model_selection import cross_val_score\n",
        "import pandas as pd"
      ]
    },
    {
      "cell_type": "code",
      "source": [
        "from google.colab import drive\n",
        "drive.mount('/content/drive')"
      ],
      "metadata": {
        "colab": {
          "base_uri": "https://localhost:8080/"
        },
        "id": "oczjUb63-4Of",
        "outputId": "863d21f0-a7c1-438d-bca3-c12f07d63b12"
      },
      "execution_count": null,
      "outputs": [
        {
          "output_type": "stream",
          "name": "stdout",
          "text": [
            "Mounted at /content/drive\n"
          ]
        }
      ]
    },
    {
      "cell_type": "code",
      "source": [
        "#importing the data \n",
        "pb_investor_info = pd.read_csv('/content/drive/My Drive/pb_data/investor_info.csv', encoding= 'unicode_escape')\n",
        "pb_investor_info.columns\n",
        "\n",
        "\n",
        "pb_investor_info['last_investment_type'] = pd.to_numeric(pb_investor_info['last_investment_type'], errors='coerce')\n",
        "pb_investor_info['last_investment_class'] = pd.to_numeric(pb_investor_info['last_investment_class'], errors='coerce')\n",
        "pb_investor_info['primary_investor_type'] = pd.to_numeric(pb_investor_info['primary_investor_type'], errors='coerce')\n",
        "\n",
        "pb_investor_info['investor_id'] = pb_investor_info['investor_id'].astype(float)\n",
        "pb_investor_info['total_funds_open'] = pb_investor_info['total_funds_open'].astype(float)\n",
        "pb_investor_info['total_funds_closed'] = pb_investor_info['total_funds_closed'].astype(float)\n",
        "pb_investor_info['AUM'] = pb_investor_info['AUM'].astype(float)\n",
        "pb_investor_info['dry_powder'] = pb_investor_info['dry_powder'].astype(float)\n",
        "pb_investor_info['last_investment_valuation'] = pb_investor_info['last_investment_valuation'].astype(float)\n",
        "pb_investor_info['last_investment_size'] = pb_investor_info['last_investment_size'].astype(float)\n",
        "\n",
        "pb_investor_info['investments_last_5_yrs'] = pb_investor_info['investments_last_5_yrs'].astype(float)\n",
        "pb_investor_info['investments_last_2_yrs'] = pb_investor_info['investments_last_2_yrs'].astype(float)\n",
        "pb_investor_info['last_investment_class'] = pb_investor_info['last_investment_class'].astype(float)\n",
        "pb_investor_info['last_investment_valuation'] = pb_investor_info['last_investment_valuation'].astype(float)\n",
        "pb_investor_info['last_investment_size'] = pb_investor_info['last_investment_size'].astype(float)\n",
        "\n",
        "\n",
        "pb_investor_id = pd.read_csv('/content/drive/My Drive/pb_data/investor_id.csv')\n",
        "pb_investor_id.columns\n",
        "\n",
        "pb_lp_info = pd.read_csv('/content/drive/My Drive/pb_data/lp_info.csv')\n",
        "pb_lp_info.columns\n",
        "\n",
        "pb_lp_id = pd.read_csv('/content/drive/My Drive/pb_data/lp_id.csv')\n",
        "pb_lp_id.columns\n",
        "\n",
        "pb_investor_lp = pd.read_csv('/content/drive/My Drive/pb_data/investor_lp.csv')\n",
        "pb_investor_lp.columns\n",
        "\n",
        "pb_investor_info.fillna(0,inplace=True)\n",
        "pb_lp_info.fillna(0, inplace=True)\n",
        "\n",
        "pb_lp_info.columns\n",
        "pb_lp_info.dtypes\n",
        "\n",
        "pb_lp_info['limited_partner_type'] = pd.to_numeric(pb_lp_info['limited_partner_type'], errors='coerce')\n",
        "pb_lp_info['limited_partner_type'] = pb_lp_info['limited_partner_type'].astype(float)\n",
        "\n",
        "pb_lp_info = pd.read_csv('/content/drive/My Drive/pb_data/lp_info.csv', encoding= 'unicode_escape')\n",
        "pb_lp_info.columns\n",
        "pb_lp_info.dtypes\n",
        "\n",
        "pb_lp_info.fillna(0, inplace=True)"
      ],
      "metadata": {
        "id": "4mLnt6bU-5us"
      },
      "execution_count": null,
      "outputs": []
    },
    {
      "cell_type": "code",
      "source": [
        "#clustering analysis\n",
        "!pip install --upgrade kneed\n",
        "import matplotlib.pyplot as plt\n",
        "from kneed import KneeLocator\n",
        "from sklearn.datasets import make_blobs\n",
        "from sklearn.cluster import KMeans\n",
        "from sklearn.metrics import silhouette_score\n",
        "from sklearn.preprocessing import StandardScaler"
      ],
      "metadata": {
        "colab": {
          "base_uri": "https://localhost:8080/"
        },
        "id": "y9xpicIc--rO",
        "outputId": "d304b5e0-de9d-41ac-874a-26bd3e97be74"
      },
      "execution_count": null,
      "outputs": [
        {
          "output_type": "stream",
          "name": "stdout",
          "text": [
            "Collecting kneed\n",
            "  Downloading kneed-0.7.0-py2.py3-none-any.whl (9.4 kB)\n",
            "Requirement already satisfied: matplotlib in /usr/local/lib/python3.7/dist-packages (from kneed) (3.2.2)\n",
            "Requirement already satisfied: scipy in /usr/local/lib/python3.7/dist-packages (from kneed) (1.4.1)\n",
            "Requirement already satisfied: numpy>=1.14.2 in /usr/local/lib/python3.7/dist-packages (from kneed) (1.21.6)\n",
            "Requirement already satisfied: pyparsing!=2.0.4,!=2.1.2,!=2.1.6,>=2.0.1 in /usr/local/lib/python3.7/dist-packages (from matplotlib->kneed) (3.0.8)\n",
            "Requirement already satisfied: python-dateutil>=2.1 in /usr/local/lib/python3.7/dist-packages (from matplotlib->kneed) (2.8.2)\n",
            "Requirement already satisfied: cycler>=0.10 in /usr/local/lib/python3.7/dist-packages (from matplotlib->kneed) (0.11.0)\n",
            "Requirement already satisfied: kiwisolver>=1.0.1 in /usr/local/lib/python3.7/dist-packages (from matplotlib->kneed) (1.4.2)\n",
            "Requirement already satisfied: typing-extensions in /usr/local/lib/python3.7/dist-packages (from kiwisolver>=1.0.1->matplotlib->kneed) (4.2.0)\n",
            "Requirement already satisfied: six>=1.5 in /usr/local/lib/python3.7/dist-packages (from python-dateutil>=2.1->matplotlib->kneed) (1.15.0)\n",
            "Installing collected packages: kneed\n",
            "Successfully installed kneed-0.7.0\n"
          ]
        }
      ]
    },
    {
      "cell_type": "code",
      "source": [
        "#clustering for LP\n",
        "scaler = StandardScaler()\n",
        "features_lp = pb_lp_info[['total_cmmt_in_vc_funds',\n",
        "        'AUM',]]\n",
        "scaled_features_lp = scaler.fit_transform(features_lp)"
      ],
      "metadata": {
        "id": "c2kYS_Pv_CE6"
      },
      "execution_count": null,
      "outputs": []
    },
    {
      "cell_type": "code",
      "source": [
        "kmeans = KMeans(\n",
        "       init=\"random\",\n",
        "       n_clusters=3,\n",
        "        n_init=10,\n",
        "        max_iter=300,\n",
        "        random_state=42\n",
        "    )"
      ],
      "metadata": {
        "id": "etUMPvHB_Dhb"
      },
      "execution_count": null,
      "outputs": []
    },
    {
      "cell_type": "code",
      "source": [
        "kmeans.fit(scaled_features_lp)"
      ],
      "metadata": {
        "colab": {
          "base_uri": "https://localhost:8080/"
        },
        "id": "cRrF0C64_FG6",
        "outputId": "24819bd9-94bf-4308-cf7d-13968a099305"
      },
      "execution_count": null,
      "outputs": [
        {
          "output_type": "execute_result",
          "data": {
            "text/plain": [
              "KMeans(init='random', n_clusters=3, random_state=42)"
            ]
          },
          "metadata": {},
          "execution_count": 17
        }
      ]
    },
    {
      "cell_type": "code",
      "source": [
        "kmeans.inertia_"
      ],
      "metadata": {
        "colab": {
          "base_uri": "https://localhost:8080/"
        },
        "id": "Cu64gQu2_Gan",
        "outputId": "77fee0bf-0bdd-4ae4-ff0e-3799eaf0e8b6"
      },
      "execution_count": null,
      "outputs": [
        {
          "output_type": "execute_result",
          "data": {
            "text/plain": [
              "413.44912456519705"
            ]
          },
          "metadata": {},
          "execution_count": 18
        }
      ]
    },
    {
      "cell_type": "code",
      "source": [
        "kmeans.cluster_centers_"
      ],
      "metadata": {
        "colab": {
          "base_uri": "https://localhost:8080/"
        },
        "id": "oyTigigx_Iip",
        "outputId": "872d4531-63fe-4aad-b417-8130decafa0d"
      },
      "execution_count": null,
      "outputs": [
        {
          "output_type": "execute_result",
          "data": {
            "text/plain": [
              "array([[-1.86996114e-01, -1.32391553e-01],\n",
              "       [-5.54662836e-03,  6.34086231e+00],\n",
              "       [ 2.99898103e+00,  8.32162814e-03]])"
            ]
          },
          "metadata": {},
          "execution_count": 19
        }
      ]
    },
    {
      "cell_type": "code",
      "source": [
        "kmeans.n_iter_"
      ],
      "metadata": {
        "colab": {
          "base_uri": "https://localhost:8080/"
        },
        "id": "MkgY_T9F_Kax",
        "outputId": "6da289a2-87d4-4d51-e454-7823c1c5652f"
      },
      "execution_count": null,
      "outputs": [
        {
          "output_type": "execute_result",
          "data": {
            "text/plain": [
              "18"
            ]
          },
          "metadata": {},
          "execution_count": 20
        }
      ]
    },
    {
      "cell_type": "code",
      "source": [
        "kmeans_kwargs_lp = {\n",
        "    \"init\": \"random\",\n",
        "    \"n_init\": 10,\n",
        "    \"max_iter\": 300,\n",
        "    \"random_state\": 42,\n",
        "}\n",
        "\n",
        "# A list holds the SSE values for each k\n",
        "sse = []\n",
        "for k in range(1, 11):\n",
        "    kmeans = KMeans(n_clusters=k, **kmeans_kwargs_lp)\n",
        "    kmeans.fit(scaled_features_lp)\n",
        "    sse.append(kmeans.inertia_)"
      ],
      "metadata": {
        "id": "jgic6n5B_K-t"
      },
      "execution_count": null,
      "outputs": []
    },
    {
      "cell_type": "code",
      "source": [
        " plt.style.use(\"fivethirtyeight\")\n",
        " plt.plot(range(1, 11), sse)\n",
        " plt.xticks(range(1, 11))\n",
        " plt.xlabel(\"Number of Clusters\")\n",
        " plt.ylabel(\"SSE\")\n",
        " plt.show()"
      ],
      "metadata": {
        "colab": {
          "base_uri": "https://localhost:8080/",
          "height": 304
        },
        "id": "yA17hIkd_MtC",
        "outputId": "6f747857-147a-43f8-d758-1d06314a1feb"
      },
      "execution_count": null,
      "outputs": [
        {
          "output_type": "display_data",
          "data": {
            "text/plain": [
              "<Figure size 432x288 with 1 Axes>"
            ],
            "image/png": "[encoded data removed]"
          },
          "metadata": {}
        }
      ]
    },
    {
      "cell_type": "code",
      "source": [
        "kl = KneeLocator(\n",
        "    range(1, 11), sse, curve=\"convex\", direction=\"decreasing\"\n",
        ")\n",
        "\n",
        "kl.elbow\n"
      ],
      "metadata": {
        "colab": {
          "base_uri": "https://localhost:8080/"
        },
        "id": "WqXY6G3k_Sls",
        "outputId": "9b069581-5c26-40ac-a846-381a8f28ea26"
      },
      "execution_count": null,
      "outputs": [
        {
          "output_type": "execute_result",
          "data": {
            "text/plain": [
              "5"
            ]
          },
          "metadata": {},
          "execution_count": 23
        }
      ]
    },
    {
      "cell_type": "code",
      "source": [
        "# A list holds the silhouette coefficients for each k\n",
        "silhouette_coefficients = []\n",
        "\n",
        "# Notice you start at 2 clusters for silhouette coefficient\n",
        "for k in range(2, 11):\n",
        "    kmeans = KMeans(n_clusters=k, **kmeans_kwargs_lp)\n",
        "    kmeans.fit(scaled_features_lp)\n",
        "    score = silhouette_score(scaled_features_lp, kmeans.labels_)\n",
        "    silhouette_coefficients.append(score)"
      ],
      "metadata": {
        "id": "ZsPrMttR_V1t"
      },
      "execution_count": null,
      "outputs": []
    },
    {
      "cell_type": "code",
      "source": [
        "plt.style.use(\"fivethirtyeight\")\n",
        "plt.plot(range(2, 11), silhouette_coefficients)\n",
        "plt.xticks(range(2, 11))\n",
        "plt.xlabel(\"Number of Clusters\")\n",
        "plt.ylabel(\"Silhouette Coefficient\")\n",
        "plt.show()"
      ],
      "metadata": {
        "colab": {
          "base_uri": "https://localhost:8080/",
          "height": 304
        },
        "id": "c9Kso32S_bua",
        "outputId": "1a4907a5-e4cf-4d42-96f4-0c167608fdd2"
      },
      "execution_count": null,
      "outputs": [
        {
          "output_type": "display_data",
          "data": {
            "text/plain": [
              "<Figure size 432x288 with 1 Axes>"
            ],
            "image/png": "[encoded data removed]"
          },
          "metadata": {}
        }
      ]
    },
    {
      "cell_type": "code",
      "source": [
        "from sklearn.cluster import DBSCAN\n",
        "from sklearn.datasets import make_moons\n",
        "from sklearn.metrics import adjusted_rand_score"
      ],
      "metadata": {
        "id": "aL0dTKpFAEQB"
      },
      "execution_count": null,
      "outputs": []
    },
    {
      "cell_type": "code",
      "source": [
        "features, true_labels = make_moons(\n",
        "    n_samples=250, noise=0.05, random_state=42\n",
        ")\n",
        "scaled_features = scaler.fit_transform(features)"
      ],
      "metadata": {
        "id": "gcLszakgAE0u"
      },
      "execution_count": null,
      "outputs": []
    },
    {
      "cell_type": "code",
      "source": [
        "# Instantiate k-means and dbscan algorithms\n",
        "kmeans = KMeans(n_clusters=2)\n",
        "dbscan = DBSCAN(eps=0.3)\n",
        "\n",
        "# Fit the algorithms to the features\n",
        "kmeans.fit(scaled_features)\n",
        "dbscan.fit(scaled_features)\n",
        "\n",
        "# Compute the silhouette scores for each algorithm\n",
        "kmeans_silhouette = silhouette_score(\n",
        "    scaled_features, kmeans.labels_\n",
        ").round(2)\n",
        "dbscan_silhouette = silhouette_score(\n",
        "   scaled_features, dbscan.labels_\n",
        ").round (2)"
      ],
      "metadata": {
        "id": "BYRJCAiHAG7O"
      },
      "execution_count": null,
      "outputs": []
    },
    {
      "cell_type": "code",
      "source": [
        " kmeans_silhouette"
      ],
      "metadata": {
        "colab": {
          "base_uri": "https://localhost:8080/"
        },
        "id": "uHiBIAiKAJUO",
        "outputId": "2843224f-9a78-4112-8aec-693683876123"
      },
      "execution_count": null,
      "outputs": [
        {
          "output_type": "execute_result",
          "data": {
            "text/plain": [
              "0.5"
            ]
          },
          "metadata": {},
          "execution_count": 29
        }
      ]
    },
    {
      "cell_type": "code",
      "source": [
        "dbscan_silhouette"
      ],
      "metadata": {
        "colab": {
          "base_uri": "https://localhost:8080/"
        },
        "id": "F3nhHB9OALzL",
        "outputId": "fb9c8893-aa59-4ecb-f9a7-8ab71911b8ea"
      },
      "execution_count": null,
      "outputs": [
        {
          "output_type": "execute_result",
          "data": {
            "text/plain": [
              "0.38"
            ]
          },
          "metadata": {},
          "execution_count": 30
        }
      ]
    },
    {
      "cell_type": "code",
      "source": [
        "# Plot the data and cluster silhouette comparison\n",
        "fig, (ax1, ax2) = plt.subplots(\n",
        "    1, 2, figsize=(8, 6), sharex=True, sharey=True\n",
        ")\n",
        "fig.suptitle(f\"Clustering Algorithm Comparison: Crescents\", fontsize=16)\n",
        "fte_colors = {\n",
        "    0: \"#008fd5\",\n",
        "    1: \"#fc4f30\",\n",
        "}\n",
        "# The k-means plot\n",
        "km_colors = [fte_colors[label] for label in kmeans.labels_]\n",
        "ax1.scatter(scaled_features_lp[:, 0], scaled_features_lp[:, 1])\n",
        "ax1.set_title(\n",
        "    f\"k-means\\nSilhouette: {kmeans_silhouette}\", fontdict={\"fontsize\": 12}\n",
        ")\n",
        "\n",
        "# The dbscan plot\n",
        "db_colors = [fte_colors[label] for label in dbscan.labels_]\n",
        "ax2.scatter(scaled_features_lp[:, 0], scaled_features_lp[:, 1])\n",
        "ax2.set_title(\n",
        "    f\"DBSCAN\\nSilhouette: {dbscan_silhouette}\", fontdict={\"fontsize\": 12}\n",
        ")\n",
        "plt.show()"
      ],
      "metadata": {
        "colab": {
          "base_uri": "https://localhost:8080/",
          "height": 442
        },
        "id": "kOAAAhQZAOZK",
        "outputId": "4cf47102-0dc9-446f-faec-59bde7d8f7d8"
      },
      "execution_count": null,
      "outputs": [
        {
          "output_type": "display_data",
          "data": {
            "text/plain": [
              "<Figure size 576x432 with 2 Axes>"
            ],
            "image/png": "[encoded data removed]"
          },
          "metadata": {}
        }
      ]
    }
  ]
}