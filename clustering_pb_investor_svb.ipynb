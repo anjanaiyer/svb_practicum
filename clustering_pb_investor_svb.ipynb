{
  "nbformat": 4,
  "nbformat_minor": 0,
  "metadata": {
    "colab": {
      "name": "clustering_pb_investor_svb.ipynb",
      "provenance": []
    },
    "kernelspec": {
      "name": "python3",
      "display_name": "Python 3"
    },
    "language_info": {
      "name": "python"
    }
  },
  "cells": [
    {
      "cell_type": "code",
      "execution_count": 7,
      "metadata": {
        "id": "Lh4hl7CHcmQQ"
      },
      "outputs": [],
      "source": [
        "import matplotlib.pyplot as plt\n",
        "%matplotlib inline\n",
        "import numpy as np\n",
        "from sklearn.linear_model import Ridge, LinearRegression, Lasso\n",
        "from sklearn.model_selection import cross_val_score\n",
        "import pandas as pd"
      ]
    },
    {
      "cell_type": "code",
      "source": [
        "from google.colab import drive\n",
        "drive.mount('/content/drive')"
      ],
      "metadata": {
        "colab": {
          "base_uri": "https://localhost:8080/"
        },
        "id": "7L8-Z54Wcsv5",
        "outputId": "0e4e843f-f80c-49b3-8326-5a015d498cb0"
      },
      "execution_count": 8,
      "outputs": [
        {
          "output_type": "stream",
          "name": "stdout",
          "text": [
            "Drive already mounted at /content/drive; to attempt to forcibly remount, call drive.mount(\"/content/drive\", force_remount=True).\n"
          ]
        }
      ]
    },
    {
      "cell_type": "code",
      "source": [
        "#importing the data \n",
        "pb_investor_info = pd.read_csv('/content/drive/My Drive/pb_data/investor_info.csv', encoding= 'unicode_escape')\n",
        "pb_investor_info.columns\n",
        "\n",
        "\n",
        "pb_investor_info['last_investment_type'] = pd.to_numeric(pb_investor_info['last_investment_type'], errors='coerce')\n",
        "pb_investor_info['last_investment_class'] = pd.to_numeric(pb_investor_info['last_investment_class'], errors='coerce')\n",
        "pb_investor_info['primary_investor_type'] = pd.to_numeric(pb_investor_info['primary_investor_type'], errors='coerce')\n",
        "\n",
        "pb_investor_info['investor_id'] = pb_investor_info['investor_id'].astype(float)\n",
        "pb_investor_info['total_funds_open'] = pb_investor_info['total_funds_open'].astype(float)\n",
        "pb_investor_info['total_funds_closed'] = pb_investor_info['total_funds_closed'].astype(float)\n",
        "pb_investor_info['AUM'] = pb_investor_info['AUM'].astype(float)\n",
        "pb_investor_info['dry_powder'] = pb_investor_info['dry_powder'].astype(float)\n",
        "pb_investor_info['last_investment_valuation'] = pb_investor_info['last_investment_valuation'].astype(float)\n",
        "pb_investor_info['last_investment_size'] = pb_investor_info['last_investment_size'].astype(float)\n",
        "\n",
        "pb_investor_info['investments_last_5_yrs'] = pb_investor_info['investments_last_5_yrs'].astype(float)\n",
        "pb_investor_info['investments_last_2_yrs'] = pb_investor_info['investments_last_2_yrs'].astype(float)\n",
        "pb_investor_info['last_investment_class'] = pb_investor_info['last_investment_class'].astype(float)\n",
        "pb_investor_info['last_investment_valuation'] = pb_investor_info['last_investment_valuation'].astype(float)\n",
        "pb_investor_info['last_investment_size'] = pb_investor_info['last_investment_size'].astype(float)\n",
        "pb_investor_lp = pd.read_csv('/content/drive/My Drive/pb_data/investor_lp.csv')\n",
        "pb_investor_lp.columns\n",
        "\n",
        "pb_investor_info.fillna(0,inplace=True)\n"
      ],
      "metadata": {
        "id": "hw6vtsF2cv-o"
      },
      "execution_count": 9,
      "outputs": []
    },
    {
      "cell_type": "code",
      "source": [
        "#clustering analysis\n",
        "!pip install --upgrade kneed\n",
        "import matplotlib.pyplot as plt\n",
        "from kneed import KneeLocator\n",
        "from sklearn.datasets import make_blobs\n",
        "from sklearn.cluster import KMeans\n",
        "from sklearn.metrics import silhouette_score\n",
        "from sklearn.preprocessing import StandardScaler"
      ],
      "metadata": {
        "colab": {
          "base_uri": "https://localhost:8080/"
        },
        "id": "5_jlS9veffwX",
        "outputId": "007490e6-782b-422c-f618-140e631112e1"
      },
      "execution_count": 10,
      "outputs": [
        {
          "output_type": "stream",
          "name": "stdout",
          "text": [
            "Requirement already satisfied: kneed in /usr/local/lib/python3.7/dist-packages (0.7.0)\n",
            "Requirement already satisfied: numpy>=1.14.2 in /usr/local/lib/python3.7/dist-packages (from kneed) (1.21.6)\n",
            "Requirement already satisfied: scipy in /usr/local/lib/python3.7/dist-packages (from kneed) (1.4.1)\n",
            "Requirement already satisfied: matplotlib in /usr/local/lib/python3.7/dist-packages (from kneed) (3.2.2)\n",
            "Requirement already satisfied: pyparsing!=2.0.4,!=2.1.2,!=2.1.6,>=2.0.1 in /usr/local/lib/python3.7/dist-packages (from matplotlib->kneed) (3.0.8)\n",
            "Requirement already satisfied: kiwisolver>=1.0.1 in /usr/local/lib/python3.7/dist-packages (from matplotlib->kneed) (1.4.2)\n",
            "Requirement already satisfied: cycler>=0.10 in /usr/local/lib/python3.7/dist-packages (from matplotlib->kneed) (0.11.0)\n",
            "Requirement already satisfied: python-dateutil>=2.1 in /usr/local/lib/python3.7/dist-packages (from matplotlib->kneed) (2.8.2)\n",
            "Requirement already satisfied: typing-extensions in /usr/local/lib/python3.7/dist-packages (from kiwisolver>=1.0.1->matplotlib->kneed) (4.2.0)\n",
            "Requirement already satisfied: six>=1.5 in /usr/local/lib/python3.7/dist-packages (from python-dateutil>=2.1->matplotlib->kneed) (1.15.0)\n"
          ]
        }
      ]
    },
    {
      "cell_type": "code",
      "source": [
        "#clustering for lp\n",
        "scaler = StandardScaler()\n",
        "features_inv = pb_investor_info[['total_investments', 'median_fund_size']]\n",
        "scaled_features_inv = scaler.fit_transform(features_inv)"
      ],
      "metadata": {
        "id": "kOtCdpoNfhpv"
      },
      "execution_count": 11,
      "outputs": []
    },
    {
      "cell_type": "code",
      "source": [
        "kmeans = KMeans(\n",
        "       init=\"random\",\n",
        "       n_clusters=3,\n",
        "        n_init=10,\n",
        "        max_iter=300,\n",
        "        random_state=42\n",
        "    )"
      ],
      "metadata": {
        "id": "Hfk_svrpi5q5"
      },
      "execution_count": 12,
      "outputs": []
    },
    {
      "cell_type": "code",
      "source": [
        "kmeans.fit(scaled_features_inv)"
      ],
      "metadata": {
        "colab": {
          "base_uri": "https://localhost:8080/"
        },
        "id": "9kz6torHi7iE",
        "outputId": "472dddc9-4263-448e-c71b-b72ea15a4630"
      },
      "execution_count": 13,
      "outputs": [
        {
          "output_type": "execute_result",
          "data": {
            "text/plain": [
              "KMeans(init='random', n_clusters=3, random_state=42)"
            ]
          },
          "metadata": {},
          "execution_count": 13
        }
      ]
    },
    {
      "cell_type": "code",
      "source": [
        "kmeans.inertia_"
      ],
      "metadata": {
        "colab": {
          "base_uri": "https://localhost:8080/"
        },
        "id": "SZsqKgVRi-e6",
        "outputId": "cb985824-3577-4646-8092-9c6360e4fa11"
      },
      "execution_count": 14,
      "outputs": [
        {
          "output_type": "execute_result",
          "data": {
            "text/plain": [
              "3995.652414895568"
            ]
          },
          "metadata": {},
          "execution_count": 14
        }
      ]
    },
    {
      "cell_type": "code",
      "source": [
        "kmeans.cluster_centers_"
      ],
      "metadata": {
        "colab": {
          "base_uri": "https://localhost:8080/"
        },
        "id": "Z7whj3Jvi_g5",
        "outputId": "9ef24a0c-a686-4561-a6b7-39f51a72c4e8"
      },
      "execution_count": 15,
      "outputs": [
        {
          "output_type": "execute_result",
          "data": {
            "text/plain": [
              "array([[ 1.30921842, -0.010965  ],\n",
              "       [ 7.52778325,  1.92726156],\n",
              "       [-0.25424325, -0.01837521]])"
            ]
          },
          "metadata": {},
          "execution_count": 15
        }
      ]
    },
    {
      "cell_type": "code",
      "source": [
        "kmeans.n_iter_"
      ],
      "metadata": {
        "colab": {
          "base_uri": "https://localhost:8080/"
        },
        "id": "JY15o6i7jBcp",
        "outputId": "a9686a76-8a31-41c2-fe83-3d69519d44dc"
      },
      "execution_count": 16,
      "outputs": [
        {
          "output_type": "execute_result",
          "data": {
            "text/plain": [
              "16"
            ]
          },
          "metadata": {},
          "execution_count": 16
        }
      ]
    },
    {
      "cell_type": "code",
      "source": [
        "kmeans_kwargs_inv = {\n",
        "    \"init\": \"random\",\n",
        "    \"n_init\": 10,\n",
        "    \"max_iter\": 300,\n",
        "    \"random_state\": 42,\n",
        "}\n",
        "\n",
        "# A list holds the SSE values for each k\n",
        "sse = []\n",
        "for k in range(1, 11):\n",
        "    kmeans = KMeans(n_clusters=k, **kmeans_kwargs_inv)\n",
        "    kmeans.fit(scaled_features_inv)\n",
        "    sse.append(kmeans.inertia_)"
      ],
      "metadata": {
        "id": "Ji7etojHjE_q"
      },
      "execution_count": 18,
      "outputs": []
    },
    {
      "cell_type": "code",
      "source": [
        " plt.style.use(\"fivethirtyeight\")\n",
        " plt.plot(range(1, 11), sse)\n",
        " plt.xticks(range(1, 11))\n",
        " plt.xlabel(\"Number of Clusters\")\n",
        " plt.ylabel(\"SSE\")\n",
        " plt.show()"
      ],
      "metadata": {
        "colab": {
          "base_uri": "https://localhost:8080/",
          "height": 304
        },
        "id": "MTO9Y5CwjRck",
        "outputId": "aab4d1fa-2c61-4498-ee19-ea2bf1e6819b"
      },
      "execution_count": 19,
      "outputs": [
        {
          "output_type": "display_data",
          "data": {
            "text/plain": [
              "<Figure size 432x288 with 1 Axes>"
            ],
            "image/png": "[encoded data removed]"
          },
          "metadata": {}
        }
      ]
    },
    {
      "cell_type": "code",
      "source": [
        "kl = KneeLocator(\n",
        "    range(1, 11), sse, curve=\"convex\", direction=\"decreasing\"\n",
        ")\n",
        "\n",
        "kl.elbow"
      ],
      "metadata": {
        "colab": {
          "base_uri": "https://localhost:8080/"
        },
        "id": "jSzGmJMyjTXT",
        "outputId": "dd68179e-3ebf-4029-d7a6-b7ecd4112918"
      },
      "execution_count": 20,
      "outputs": [
        {
          "output_type": "execute_result",
          "data": {
            "text/plain": [
              "4"
            ]
          },
          "metadata": {},
          "execution_count": 20
        }
      ]
    },
    {
      "cell_type": "code",
      "source": [
        "# A list holds the silhouette coefficients for each k\n",
        "silhouette_coefficients = []\n",
        "\n",
        "# Notice you start at 2 clusters for silhouette coefficient\n",
        "for k in range(2, 11):\n",
        "    kmeans = KMeans(n_clusters=k, **kmeans_kwargs_inv)\n",
        "    kmeans.fit(scaled_features_inv)\n",
        "    score = silhouette_score(scaled_features_inv, kmeans.labels_)\n",
        "    silhouette_coefficients.append(score)"
      ],
      "metadata": {
        "id": "cjBJFI6GjVRt"
      },
      "execution_count": 21,
      "outputs": []
    },
    {
      "cell_type": "code",
      "source": [
        "plt.style.use(\"fivethirtyeight\")\n",
        "plt.plot(range(2, 11), silhouette_coefficients)\n",
        "plt.xticks(range(2, 11))\n",
        "plt.xlabel(\"Number of Clusters\")\n",
        "plt.ylabel(\"Silhouette Coefficient\")\n",
        "plt.show()"
      ],
      "metadata": {
        "colab": {
          "base_uri": "https://localhost:8080/",
          "height": 304
        },
        "id": "EHYYOusljaiw",
        "outputId": "f0e99c16-9850-43b8-8f16-600f626e0eb7"
      },
      "execution_count": 22,
      "outputs": [
        {
          "output_type": "display_data",
          "data": {
            "text/plain": [
              "<Figure size 432x288 with 1 Axes>"
            ],
            "image/png": "[encoded data removed]"
          },
          "metadata": {}
        }
      ]
    },
    {
      "cell_type": "code",
      "source": [
        "from sklearn.cluster import DBSCAN\n",
        "from sklearn.datasets import make_moons\n",
        "from sklearn.metrics import adjusted_rand_score"
      ],
      "metadata": {
        "id": "RnpOyId8jfRc"
      },
      "execution_count": 23,
      "outputs": []
    },
    {
      "cell_type": "code",
      "source": [
        "features = pb_investor_info[['total_investments', 'median_fund_size']]\n",
        "\n",
        "scaled_features_inv = scaler.fit_transform(features)"
      ],
      "metadata": {
        "id": "YD3J9Wm8jhMl"
      },
      "execution_count": 30,
      "outputs": []
    },
    {
      "cell_type": "code",
      "source": [
        "# Instantiate k-means and dbscan algorithms\n",
        "kmeans = KMeans(n_clusters=2)\n",
        "dbscan = DBSCAN(eps=0.3)\n",
        "\n",
        "# Fit the algorithms to the features\n",
        "kmeans.fit(scaled_features_inv)\n",
        "dbscan.fit(scaled_features_inv)\n",
        "\n",
        "# Compute the silhouette scores for each algorithm\n",
        "kmeans_silhouette = silhouette_score(\n",
        "    scaled_features_inv, kmeans.labels_\n",
        ").round(2)\n",
        "dbscan_silhouette = silhouette_score(\n",
        "   scaled_features_inv, dbscan.labels_\n",
        ").round (2)"
      ],
      "metadata": {
        "id": "xyRKaBozkqDR"
      },
      "execution_count": 31,
      "outputs": []
    },
    {
      "cell_type": "code",
      "source": [
        " kmeans_silhouette"
      ],
      "metadata": {
        "colab": {
          "base_uri": "https://localhost:8080/"
        },
        "id": "1mEF46zxktbg",
        "outputId": "162485be-9acf-450a-b920-76fbf332d16a"
      },
      "execution_count": 32,
      "outputs": [
        {
          "output_type": "execute_result",
          "data": {
            "text/plain": [
              "0.99"
            ]
          },
          "metadata": {},
          "execution_count": 32
        }
      ]
    },
    {
      "cell_type": "code",
      "source": [
        "dbscan_silhouette"
      ],
      "metadata": {
        "colab": {
          "base_uri": "https://localhost:8080/"
        },
        "id": "JvzvHB6qku5A",
        "outputId": "ae971bb9-5c19-4838-889c-eeb3ee28bb5c"
      },
      "execution_count": 33,
      "outputs": [
        {
          "output_type": "execute_result",
          "data": {
            "text/plain": [
              "0.86"
            ]
          },
          "metadata": {},
          "execution_count": 33
        }
      ]
    },
    {
      "cell_type": "code",
      "source": [
        "# Plot the data and cluster silhouette comparison\n",
        "fig, (ax1, ax2) = plt.subplots(\n",
        "    1, 2, figsize=(8, 6), sharex=True, sharey=True\n",
        ")\n",
        "fig.suptitle(f\"Clustering Algorithm Comparison: Crescents\", fontsize=16)\n",
        "fte_colors = {\n",
        "    0: \"#008fd5\",\n",
        "    1: \"#fc4f30\",\n",
        "}\n",
        "# The k-means plot\n",
        "km_colors = [fte_colors[label] for label in kmeans.labels_]\n",
        "ax1.scatter(scaled_features_inv[:, 0], scaled_features_inv[:, 1])\n",
        "ax1.set_title(\n",
        "    f\"k-means\\nSilhouette: {kmeans_silhouette}\", fontdict={\"fontsize\": 12}\n",
        ")\n",
        "\n",
        "# The dbscan plot\n",
        "db_colors = [fte_colors[label] for label in dbscan.labels_]\n",
        "ax2.scatter(scaled_features_inv[:, 0], scaled_features_inv[:, 1])\n",
        "ax2.set_title(\n",
        "    f\"DBSCAN\\nSilhouette: {dbscan_silhouette}\", fontdict={\"fontsize\": 12}\n",
        ")\n",
        "plt.show()"
      ],
      "metadata": {
        "colab": {
          "base_uri": "https://localhost:8080/",
          "height": 829
        },
        "id": "Dib3pLCOkxzB",
        "outputId": "272b13e2-7a59-4099-d23a-be0bbe76d349"
      },
      "execution_count": 35,
      "outputs": [
        {
          "output_type": "error",
          "ename": "KeyError",
          "evalue": "ignored",
          "traceback": [
            "\u001b[0;31m---------------------------------------------------------------------------\u001b[0m",
            "\u001b[0;31mKeyError\u001b[0m                                  Traceback (most recent call last)",
            "\u001b[0;32m<ipython-input-35-00a97bf36753>\u001b[0m in \u001b[0;36m<module>\u001b[0;34m()\u001b[0m\n\u001b[1;32m     16\u001b[0m \u001b[0;34m\u001b[0m\u001b[0m\n\u001b[1;32m     17\u001b[0m \u001b[0;31m# The dbscan plot\u001b[0m\u001b[0;34m\u001b[0m\u001b[0;34m\u001b[0m\u001b[0;34m\u001b[0m\u001b[0m\n\u001b[0;32m---> 18\u001b[0;31m \u001b[0mdb_colors\u001b[0m \u001b[0;34m=\u001b[0m \u001b[0;34m[\u001b[0m\u001b[0mfte_colors\u001b[0m\u001b[0;34m[\u001b[0m\u001b[0mlabel\u001b[0m\u001b[0;34m]\u001b[0m \u001b[0;32mfor\u001b[0m \u001b[0mlabel\u001b[0m \u001b[0;32min\u001b[0m \u001b[0mdbscan\u001b[0m\u001b[0;34m.\u001b[0m\u001b[0mlabels_\u001b[0m\u001b[0;34m]\u001b[0m\u001b[0;34m\u001b[0m\u001b[0;34m\u001b[0m\u001b[0m\n\u001b[0m\u001b[1;32m     19\u001b[0m \u001b[0max2\u001b[0m\u001b[0;34m.\u001b[0m\u001b[0mscatter\u001b[0m\u001b[0;34m(\u001b[0m\u001b[0mscaled_features_inv\u001b[0m\u001b[0;34m[\u001b[0m\u001b[0;34m:\u001b[0m\u001b[0;34m,\u001b[0m \u001b[0;36m0\u001b[0m\u001b[0;34m]\u001b[0m\u001b[0;34m,\u001b[0m \u001b[0mscaled_features_inv\u001b[0m\u001b[0;34m[\u001b[0m\u001b[0;34m:\u001b[0m\u001b[0;34m,\u001b[0m \u001b[0;36m1\u001b[0m\u001b[0;34m]\u001b[0m\u001b[0;34m)\u001b[0m\u001b[0;34m\u001b[0m\u001b[0;34m\u001b[0m\u001b[0m\n\u001b[1;32m     20\u001b[0m ax2.set_title(\n",
            "\u001b[0;32m<ipython-input-35-00a97bf36753>\u001b[0m in \u001b[0;36m<listcomp>\u001b[0;34m(.0)\u001b[0m\n\u001b[1;32m     16\u001b[0m \u001b[0;34m\u001b[0m\u001b[0m\n\u001b[1;32m     17\u001b[0m \u001b[0;31m# The dbscan plot\u001b[0m\u001b[0;34m\u001b[0m\u001b[0;34m\u001b[0m\u001b[0;34m\u001b[0m\u001b[0m\n\u001b[0;32m---> 18\u001b[0;31m \u001b[0mdb_colors\u001b[0m \u001b[0;34m=\u001b[0m \u001b[0;34m[\u001b[0m\u001b[0mfte_colors\u001b[0m\u001b[0;34m[\u001b[0m\u001b[0mlabel\u001b[0m\u001b[0;34m]\u001b[0m \u001b[0;32mfor\u001b[0m \u001b[0mlabel\u001b[0m \u001b[0;32min\u001b[0m \u001b[0mdbscan\u001b[0m\u001b[0;34m.\u001b[0m\u001b[0mlabels_\u001b[0m\u001b[0;34m]\u001b[0m\u001b[0;34m\u001b[0m\u001b[0;34m\u001b[0m\u001b[0m\n\u001b[0m\u001b[1;32m     19\u001b[0m \u001b[0max2\u001b[0m\u001b[0;34m.\u001b[0m\u001b[0mscatter\u001b[0m\u001b[0;34m(\u001b[0m\u001b[0mscaled_features_inv\u001b[0m\u001b[0;34m[\u001b[0m\u001b[0;34m:\u001b[0m\u001b[0;34m,\u001b[0m \u001b[0;36m0\u001b[0m\u001b[0;34m]\u001b[0m\u001b[0;34m,\u001b[0m \u001b[0mscaled_features_inv\u001b[0m\u001b[0;34m[\u001b[0m\u001b[0;34m:\u001b[0m\u001b[0;34m,\u001b[0m \u001b[0;36m1\u001b[0m\u001b[0;34m]\u001b[0m\u001b[0;34m)\u001b[0m\u001b[0;34m\u001b[0m\u001b[0;34m\u001b[0m\u001b[0m\n\u001b[1;32m     20\u001b[0m ax2.set_title(\n",
            "\u001b[0;31mKeyError\u001b[0m: -1"
          ]
        },
        {
          "output_type": "display_data",
          "data": {
            "text/plain": [
              "<Figure size 576x432 with 2 Axes>"
            ],
            "image/png": "[encoded data removed]"
          },
          "metadata": {}
        }
      ]
    },
    {
      "cell_type": "code",
      "source": [
        "x = pb_investor_info[['total_investments', 'median_fund_size']]"
      ],
      "metadata": {
        "id": "U4jTg0czlFIJ"
      },
      "execution_count": 36,
      "outputs": []
    },
    {
      "cell_type": "code",
      "source": [
        "kmeans_inv= KMeans(4)\n",
        "kmeans_inv.fit(x)"
      ],
      "metadata": {
        "colab": {
          "base_uri": "https://localhost:8080/"
        },
        "id": "OidaANy5lJY5",
        "outputId": "4ed3a410-12f1-4a12-b46e-c3104643415d"
      },
      "execution_count": 39,
      "outputs": [
        {
          "output_type": "execute_result",
          "data": {
            "text/plain": [
              "KMeans(n_clusters=4)"
            ]
          },
          "metadata": {},
          "execution_count": 39
        }
      ]
    },
    {
      "cell_type": "code",
      "source": [
        "identified_clusters = kmeans_inv.fit_predict(x)\n",
        "identified_clusters"
      ],
      "metadata": {
        "colab": {
          "base_uri": "https://localhost:8080/"
        },
        "id": "ZtmtxkoolLuZ",
        "outputId": "e51e4260-0190-452e-cc8b-f9540ef6ff83"
      },
      "execution_count": 40,
      "outputs": [
        {
          "output_type": "execute_result",
          "data": {
            "text/plain": [
              "array([0, 0, 0, ..., 0, 0, 0], dtype=int32)"
            ]
          },
          "metadata": {},
          "execution_count": 40
        }
      ]
    },
    {
      "cell_type": "code",
      "source": [
        ""
      ],
      "metadata": {
        "id": "oIoKRcrflS_0"
      },
      "execution_count": null,
      "outputs": []
    }
  ]
}