{
 "cells": [
  {
   "cell_type": "code",
   "execution_count": 5,
   "metadata": {},
   "outputs": [],
   "source": [
    "import pandas as pd\n",
    "import numpy as np\n",
    "import seaborn as sns\n",
    "import scipy as stats\n",
    "import matplotlib as mpl\n",
    "from matplotlib.pylab import plt\n",
    "import importlib"
   ]
  },
  {
   "cell_type": "code",
   "execution_count": 10,
   "metadata": {},
   "outputs": [
    {
     "data": {
      "text/html": [
       "<div>\n",
       "<style scoped>\n",
       "    .dataframe tbody tr th:only-of-type {\n",
       "        vertical-align: middle;\n",
       "    }\n",
       "\n",
       "    .dataframe tbody tr th {\n",
       "        vertical-align: top;\n",
       "    }\n",
       "\n",
       "    .dataframe thead th {\n",
       "        text-align: right;\n",
       "    }\n",
       "</style>\n",
       "<table border=\"1\" class=\"dataframe\">\n",
       "  <thead>\n",
       "    <tr style=\"text-align: right;\">\n",
       "      <th></th>\n",
       "      <th>lp_id</th>\n",
       "      <th>cmmt_in_vc_funds</th>\n",
       "      <th>total_cmmt_in_vc_funds</th>\n",
       "      <th>limited_partner_type</th>\n",
       "      <th>AUM</th>\n",
       "      <th>affliated_funds_num</th>\n",
       "      <th>affliated_investors_num</th>\n",
       "      <th>commitments</th>\n",
       "      <th>total_cmmt</th>\n",
       "      <th>hq_location</th>\n",
       "    </tr>\n",
       "  </thead>\n",
       "  <tbody>\n",
       "    <tr>\n",
       "      <th>0</th>\n",
       "      <td>1</td>\n",
       "      <td>22.0</td>\n",
       "      <td>43.0</td>\n",
       "      <td>Foundation</td>\n",
       "      <td>2000.00</td>\n",
       "      <td>28</td>\n",
       "      <td>22</td>\n",
       "      <td>28</td>\n",
       "      <td>68</td>\n",
       "      <td>Bethesda, MD</td>\n",
       "    </tr>\n",
       "    <tr>\n",
       "      <th>1</th>\n",
       "      <td>2</td>\n",
       "      <td>17.0</td>\n",
       "      <td>123.0</td>\n",
       "      <td>Foundation</td>\n",
       "      <td>8000.77</td>\n",
       "      <td>22</td>\n",
       "      <td>15</td>\n",
       "      <td>22</td>\n",
       "      <td>514</td>\n",
       "      <td>Chicago, IL</td>\n",
       "    </tr>\n",
       "    <tr>\n",
       "      <th>2</th>\n",
       "      <td>3</td>\n",
       "      <td>21.0</td>\n",
       "      <td>49.0</td>\n",
       "      <td>Government Agency</td>\n",
       "      <td>52000.00</td>\n",
       "      <td>21</td>\n",
       "      <td>14</td>\n",
       "      <td>21</td>\n",
       "      <td>78</td>\n",
       "      <td>Springfield, IL</td>\n",
       "    </tr>\n",
       "    <tr>\n",
       "      <th>3</th>\n",
       "      <td>4</td>\n",
       "      <td>10.0</td>\n",
       "      <td>178.0</td>\n",
       "      <td>Public Pension Fund</td>\n",
       "      <td>280000.00</td>\n",
       "      <td>21</td>\n",
       "      <td>15</td>\n",
       "      <td>21</td>\n",
       "      <td>1024</td>\n",
       "      <td>Albany, NY</td>\n",
       "    </tr>\n",
       "    <tr>\n",
       "      <th>4</th>\n",
       "      <td>5</td>\n",
       "      <td>17.0</td>\n",
       "      <td>542.0</td>\n",
       "      <td>Fund of Funds</td>\n",
       "      <td>3019.79</td>\n",
       "      <td>20</td>\n",
       "      <td>16</td>\n",
       "      <td>21</td>\n",
       "      <td>1069</td>\n",
       "      <td>Luxembourg, Luxembourg</td>\n",
       "    </tr>\n",
       "    <tr>\n",
       "      <th>...</th>\n",
       "      <td>...</td>\n",
       "      <td>...</td>\n",
       "      <td>...</td>\n",
       "      <td>...</td>\n",
       "      <td>...</td>\n",
       "      <td>...</td>\n",
       "      <td>...</td>\n",
       "      <td>...</td>\n",
       "      <td>...</td>\n",
       "      <td>...</td>\n",
       "    </tr>\n",
       "    <tr>\n",
       "      <th>620</th>\n",
       "      <td>621</td>\n",
       "      <td>2.0</td>\n",
       "      <td>2.0</td>\n",
       "      <td>Insurance Company</td>\n",
       "      <td>54107.70</td>\n",
       "      <td>2</td>\n",
       "      <td>1</td>\n",
       "      <td>2</td>\n",
       "      <td>6</td>\n",
       "      <td>Helsinki, Finland</td>\n",
       "    </tr>\n",
       "    <tr>\n",
       "      <th>621</th>\n",
       "      <td>622</td>\n",
       "      <td>NaN</td>\n",
       "      <td>4.0</td>\n",
       "      <td>Public Pension Fund</td>\n",
       "      <td>4000.00</td>\n",
       "      <td>2</td>\n",
       "      <td>1</td>\n",
       "      <td>2</td>\n",
       "      <td>149</td>\n",
       "      <td>San Antonio, TX</td>\n",
       "    </tr>\n",
       "    <tr>\n",
       "      <th>622</th>\n",
       "      <td>623</td>\n",
       "      <td>3.0</td>\n",
       "      <td>37.0</td>\n",
       "      <td>Public Pension Fund</td>\n",
       "      <td>10800.00</td>\n",
       "      <td>2</td>\n",
       "      <td>2</td>\n",
       "      <td>3</td>\n",
       "      <td>242</td>\n",
       "      <td>San Diego, CA</td>\n",
       "    </tr>\n",
       "    <tr>\n",
       "      <th>623</th>\n",
       "      <td>624</td>\n",
       "      <td>NaN</td>\n",
       "      <td>175.0</td>\n",
       "      <td>Public Pension Fund</td>\n",
       "      <td>34600.00</td>\n",
       "      <td>2</td>\n",
       "      <td>1</td>\n",
       "      <td>2</td>\n",
       "      <td>694</td>\n",
       "      <td>San Francisco, CA</td>\n",
       "    </tr>\n",
       "    <tr>\n",
       "      <th>624</th>\n",
       "      <td>625</td>\n",
       "      <td>1.0</td>\n",
       "      <td>2.0</td>\n",
       "      <td>Fund of Funds</td>\n",
       "      <td>329.62</td>\n",
       "      <td>2</td>\n",
       "      <td>2</td>\n",
       "      <td>2</td>\n",
       "      <td>12</td>\n",
       "      <td>Kitchener, Canada</td>\n",
       "    </tr>\n",
       "  </tbody>\n",
       "</table>\n",
       "<p>625 rows × 10 columns</p>\n",
       "</div>"
      ],
      "text/plain": [
       "     lp_id  cmmt_in_vc_funds  total_cmmt_in_vc_funds limited_partner_type  \\\n",
       "0        1              22.0                    43.0           Foundation   \n",
       "1        2              17.0                   123.0           Foundation   \n",
       "2        3              21.0                    49.0    Government Agency   \n",
       "3        4              10.0                   178.0  Public Pension Fund   \n",
       "4        5              17.0                   542.0        Fund of Funds   \n",
       "..     ...               ...                     ...                  ...   \n",
       "620    621               2.0                     2.0    Insurance Company   \n",
       "621    622               NaN                     4.0  Public Pension Fund   \n",
       "622    623               3.0                    37.0  Public Pension Fund   \n",
       "623    624               NaN                   175.0  Public Pension Fund   \n",
       "624    625               1.0                     2.0        Fund of Funds   \n",
       "\n",
       "           AUM  affliated_funds_num  affliated_investors_num  commitments  \\\n",
       "0      2000.00                   28                       22           28   \n",
       "1      8000.77                   22                       15           22   \n",
       "2     52000.00                   21                       14           21   \n",
       "3    280000.00                   21                       15           21   \n",
       "4      3019.79                   20                       16           21   \n",
       "..         ...                  ...                      ...          ...   \n",
       "620   54107.70                    2                        1            2   \n",
       "621    4000.00                    2                        1            2   \n",
       "622   10800.00                    2                        2            3   \n",
       "623   34600.00                    2                        1            2   \n",
       "624     329.62                    2                        2            2   \n",
       "\n",
       "    total_cmmt             hq_location  \n",
       "0           68            Bethesda, MD  \n",
       "1          514             Chicago, IL  \n",
       "2           78         Springfield, IL  \n",
       "3         1024              Albany, NY  \n",
       "4         1069  Luxembourg, Luxembourg  \n",
       "..         ...                     ...  \n",
       "620          6       Helsinki, Finland  \n",
       "621        149         San Antonio, TX  \n",
       "622        242           San Diego, CA  \n",
       "623        694       San Francisco, CA  \n",
       "624         12       Kitchener, Canada  \n",
       "\n",
       "[625 rows x 10 columns]"
      ]
     },
     "execution_count": 10,
     "metadata": {},
     "output_type": "execute_result"
    }
   ],
   "source": [
    "investor_id_pb = pd.read_excel('investor_id.xlsx')\n",
    "investor_info_pb = pd.read_excel('investor_info.xlsx')\n",
    "lp_id_pb = pd.read_excel('lp_id.xlsx')\n",
    "lp_info_pb = pd.read_excel('lp_info.xlsx')\n",
    "lp_info_pb"
   ]
  },
  {
   "cell_type": "code",
   "execution_count": 11,
   "metadata": {},
   "outputs": [
    {
     "data": {
      "text/plain": [
       "<seaborn.axisgrid.FacetGrid at 0x7f9840403c40>"
      ]
     },
     "execution_count": 11,
     "metadata": {},
     "output_type": "execute_result"
    },
    {
     "data": {
      "image/png": "[encoded data removed]",
      "text/plain": [
       "<Figure size 360x360 with 1 Axes>"
      ]
     },
     "metadata": {
      "needs_background": "light"
     },
     "output_type": "display_data"
    }
   ],
   "source": [
    "sns.catplot(x=\"limited_partner_type\", y=\"commitments\", jitter=False, data=lp_info_pb)"
   ]
  },
  {
   "cell_type": "code",
   "execution_count": 12,
   "metadata": {},
   "outputs": [
    {
     "data": {
      "text/plain": [
       "<seaborn.axisgrid.FacetGrid at 0x7f9830f29400>"
      ]
     },
     "execution_count": 12,
     "metadata": {},
     "output_type": "execute_result"
    },
    {
     "data": {
      "image/png": "[encoded data removed]",
      "text/plain": [
       "<Figure size 360x360 with 1 Axes>"
      ]
     },
     "metadata": {
      "needs_background": "light"
     },
     "output_type": "display_data"
    }
   ],
   "source": [
    "sns.catplot(x=\"limited_partner_type\", y=\"commitments\", kind=\"box\", data=lp_info_pb)"
   ]
  },
  {
   "cell_type": "code",
   "execution_count": null,
   "metadata": {},
   "outputs": [],
   "source": []
  }
 ],
 "metadata": {
  "kernelspec": {
   "display_name": "Python 3",
   "language": "python",
   "name": "python3"
  },
  "language_info": {
   "codemirror_mode": {
    "name": "ipython",
    "version": 3
   },
   "file_extension": ".py",
   "mimetype": "text/x-python",
   "name": "python",
   "nbconvert_exporter": "python",
   "pygments_lexer": "ipython3",
   "version": "3.8.5"
  }
 },
 "nbformat": 4,
 "nbformat_minor": 4
}
