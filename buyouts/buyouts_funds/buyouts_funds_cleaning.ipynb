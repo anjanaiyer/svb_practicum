{
 "cells": [
  {
   "cell_type": "code",
   "execution_count": 1,
   "id": "2aa0539a",
   "metadata": {},
   "outputs": [],
   "source": [
    "import pandas as pd\n",
    "import numpy as np"
   ]
  },
  {
   "cell_type": "code",
   "execution_count": 2,
   "id": "145d98eb",
   "metadata": {},
   "outputs": [],
   "source": [
    "pd.set_option('display.width', None)\n",
    "pd.set_option('display.max_colwidth', None)\n",
    "pd.set_option('display.max_rows',None)\n",
    "pd.set_option('display.max_columns', None)"
   ]
  },
  {
   "cell_type": "code",
   "execution_count": 3,
   "id": "dde9aa33",
   "metadata": {},
   "outputs": [],
   "source": [
    "df = pd.read_csv('buyouts_funds_csv/buyouts_fundManagers_funds.csv')"
   ]
  },
  {
   "cell_type": "code",
   "execution_count": 4,
   "id": "42d27759",
   "metadata": {
    "scrolled": true
   },
   "outputs": [
    {
     "data": {
      "text/html": [
       "<div>\n",
       "<style scoped>\n",
       "    .dataframe tbody tr th:only-of-type {\n",
       "        vertical-align: middle;\n",
       "    }\n",
       "\n",
       "    .dataframe tbody tr th {\n",
       "        vertical-align: top;\n",
       "    }\n",
       "\n",
       "    .dataframe thead th {\n",
       "        text-align: right;\n",
       "    }\n",
       "</style>\n",
       "<table border=\"1\" class=\"dataframe\">\n",
       "  <thead>\n",
       "    <tr style=\"text-align: right;\">\n",
       "      <th></th>\n",
       "      <th>fm_id</th>\n",
       "      <th>id</th>\n",
       "      <th>name</th>\n",
       "      <th>vintageYear</th>\n",
       "      <th>regions</th>\n",
       "      <th>sectors</th>\n",
       "      <th>strategies</th>\n",
       "      <th>fundSize.amount</th>\n",
       "      <th>fundSize.currency</th>\n",
       "      <th>targetFundSize.amount</th>\n",
       "      <th>targetFundSize.currency</th>\n",
       "    </tr>\n",
       "  </thead>\n",
       "  <tbody>\n",
       "    <tr>\n",
       "      <th>0</th>\n",
       "      <td>6381</td>\n",
       "      <td>6420</td>\n",
       "      <td>Ascent Venture Partners II</td>\n",
       "      <td>1995.0</td>\n",
       "      <td>North America</td>\n",
       "      <td>TMT</td>\n",
       "      <td>Venture Capital / Growth Equity</td>\n",
       "      <td>80000000.0</td>\n",
       "      <td>USD</td>\n",
       "      <td>0.0</td>\n",
       "      <td>USD</td>\n",
       "    </tr>\n",
       "    <tr>\n",
       "      <th>1</th>\n",
       "      <td>6381</td>\n",
       "      <td>8305</td>\n",
       "      <td>Ascent Venture Partners IV</td>\n",
       "      <td>2004.0</td>\n",
       "      <td>North America</td>\n",
       "      <td>TMT</td>\n",
       "      <td>Venture Capital / Growth Equity</td>\n",
       "      <td>140000000.0</td>\n",
       "      <td>USD</td>\n",
       "      <td>0.0</td>\n",
       "      <td>USD</td>\n",
       "    </tr>\n",
       "    <tr>\n",
       "      <th>2</th>\n",
       "      <td>6381</td>\n",
       "      <td>9222</td>\n",
       "      <td>Ascent Venture Partners V</td>\n",
       "      <td>2008.0</td>\n",
       "      <td>North America</td>\n",
       "      <td>TMT</td>\n",
       "      <td>Venture Capital / Growth Equity</td>\n",
       "      <td>81750000.0</td>\n",
       "      <td>USD</td>\n",
       "      <td>81750000.0</td>\n",
       "      <td>USD</td>\n",
       "    </tr>\n",
       "    <tr>\n",
       "      <th>3</th>\n",
       "      <td>6381</td>\n",
       "      <td>12856</td>\n",
       "      <td>Ascent Venture Partners III</td>\n",
       "      <td>1999.0</td>\n",
       "      <td>North America</td>\n",
       "      <td>TMT</td>\n",
       "      <td>Venture Capital / Growth Equity</td>\n",
       "      <td>115000000.0</td>\n",
       "      <td>USD</td>\n",
       "      <td>0.0</td>\n",
       "      <td>USD</td>\n",
       "    </tr>\n",
       "    <tr>\n",
       "      <th>4</th>\n",
       "      <td>6381</td>\n",
       "      <td>34846</td>\n",
       "      <td>Ascent Venture Partners VI</td>\n",
       "      <td>2015.0</td>\n",
       "      <td>North America</td>\n",
       "      <td>TMT</td>\n",
       "      <td>Venture Capital / Growth Equity</td>\n",
       "      <td>71050000.0</td>\n",
       "      <td>USD</td>\n",
       "      <td>150000000.0</td>\n",
       "      <td>USD</td>\n",
       "    </tr>\n",
       "  </tbody>\n",
       "</table>\n",
       "</div>"
      ],
      "text/plain": [
       "   fm_id     id                         name  vintageYear        regions  \\\n",
       "0   6381   6420   Ascent Venture Partners II       1995.0  North America   \n",
       "1   6381   8305   Ascent Venture Partners IV       2004.0  North America   \n",
       "2   6381   9222    Ascent Venture Partners V       2008.0  North America   \n",
       "3   6381  12856  Ascent Venture Partners III       1999.0  North America   \n",
       "4   6381  34846   Ascent Venture Partners VI       2015.0  North America   \n",
       "\n",
       "  sectors                       strategies  fundSize.amount fundSize.currency  \\\n",
       "0     TMT  Venture Capital / Growth Equity       80000000.0               USD   \n",
       "1     TMT  Venture Capital / Growth Equity      140000000.0               USD   \n",
       "2     TMT  Venture Capital / Growth Equity       81750000.0               USD   \n",
       "3     TMT  Venture Capital / Growth Equity      115000000.0               USD   \n",
       "4     TMT  Venture Capital / Growth Equity       71050000.0               USD   \n",
       "\n",
       "   targetFundSize.amount targetFundSize.currency  \n",
       "0                    0.0                     USD  \n",
       "1                    0.0                     USD  \n",
       "2             81750000.0                     USD  \n",
       "3                    0.0                     USD  \n",
       "4            150000000.0                     USD  "
      ]
     },
     "execution_count": 4,
     "metadata": {},
     "output_type": "execute_result"
    }
   ],
   "source": [
    "df.head()"
   ]
  },
  {
   "cell_type": "code",
   "execution_count": 5,
   "id": "4ac5801b",
   "metadata": {},
   "outputs": [],
   "source": [
    "df.columns = [\n",
    "    'fm_id',\n",
    "    'fund_id',\n",
    "    'fund_name',\n",
    "    'vintage_year',\n",
    "    'region',\n",
    "    'sector',\n",
    "    'strategy',\n",
    "    'fund_size_amt',\n",
    "    'fund_currency',\n",
    "    'target_fund_size_amt',\n",
    "    'target_fund_size_currency',\n",
    "    \n",
    "]"
   ]
  },
  {
   "cell_type": "code",
   "execution_count": 6,
   "id": "12151166",
   "metadata": {
    "scrolled": true
   },
   "outputs": [
    {
     "data": {
      "text/plain": [
       "30594"
      ]
     },
     "execution_count": 6,
     "metadata": {},
     "output_type": "execute_result"
    }
   ],
   "source": [
    "df.shape[0]"
   ]
  },
  {
   "cell_type": "code",
   "execution_count": 7,
   "id": "32b59b3a",
   "metadata": {},
   "outputs": [],
   "source": [
    "df['fm_fund_history_id'] = np.random.randint(1,df.shape[0] , df.shape[0])"
   ]
  },
  {
   "cell_type": "code",
   "execution_count": 8,
   "id": "66d01d35",
   "metadata": {},
   "outputs": [],
   "source": [
    "list_of_columns = df.columns.tolist()"
   ]
  },
  {
   "cell_type": "code",
   "execution_count": 9,
   "id": "7a8c0c99",
   "metadata": {},
   "outputs": [],
   "source": [
    "list_of_columns.insert(0, list_of_columns.pop(-1))"
   ]
  },
  {
   "cell_type": "code",
   "execution_count": 10,
   "id": "27e2df43",
   "metadata": {},
   "outputs": [],
   "source": [
    "df = df.reindex(columns=list_of_columns)"
   ]
  },
  {
   "cell_type": "code",
   "execution_count": 11,
   "id": "07932eaf",
   "metadata": {
    "scrolled": true
   },
   "outputs": [
    {
     "data": {
      "text/html": [
       "<div>\n",
       "<style scoped>\n",
       "    .dataframe tbody tr th:only-of-type {\n",
       "        vertical-align: middle;\n",
       "    }\n",
       "\n",
       "    .dataframe tbody tr th {\n",
       "        vertical-align: top;\n",
       "    }\n",
       "\n",
       "    .dataframe thead th {\n",
       "        text-align: right;\n",
       "    }\n",
       "</style>\n",
       "<table border=\"1\" class=\"dataframe\">\n",
       "  <thead>\n",
       "    <tr style=\"text-align: right;\">\n",
       "      <th></th>\n",
       "      <th>fm_fund_id</th>\n",
       "      <th>fm_id</th>\n",
       "      <th>fund_id</th>\n",
       "      <th>fund_name</th>\n",
       "      <th>vintage_year</th>\n",
       "      <th>region</th>\n",
       "      <th>sector</th>\n",
       "      <th>strategy</th>\n",
       "      <th>fund_size_amt</th>\n",
       "      <th>fund_currency</th>\n",
       "      <th>target_fund_size_amt</th>\n",
       "      <th>target_fund_size_currency</th>\n",
       "    </tr>\n",
       "  </thead>\n",
       "  <tbody>\n",
       "    <tr>\n",
       "      <th>0</th>\n",
       "      <td>13177</td>\n",
       "      <td>6381</td>\n",
       "      <td>6420</td>\n",
       "      <td>Ascent Venture Partners II</td>\n",
       "      <td>1995.0</td>\n",
       "      <td>North America</td>\n",
       "      <td>TMT</td>\n",
       "      <td>Venture Capital / Growth Equity</td>\n",
       "      <td>80000000.0</td>\n",
       "      <td>USD</td>\n",
       "      <td>0.0</td>\n",
       "      <td>USD</td>\n",
       "    </tr>\n",
       "    <tr>\n",
       "      <th>1</th>\n",
       "      <td>20214</td>\n",
       "      <td>6381</td>\n",
       "      <td>8305</td>\n",
       "      <td>Ascent Venture Partners IV</td>\n",
       "      <td>2004.0</td>\n",
       "      <td>North America</td>\n",
       "      <td>TMT</td>\n",
       "      <td>Venture Capital / Growth Equity</td>\n",
       "      <td>140000000.0</td>\n",
       "      <td>USD</td>\n",
       "      <td>0.0</td>\n",
       "      <td>USD</td>\n",
       "    </tr>\n",
       "    <tr>\n",
       "      <th>2</th>\n",
       "      <td>14443</td>\n",
       "      <td>6381</td>\n",
       "      <td>9222</td>\n",
       "      <td>Ascent Venture Partners V</td>\n",
       "      <td>2008.0</td>\n",
       "      <td>North America</td>\n",
       "      <td>TMT</td>\n",
       "      <td>Venture Capital / Growth Equity</td>\n",
       "      <td>81750000.0</td>\n",
       "      <td>USD</td>\n",
       "      <td>81750000.0</td>\n",
       "      <td>USD</td>\n",
       "    </tr>\n",
       "    <tr>\n",
       "      <th>3</th>\n",
       "      <td>4241</td>\n",
       "      <td>6381</td>\n",
       "      <td>12856</td>\n",
       "      <td>Ascent Venture Partners III</td>\n",
       "      <td>1999.0</td>\n",
       "      <td>North America</td>\n",
       "      <td>TMT</td>\n",
       "      <td>Venture Capital / Growth Equity</td>\n",
       "      <td>115000000.0</td>\n",
       "      <td>USD</td>\n",
       "      <td>0.0</td>\n",
       "      <td>USD</td>\n",
       "    </tr>\n",
       "    <tr>\n",
       "      <th>4</th>\n",
       "      <td>22137</td>\n",
       "      <td>6381</td>\n",
       "      <td>34846</td>\n",
       "      <td>Ascent Venture Partners VI</td>\n",
       "      <td>2015.0</td>\n",
       "      <td>North America</td>\n",
       "      <td>TMT</td>\n",
       "      <td>Venture Capital / Growth Equity</td>\n",
       "      <td>71050000.0</td>\n",
       "      <td>USD</td>\n",
       "      <td>150000000.0</td>\n",
       "      <td>USD</td>\n",
       "    </tr>\n",
       "  </tbody>\n",
       "</table>\n",
       "</div>"
      ],
      "text/plain": [
       "   fm_fund_id  fm_id  fund_id                    fund_name  vintage_year  \\\n",
       "0       13177   6381     6420   Ascent Venture Partners II        1995.0   \n",
       "1       20214   6381     8305   Ascent Venture Partners IV        2004.0   \n",
       "2       14443   6381     9222    Ascent Venture Partners V        2008.0   \n",
       "3        4241   6381    12856  Ascent Venture Partners III        1999.0   \n",
       "4       22137   6381    34846   Ascent Venture Partners VI        2015.0   \n",
       "\n",
       "          region sector                         strategy  fund_size_amt  \\\n",
       "0  North America    TMT  Venture Capital / Growth Equity     80000000.0   \n",
       "1  North America    TMT  Venture Capital / Growth Equity    140000000.0   \n",
       "2  North America    TMT  Venture Capital / Growth Equity     81750000.0   \n",
       "3  North America    TMT  Venture Capital / Growth Equity    115000000.0   \n",
       "4  North America    TMT  Venture Capital / Growth Equity     71050000.0   \n",
       "\n",
       "  fund_currency  target_fund_size_amt target_fund_size_currency  \n",
       "0           USD                   0.0                       USD  \n",
       "1           USD                   0.0                       USD  \n",
       "2           USD            81750000.0                       USD  \n",
       "3           USD                   0.0                       USD  \n",
       "4           USD           150000000.0                       USD  "
      ]
     },
     "execution_count": 11,
     "metadata": {},
     "output_type": "execute_result"
    }
   ],
   "source": [
    "df.head()"
   ]
  },
  {
   "cell_type": "code",
   "execution_count": 12,
   "id": "76d7413b",
   "metadata": {},
   "outputs": [],
   "source": [
    "df.drop('fund_name', axis = 1, inplace = True)"
   ]
  },
  {
   "cell_type": "code",
   "execution_count": 13,
   "id": "0e39509a",
   "metadata": {},
   "outputs": [],
   "source": [
    "df['vintage_year'] = df['vintage_year'].fillna(0)"
   ]
  },
  {
   "cell_type": "code",
   "execution_count": 14,
   "id": "c4c5be90",
   "metadata": {},
   "outputs": [],
   "source": [
    "df['vintage_year'] = df['vintage_year'].astype(int)"
   ]
  },
  {
   "cell_type": "code",
   "execution_count": 16,
   "id": "25636d5e",
   "metadata": {},
   "outputs": [],
   "source": [
    "df.to_csv('buyouts_funds_csv/buyouts_fm_fund_history.csv', index = False)"
   ]
  },
  {
   "cell_type": "code",
   "execution_count": null,
   "id": "685214cb",
   "metadata": {},
   "outputs": [],
   "source": []
  },
  {
   "cell_type": "code",
   "execution_count": 31,
   "id": "d14d8d00",
   "metadata": {},
   "outputs": [],
   "source": [
    "df2 = pd.read_csv('buyouts_funds_csv/buyouts_funds_uncleaned.csv')"
   ]
  },
  {
   "cell_type": "code",
   "execution_count": 32,
   "id": "e99e7f28",
   "metadata": {
    "scrolled": true
   },
   "outputs": [
    {
     "data": {
      "text/html": [
       "<div>\n",
       "<style scoped>\n",
       "    .dataframe tbody tr th:only-of-type {\n",
       "        vertical-align: middle;\n",
       "    }\n",
       "\n",
       "    .dataframe tbody tr th {\n",
       "        vertical-align: top;\n",
       "    }\n",
       "\n",
       "    .dataframe thead th {\n",
       "        text-align: right;\n",
       "    }\n",
       "</style>\n",
       "<table border=\"1\" class=\"dataframe\">\n",
       "  <thead>\n",
       "    <tr style=\"text-align: right;\">\n",
       "      <th></th>\n",
       "      <th>fund_id</th>\n",
       "      <th>name</th>\n",
       "      <th>manager</th>\n",
       "      <th>managerId</th>\n",
       "      <th>sectors</th>\n",
       "      <th>vintageYear</th>\n",
       "      <th>regions</th>\n",
       "      <th>countries</th>\n",
       "      <th>status</th>\n",
       "      <th>strategies</th>\n",
       "      <th>yearOpen</th>\n",
       "      <th>targetFundSize.amount</th>\n",
       "      <th>targetFundSize.currency</th>\n",
       "      <th>monthOpen</th>\n",
       "      <th>fundSize.amount</th>\n",
       "      <th>fundSize.currency</th>\n",
       "      <th>stage</th>\n",
       "      <th>yearClose</th>\n",
       "      <th>monthClose</th>\n",
       "    </tr>\n",
       "  </thead>\n",
       "  <tbody>\n",
       "    <tr>\n",
       "      <th>0</th>\n",
       "      <td>34866</td>\n",
       "      <td>Ascent Venture Partners VII</td>\n",
       "      <td>Ascent Venture Partners</td>\n",
       "      <td>6381</td>\n",
       "      <td>TMT</td>\n",
       "      <td>2020.0</td>\n",
       "      <td>North America</td>\n",
       "      <td>United States</td>\n",
       "      <td>Launched</td>\n",
       "      <td>Venture Capital / Growth Equity</td>\n",
       "      <td>2020.0</td>\n",
       "      <td>150000000.0</td>\n",
       "      <td>USD</td>\n",
       "      <td>NaN</td>\n",
       "      <td>NaN</td>\n",
       "      <td>NaN</td>\n",
       "      <td>NaN</td>\n",
       "      <td>NaN</td>\n",
       "      <td>NaN</td>\n",
       "    </tr>\n",
       "    <tr>\n",
       "      <th>1</th>\n",
       "      <td>36284</td>\n",
       "      <td>Fall Line Endurance Fund (Open-Ended)</td>\n",
       "      <td>Fall Line Capital</td>\n",
       "      <td>15168</td>\n",
       "      <td>TMT</td>\n",
       "      <td>2019.0</td>\n",
       "      <td>North America</td>\n",
       "      <td>United States</td>\n",
       "      <td>Currently Investing</td>\n",
       "      <td>Venture Capital / Growth Equity</td>\n",
       "      <td>2016.0</td>\n",
       "      <td>NaN</td>\n",
       "      <td>NaN</td>\n",
       "      <td>7.0</td>\n",
       "      <td>285000000.0</td>\n",
       "      <td>USD</td>\n",
       "      <td>NaN</td>\n",
       "      <td>NaN</td>\n",
       "      <td>NaN</td>\n",
       "    </tr>\n",
       "    <tr>\n",
       "      <th>2</th>\n",
       "      <td>36284</td>\n",
       "      <td>Fall Line Endurance Fund (Open-Ended)</td>\n",
       "      <td>Fall Line Capital</td>\n",
       "      <td>15168</td>\n",
       "      <td>Agribusiness</td>\n",
       "      <td>2019.0</td>\n",
       "      <td>North America</td>\n",
       "      <td>United States</td>\n",
       "      <td>Currently Investing</td>\n",
       "      <td>Venture Capital / Growth Equity</td>\n",
       "      <td>2016.0</td>\n",
       "      <td>NaN</td>\n",
       "      <td>NaN</td>\n",
       "      <td>7.0</td>\n",
       "      <td>285000000.0</td>\n",
       "      <td>USD</td>\n",
       "      <td>NaN</td>\n",
       "      <td>NaN</td>\n",
       "      <td>NaN</td>\n",
       "    </tr>\n",
       "    <tr>\n",
       "      <th>3</th>\n",
       "      <td>39769</td>\n",
       "      <td>Star Mountain U.S. LMM Secondary Fund II</td>\n",
       "      <td>Star Mountain Capital</td>\n",
       "      <td>1671</td>\n",
       "      <td>Diversified</td>\n",
       "      <td>2020.0</td>\n",
       "      <td>North America</td>\n",
       "      <td>United States</td>\n",
       "      <td>Currently Investing</td>\n",
       "      <td>Secondaries</td>\n",
       "      <td>2020.0</td>\n",
       "      <td>500000000.0</td>\n",
       "      <td>USD</td>\n",
       "      <td>12.0</td>\n",
       "      <td>200000000.0</td>\n",
       "      <td>USD</td>\n",
       "      <td>1st Close</td>\n",
       "      <td>NaN</td>\n",
       "      <td>NaN</td>\n",
       "    </tr>\n",
       "    <tr>\n",
       "      <th>4</th>\n",
       "      <td>43372</td>\n",
       "      <td>Waterfall Sentinel Fund I</td>\n",
       "      <td>Waterfall Asset Management</td>\n",
       "      <td>19136</td>\n",
       "      <td>Diversified</td>\n",
       "      <td>2019.0</td>\n",
       "      <td>North America</td>\n",
       "      <td>United States</td>\n",
       "      <td>Currently Investing</td>\n",
       "      <td>Buyout / Corporate Private Equity</td>\n",
       "      <td>2019.0</td>\n",
       "      <td>300000000.0</td>\n",
       "      <td>USD</td>\n",
       "      <td>1.0</td>\n",
       "      <td>80000000.0</td>\n",
       "      <td>USD</td>\n",
       "      <td>1st Close</td>\n",
       "      <td>NaN</td>\n",
       "      <td>NaN</td>\n",
       "    </tr>\n",
       "  </tbody>\n",
       "</table>\n",
       "</div>"
      ],
      "text/plain": [
       "   fund_id                                      name  \\\n",
       "0    34866               Ascent Venture Partners VII   \n",
       "1    36284     Fall Line Endurance Fund (Open-Ended)   \n",
       "2    36284     Fall Line Endurance Fund (Open-Ended)   \n",
       "3    39769  Star Mountain U.S. LMM Secondary Fund II   \n",
       "4    43372                 Waterfall Sentinel Fund I   \n",
       "\n",
       "                      manager  managerId       sectors  vintageYear  \\\n",
       "0     Ascent Venture Partners       6381           TMT       2020.0   \n",
       "1           Fall Line Capital      15168           TMT       2019.0   \n",
       "2           Fall Line Capital      15168  Agribusiness       2019.0   \n",
       "3       Star Mountain Capital       1671   Diversified       2020.0   \n",
       "4  Waterfall Asset Management      19136   Diversified       2019.0   \n",
       "\n",
       "         regions      countries               status  \\\n",
       "0  North America  United States             Launched   \n",
       "1  North America  United States  Currently Investing   \n",
       "2  North America  United States  Currently Investing   \n",
       "3  North America  United States  Currently Investing   \n",
       "4  North America  United States  Currently Investing   \n",
       "\n",
       "                          strategies  yearOpen  targetFundSize.amount  \\\n",
       "0    Venture Capital / Growth Equity    2020.0            150000000.0   \n",
       "1    Venture Capital / Growth Equity    2016.0                    NaN   \n",
       "2    Venture Capital / Growth Equity    2016.0                    NaN   \n",
       "3                        Secondaries    2020.0            500000000.0   \n",
       "4  Buyout / Corporate Private Equity    2019.0            300000000.0   \n",
       "\n",
       "  targetFundSize.currency  monthOpen  fundSize.amount fundSize.currency  \\\n",
       "0                     USD        NaN              NaN               NaN   \n",
       "1                     NaN        7.0      285000000.0               USD   \n",
       "2                     NaN        7.0      285000000.0               USD   \n",
       "3                     USD       12.0      200000000.0               USD   \n",
       "4                     USD        1.0       80000000.0               USD   \n",
       "\n",
       "       stage  yearClose  monthClose  \n",
       "0        NaN        NaN         NaN  \n",
       "1        NaN        NaN         NaN  \n",
       "2        NaN        NaN         NaN  \n",
       "3  1st Close        NaN         NaN  \n",
       "4  1st Close        NaN         NaN  "
      ]
     },
     "execution_count": 32,
     "metadata": {},
     "output_type": "execute_result"
    }
   ],
   "source": [
    "df2.head()"
   ]
  },
  {
   "cell_type": "code",
   "execution_count": 33,
   "id": "a0b86db6",
   "metadata": {},
   "outputs": [
    {
     "data": {
      "text/plain": [
       "1826"
      ]
     },
     "execution_count": 33,
     "metadata": {},
     "output_type": "execute_result"
    }
   ],
   "source": [
    "df2.managerId.nunique()"
   ]
  },
  {
   "cell_type": "code",
   "execution_count": 34,
   "id": "9527f868",
   "metadata": {},
   "outputs": [],
   "source": [
    "fund_managers = df2.filter(['managerId', 'manager'], axis=1)"
   ]
  },
  {
   "cell_type": "code",
   "execution_count": 35,
   "id": "20118359",
   "metadata": {
    "scrolled": false
   },
   "outputs": [
    {
     "data": {
      "text/html": [
       "<div>\n",
       "<style scoped>\n",
       "    .dataframe tbody tr th:only-of-type {\n",
       "        vertical-align: middle;\n",
       "    }\n",
       "\n",
       "    .dataframe tbody tr th {\n",
       "        vertical-align: top;\n",
       "    }\n",
       "\n",
       "    .dataframe thead th {\n",
       "        text-align: right;\n",
       "    }\n",
       "</style>\n",
       "<table border=\"1\" class=\"dataframe\">\n",
       "  <thead>\n",
       "    <tr style=\"text-align: right;\">\n",
       "      <th></th>\n",
       "      <th>managerId</th>\n",
       "      <th>manager</th>\n",
       "    </tr>\n",
       "  </thead>\n",
       "  <tbody>\n",
       "    <tr>\n",
       "      <th>0</th>\n",
       "      <td>6381</td>\n",
       "      <td>Ascent Venture Partners</td>\n",
       "    </tr>\n",
       "    <tr>\n",
       "      <th>1</th>\n",
       "      <td>15168</td>\n",
       "      <td>Fall Line Capital</td>\n",
       "    </tr>\n",
       "    <tr>\n",
       "      <th>2</th>\n",
       "      <td>15168</td>\n",
       "      <td>Fall Line Capital</td>\n",
       "    </tr>\n",
       "    <tr>\n",
       "      <th>3</th>\n",
       "      <td>1671</td>\n",
       "      <td>Star Mountain Capital</td>\n",
       "    </tr>\n",
       "    <tr>\n",
       "      <th>4</th>\n",
       "      <td>19136</td>\n",
       "      <td>Waterfall Asset Management</td>\n",
       "    </tr>\n",
       "  </tbody>\n",
       "</table>\n",
       "</div>"
      ],
      "text/plain": [
       "   managerId                     manager\n",
       "0       6381     Ascent Venture Partners\n",
       "1      15168           Fall Line Capital\n",
       "2      15168           Fall Line Capital\n",
       "3       1671       Star Mountain Capital\n",
       "4      19136  Waterfall Asset Management"
      ]
     },
     "execution_count": 35,
     "metadata": {},
     "output_type": "execute_result"
    }
   ],
   "source": [
    "fund_managers.head()"
   ]
  },
  {
   "cell_type": "code",
   "execution_count": 36,
   "id": "c91e7fa8",
   "metadata": {},
   "outputs": [],
   "source": [
    "fund_managers.columns =['fm_id',\n",
    "                     'fm_name']"
   ]
  },
  {
   "cell_type": "code",
   "execution_count": 38,
   "id": "cad6cc84",
   "metadata": {},
   "outputs": [],
   "source": [
    "fund_managers.to_csv('buyouts_funds_csv/buyouts_fm_id.csv', index = False)"
   ]
  },
  {
   "cell_type": "code",
   "execution_count": null,
   "id": "2e8c4fd9",
   "metadata": {},
   "outputs": [],
   "source": []
  },
  {
   "cell_type": "code",
   "execution_count": 39,
   "id": "55aa088e",
   "metadata": {},
   "outputs": [],
   "source": [
    "df3 = pd.read_csv('buyouts_funds_csv/fm_office.csv')"
   ]
  },
  {
   "cell_type": "code",
   "execution_count": 40,
   "id": "b82a4141",
   "metadata": {
    "scrolled": false
   },
   "outputs": [
    {
     "data": {
      "text/html": [
       "<div>\n",
       "<style scoped>\n",
       "    .dataframe tbody tr th:only-of-type {\n",
       "        vertical-align: middle;\n",
       "    }\n",
       "\n",
       "    .dataframe tbody tr th {\n",
       "        vertical-align: top;\n",
       "    }\n",
       "\n",
       "    .dataframe thead th {\n",
       "        text-align: right;\n",
       "    }\n",
       "</style>\n",
       "<table border=\"1\" class=\"dataframe\">\n",
       "  <thead>\n",
       "    <tr style=\"text-align: right;\">\n",
       "      <th></th>\n",
       "      <th>fm_id</th>\n",
       "      <th>country</th>\n",
       "      <th>countyState</th>\n",
       "      <th>phoneNumber</th>\n",
       "      <th>city</th>\n",
       "      <th>streetAddress</th>\n",
       "      <th>webAddress</th>\n",
       "      <th>postalCode</th>\n",
       "      <th>region</th>\n",
       "      <th>headOffice</th>\n",
       "      <th>emailAddress</th>\n",
       "    </tr>\n",
       "  </thead>\n",
       "  <tbody>\n",
       "    <tr>\n",
       "      <th>0</th>\n",
       "      <td>6381</td>\n",
       "      <td>United States</td>\n",
       "      <td>Massachusetts</td>\n",
       "      <td>1 617 720 9400</td>\n",
       "      <td>Bedford</td>\n",
       "      <td>255 State Street, 5th Floor</td>\n",
       "      <td>www.ascentvp.com</td>\n",
       "      <td>01730</td>\n",
       "      <td>North America</td>\n",
       "      <td>True</td>\n",
       "      <td>NaN</td>\n",
       "    </tr>\n",
       "    <tr>\n",
       "      <th>1</th>\n",
       "      <td>15168</td>\n",
       "      <td>United States</td>\n",
       "      <td>California</td>\n",
       "      <td>1 650 235 4032</td>\n",
       "      <td>San Mateo</td>\n",
       "      <td>119 South B Street</td>\n",
       "      <td>www.fall-line-capital.com</td>\n",
       "      <td>94401</td>\n",
       "      <td>North America</td>\n",
       "      <td>True</td>\n",
       "      <td>info@fall-line-cap.com</td>\n",
       "    </tr>\n",
       "    <tr>\n",
       "      <th>2</th>\n",
       "      <td>1671</td>\n",
       "      <td>United States</td>\n",
       "      <td>New York</td>\n",
       "      <td>1 212 810 9044</td>\n",
       "      <td>New York</td>\n",
       "      <td>2 Grand Central Tower 140 E. 45th Street, 37th Floor</td>\n",
       "      <td>www.starmountaincapital.com</td>\n",
       "      <td>10017</td>\n",
       "      <td>North America</td>\n",
       "      <td>True</td>\n",
       "      <td>info@starmountaincapital.com</td>\n",
       "    </tr>\n",
       "    <tr>\n",
       "      <th>3</th>\n",
       "      <td>1671</td>\n",
       "      <td>United States</td>\n",
       "      <td>Georgia</td>\n",
       "      <td>NaN</td>\n",
       "      <td>Atlanta</td>\n",
       "      <td>1230 Peachtree Street,  Suite 1900</td>\n",
       "      <td>NaN</td>\n",
       "      <td>30309</td>\n",
       "      <td>North America</td>\n",
       "      <td>False</td>\n",
       "      <td>NaN</td>\n",
       "    </tr>\n",
       "    <tr>\n",
       "      <th>4</th>\n",
       "      <td>1671</td>\n",
       "      <td>United States</td>\n",
       "      <td>Ohio</td>\n",
       "      <td>NaN</td>\n",
       "      <td>Cleveland</td>\n",
       "      <td>Crown Center,5005 Rockside Road,  Suite 600</td>\n",
       "      <td>NaN</td>\n",
       "      <td>44131</td>\n",
       "      <td>North America</td>\n",
       "      <td>False</td>\n",
       "      <td>NaN</td>\n",
       "    </tr>\n",
       "  </tbody>\n",
       "</table>\n",
       "</div>"
      ],
      "text/plain": [
       "   fm_id        country    countyState     phoneNumber       city  \\\n",
       "0   6381  United States  Massachusetts  1 617 720 9400    Bedford   \n",
       "1  15168  United States     California  1 650 235 4032  San Mateo   \n",
       "2   1671  United States       New York  1 212 810 9044   New York   \n",
       "3   1671  United States        Georgia             NaN    Atlanta   \n",
       "4   1671  United States           Ohio             NaN  Cleveland   \n",
       "\n",
       "                                          streetAddress  \\\n",
       "0                           255 State Street, 5th Floor   \n",
       "1                                    119 South B Street   \n",
       "2  2 Grand Central Tower 140 E. 45th Street, 37th Floor   \n",
       "3                    1230 Peachtree Street,  Suite 1900   \n",
       "4           Crown Center,5005 Rockside Road,  Suite 600   \n",
       "\n",
       "                    webAddress postalCode         region  headOffice  \\\n",
       "0             www.ascentvp.com      01730  North America        True   \n",
       "1    www.fall-line-capital.com      94401  North America        True   \n",
       "2  www.starmountaincapital.com      10017  North America        True   \n",
       "3                          NaN      30309  North America       False   \n",
       "4                          NaN      44131  North America       False   \n",
       "\n",
       "                   emailAddress  \n",
       "0                           NaN  \n",
       "1        info@fall-line-cap.com  \n",
       "2  info@starmountaincapital.com  \n",
       "3                           NaN  \n",
       "4                           NaN  "
      ]
     },
     "execution_count": 40,
     "metadata": {},
     "output_type": "execute_result"
    }
   ],
   "source": [
    "df3.head()"
   ]
  },
  {
   "cell_type": "code",
   "execution_count": 41,
   "id": "a133dbf4",
   "metadata": {},
   "outputs": [],
   "source": [
    "df3.columns =[\n",
    "    'fm_id',\n",
    "    'country',\n",
    "    'state',\n",
    "    'phone',\n",
    "    'city',\n",
    "    'street_address',\n",
    "    'web_address',\n",
    "    'postal_code',\n",
    "    'region',\n",
    "    'head_office',\n",
    "    'email'\n",
    "]"
   ]
  },
  {
   "cell_type": "code",
   "execution_count": 42,
   "id": "f03b2bc3",
   "metadata": {},
   "outputs": [],
   "source": [
    "df3['fm_office_id'] = np.random.randint(1,df3.shape[0] , df3.shape[0])"
   ]
  },
  {
   "cell_type": "code",
   "execution_count": 43,
   "id": "4f7b253f",
   "metadata": {},
   "outputs": [],
   "source": [
    "list_of_columns3 = df3.columns.tolist()"
   ]
  },
  {
   "cell_type": "code",
   "execution_count": 44,
   "id": "3cba4a88",
   "metadata": {},
   "outputs": [],
   "source": [
    "list_of_columns3.insert(0, list_of_columns3.pop(-1))"
   ]
  },
  {
   "cell_type": "code",
   "execution_count": 45,
   "id": "ffba362c",
   "metadata": {},
   "outputs": [],
   "source": [
    "list_of_columns3.insert(2, list_of_columns3.pop(-3))"
   ]
  },
  {
   "cell_type": "code",
   "execution_count": 46,
   "id": "67d2b8a6",
   "metadata": {},
   "outputs": [],
   "source": [
    "list_of_columns3.insert(df3.columns.get_loc('street_address')+3,list_of_columns3.pop(-3))"
   ]
  },
  {
   "cell_type": "code",
   "execution_count": 47,
   "id": "2235585a",
   "metadata": {},
   "outputs": [],
   "source": [
    "list_of_columns3.insert(df3.columns.get_loc('postal_code') + 1, list_of_columns3.pop(5))"
   ]
  },
  {
   "cell_type": "code",
   "execution_count": 48,
   "id": "1a44f6a6",
   "metadata": {},
   "outputs": [],
   "source": [
    "list_of_columns3.insert(-2, list_of_columns3.pop(-1))"
   ]
  },
  {
   "cell_type": "code",
   "execution_count": 49,
   "id": "b4113187",
   "metadata": {
    "scrolled": false
   },
   "outputs": [
    {
     "data": {
      "text/plain": [
       "['fm_office_id',\n",
       " 'fm_id',\n",
       " 'region',\n",
       " 'country',\n",
       " 'state',\n",
       " 'city',\n",
       " 'street_address',\n",
       " 'postal_code',\n",
       " 'phone',\n",
       " 'email',\n",
       " 'web_address',\n",
       " 'head_office']"
      ]
     },
     "execution_count": 49,
     "metadata": {},
     "output_type": "execute_result"
    }
   ],
   "source": [
    "list_of_columns3[0:]"
   ]
  },
  {
   "cell_type": "code",
   "execution_count": 50,
   "id": "94897fbe",
   "metadata": {},
   "outputs": [],
   "source": [
    "df3 = df3.reindex(columns= list_of_columns3)"
   ]
  },
  {
   "cell_type": "code",
   "execution_count": 51,
   "id": "1bb85dcc",
   "metadata": {},
   "outputs": [],
   "source": [
    "df3.to_csv('buyouts_funds_csv/buyouts_fm_office.csv', index = False)"
   ]
  },
  {
   "cell_type": "code",
   "execution_count": null,
   "id": "da370b3c",
   "metadata": {},
   "outputs": [],
   "source": []
  },
  {
   "cell_type": "code",
   "execution_count": 52,
   "id": "b495a437",
   "metadata": {},
   "outputs": [],
   "source": [
    "df4 = pd.read_csv('buyouts_funds_csv/fm_contact.csv')"
   ]
  },
  {
   "cell_type": "code",
   "execution_count": 53,
   "id": "304eebc3",
   "metadata": {
    "scrolled": false
   },
   "outputs": [
    {
     "data": {
      "text/html": [
       "<div>\n",
       "<style scoped>\n",
       "    .dataframe tbody tr th:only-of-type {\n",
       "        vertical-align: middle;\n",
       "    }\n",
       "\n",
       "    .dataframe tbody tr th {\n",
       "        vertical-align: top;\n",
       "    }\n",
       "\n",
       "    .dataframe thead th {\n",
       "        text-align: right;\n",
       "    }\n",
       "</style>\n",
       "<table border=\"1\" class=\"dataframe\">\n",
       "  <thead>\n",
       "    <tr style=\"text-align: right;\">\n",
       "      <th></th>\n",
       "      <th>fm_id</th>\n",
       "      <th>firstname</th>\n",
       "      <th>surname</th>\n",
       "      <th>title</th>\n",
       "      <th>jobTitle</th>\n",
       "      <th>email</th>\n",
       "      <th>townCity</th>\n",
       "      <th>countryName</th>\n",
       "      <th>telephone</th>\n",
       "    </tr>\n",
       "  </thead>\n",
       "  <tbody>\n",
       "    <tr>\n",
       "      <th>0</th>\n",
       "      <td>6381</td>\n",
       "      <td>Luke</td>\n",
       "      <td>Burns</td>\n",
       "      <td>Mr.</td>\n",
       "      <td>General Partner</td>\n",
       "      <td>lburns@ascentvp.com</td>\n",
       "      <td>Bedford</td>\n",
       "      <td>United States</td>\n",
       "      <td>NaN</td>\n",
       "    </tr>\n",
       "    <tr>\n",
       "      <th>1</th>\n",
       "      <td>6381</td>\n",
       "      <td>Christopher</td>\n",
       "      <td>Dick</td>\n",
       "      <td>Mr.</td>\n",
       "      <td>Founding Partner and General Partner</td>\n",
       "      <td>cdick@ascentvp.com</td>\n",
       "      <td>Bedford</td>\n",
       "      <td>United States</td>\n",
       "      <td>NaN</td>\n",
       "    </tr>\n",
       "    <tr>\n",
       "      <th>2</th>\n",
       "      <td>6381</td>\n",
       "      <td>Matt</td>\n",
       "      <td>Fates</td>\n",
       "      <td>Mr.</td>\n",
       "      <td>General Partner</td>\n",
       "      <td>mfates@ascentvp.com</td>\n",
       "      <td>Bedford</td>\n",
       "      <td>United States</td>\n",
       "      <td>NaN</td>\n",
       "    </tr>\n",
       "    <tr>\n",
       "      <th>3</th>\n",
       "      <td>6381</td>\n",
       "      <td>Geoffrey (Geoff)</td>\n",
       "      <td>Oblak</td>\n",
       "      <td>Mr.</td>\n",
       "      <td>General Partner</td>\n",
       "      <td>goblak@ascentvp.com</td>\n",
       "      <td>Bedford</td>\n",
       "      <td>United States</td>\n",
       "      <td>NaN</td>\n",
       "    </tr>\n",
       "    <tr>\n",
       "      <th>4</th>\n",
       "      <td>6381</td>\n",
       "      <td>Brian</td>\n",
       "      <td>Girvan</td>\n",
       "      <td>Mr.</td>\n",
       "      <td>General Partner</td>\n",
       "      <td>bgirvan@ascentvp.com</td>\n",
       "      <td>Bedford</td>\n",
       "      <td>United States</td>\n",
       "      <td>NaN</td>\n",
       "    </tr>\n",
       "  </tbody>\n",
       "</table>\n",
       "</div>"
      ],
      "text/plain": [
       "   fm_id          firstname surname title  \\\n",
       "0   6381               Luke   Burns   Mr.   \n",
       "1   6381        Christopher    Dick   Mr.   \n",
       "2   6381               Matt   Fates   Mr.   \n",
       "3   6381  Geoffrey (Geoff)    Oblak   Mr.   \n",
       "4   6381              Brian  Girvan   Mr.   \n",
       "\n",
       "                               jobTitle                 email townCity  \\\n",
       "0                       General Partner   lburns@ascentvp.com  Bedford   \n",
       "1  Founding Partner and General Partner    cdick@ascentvp.com  Bedford   \n",
       "2                       General Partner   mfates@ascentvp.com  Bedford   \n",
       "3                      General Partner    goblak@ascentvp.com  Bedford   \n",
       "4                      General Partner   bgirvan@ascentvp.com  Bedford   \n",
       "\n",
       "     countryName telephone  \n",
       "0  United States       NaN  \n",
       "1  United States       NaN  \n",
       "2  United States       NaN  \n",
       "3  United States       NaN  \n",
       "4  United States       NaN  "
      ]
     },
     "execution_count": 53,
     "metadata": {},
     "output_type": "execute_result"
    }
   ],
   "source": [
    "df4.head()"
   ]
  },
  {
   "cell_type": "code",
   "execution_count": 54,
   "id": "45c5790f",
   "metadata": {},
   "outputs": [],
   "source": [
    "df4.columns =[\n",
    "    'fm_id',\n",
    "    'first_name',\n",
    "    'surname',\n",
    "    'title',\n",
    "    'job_title',\n",
    "    'email',\n",
    "    'city',\n",
    "    'country',\n",
    "    'phone'\n",
    "]"
   ]
  },
  {
   "cell_type": "code",
   "execution_count": 55,
   "id": "ecf5c5fe",
   "metadata": {},
   "outputs": [],
   "source": [
    "df4['fm_contact_id'] = np.random.randint(1,df4.shape[0] , df4.shape[0])"
   ]
  },
  {
   "cell_type": "code",
   "execution_count": 56,
   "id": "e0a55d68",
   "metadata": {},
   "outputs": [],
   "source": [
    "list_of_columns4 = df4.columns.tolist()"
   ]
  },
  {
   "cell_type": "code",
   "execution_count": 57,
   "id": "77f4f019",
   "metadata": {
    "scrolled": true
   },
   "outputs": [
    {
     "data": {
      "text/plain": [
       "['fm_id',\n",
       " 'first_name',\n",
       " 'surname',\n",
       " 'title',\n",
       " 'job_title',\n",
       " 'email',\n",
       " 'city',\n",
       " 'country',\n",
       " 'phone',\n",
       " 'fm_contact_id']"
      ]
     },
     "execution_count": 57,
     "metadata": {},
     "output_type": "execute_result"
    }
   ],
   "source": [
    "list_of_columns4[0:]"
   ]
  },
  {
   "cell_type": "code",
   "execution_count": 58,
   "id": "524a373b",
   "metadata": {},
   "outputs": [],
   "source": [
    "list_of_columns4.insert(0, list_of_columns4.pop(-1))"
   ]
  },
  {
   "cell_type": "code",
   "execution_count": 59,
   "id": "10bd2531",
   "metadata": {},
   "outputs": [],
   "source": [
    "df4 = df4.reindex(columns= list_of_columns4)"
   ]
  },
  {
   "cell_type": "code",
   "execution_count": 60,
   "id": "a77a630d",
   "metadata": {},
   "outputs": [],
   "source": [
    "df4.to_csv('buyouts_funds_csv/buyouts_fm_contact.csv', index = False)"
   ]
  },
  {
   "cell_type": "code",
   "execution_count": null,
   "id": "e7c10d15",
   "metadata": {},
   "outputs": [],
   "source": []
  },
  {
   "cell_type": "code",
   "execution_count": 61,
   "id": "a08f17b6",
   "metadata": {},
   "outputs": [],
   "source": [
    "df5 = pd.read_csv('buyouts_funds_csv/fm_sectors.csv')"
   ]
  },
  {
   "cell_type": "code",
   "execution_count": 62,
   "id": "3898cba6",
   "metadata": {
    "scrolled": true
   },
   "outputs": [
    {
     "data": {
      "text/html": [
       "<div>\n",
       "<style scoped>\n",
       "    .dataframe tbody tr th:only-of-type {\n",
       "        vertical-align: middle;\n",
       "    }\n",
       "\n",
       "    .dataframe tbody tr th {\n",
       "        vertical-align: top;\n",
       "    }\n",
       "\n",
       "    .dataframe thead th {\n",
       "        text-align: right;\n",
       "    }\n",
       "</style>\n",
       "<table border=\"1\" class=\"dataframe\">\n",
       "  <thead>\n",
       "    <tr style=\"text-align: right;\">\n",
       "      <th></th>\n",
       "      <th>fm_id</th>\n",
       "      <th>sector</th>\n",
       "      <th>hasAppetite</th>\n",
       "    </tr>\n",
       "  </thead>\n",
       "  <tbody>\n",
       "    <tr>\n",
       "      <th>0</th>\n",
       "      <td>1671</td>\n",
       "      <td>Agribusiness</td>\n",
       "      <td>False</td>\n",
       "    </tr>\n",
       "    <tr>\n",
       "      <th>1</th>\n",
       "      <td>1671</td>\n",
       "      <td>Biotech / Life Science</td>\n",
       "      <td>False</td>\n",
       "    </tr>\n",
       "    <tr>\n",
       "      <th>2</th>\n",
       "      <td>1671</td>\n",
       "      <td>Business Services</td>\n",
       "      <td>False</td>\n",
       "    </tr>\n",
       "    <tr>\n",
       "      <th>3</th>\n",
       "      <td>1671</td>\n",
       "      <td>Clean Tech / Renewable</td>\n",
       "      <td>False</td>\n",
       "    </tr>\n",
       "    <tr>\n",
       "      <th>4</th>\n",
       "      <td>1671</td>\n",
       "      <td>Consumer Goods</td>\n",
       "      <td>False</td>\n",
       "    </tr>\n",
       "  </tbody>\n",
       "</table>\n",
       "</div>"
      ],
      "text/plain": [
       "   fm_id                  sector hasAppetite\n",
       "0   1671            Agribusiness       False\n",
       "1   1671  Biotech / Life Science       False\n",
       "2   1671       Business Services       False\n",
       "3   1671  Clean Tech / Renewable       False\n",
       "4   1671          Consumer Goods       False"
      ]
     },
     "execution_count": 62,
     "metadata": {},
     "output_type": "execute_result"
    }
   ],
   "source": [
    "df5.head()"
   ]
  },
  {
   "cell_type": "code",
   "execution_count": 63,
   "id": "965dcc7b",
   "metadata": {
    "scrolled": false
   },
   "outputs": [
    {
     "data": {
      "text/html": [
       "<div>\n",
       "<style scoped>\n",
       "    .dataframe tbody tr th:only-of-type {\n",
       "        vertical-align: middle;\n",
       "    }\n",
       "\n",
       "    .dataframe tbody tr th {\n",
       "        vertical-align: top;\n",
       "    }\n",
       "\n",
       "    .dataframe thead th {\n",
       "        text-align: right;\n",
       "    }\n",
       "</style>\n",
       "<table border=\"1\" class=\"dataframe\">\n",
       "  <thead>\n",
       "    <tr style=\"text-align: right;\">\n",
       "      <th></th>\n",
       "      <th>fm_id</th>\n",
       "      <th>sector</th>\n",
       "      <th>hasAppetite</th>\n",
       "    </tr>\n",
       "  </thead>\n",
       "  <tbody>\n",
       "    <tr>\n",
       "      <th>124657</th>\n",
       "      <td>18204</td>\n",
       "      <td>Natural Resources</td>\n",
       "      <td>False</td>\n",
       "    </tr>\n",
       "    <tr>\n",
       "      <th>124658</th>\n",
       "      <td>18204</td>\n",
       "      <td>Other</td>\n",
       "      <td>False</td>\n",
       "    </tr>\n",
       "    <tr>\n",
       "      <th>124659</th>\n",
       "      <td>18204</td>\n",
       "      <td>Retail</td>\n",
       "      <td>False</td>\n",
       "    </tr>\n",
       "    <tr>\n",
       "      <th>124660</th>\n",
       "      <td>18204</td>\n",
       "      <td>TMT</td>\n",
       "      <td>False</td>\n",
       "    </tr>\n",
       "    <tr>\n",
       "      <th>124661</th>\n",
       "      <td>18204</td>\n",
       "      <td>Transport</td>\n",
       "      <td>False</td>\n",
       "    </tr>\n",
       "  </tbody>\n",
       "</table>\n",
       "</div>"
      ],
      "text/plain": [
       "        fm_id             sector hasAppetite\n",
       "124657  18204  Natural Resources       False\n",
       "124658  18204              Other       False\n",
       "124659  18204             Retail       False\n",
       "124660  18204                TMT       False\n",
       "124661  18204          Transport       False"
      ]
     },
     "execution_count": 63,
     "metadata": {},
     "output_type": "execute_result"
    }
   ],
   "source": [
    "df5.tail()"
   ]
  },
  {
   "cell_type": "code",
   "execution_count": 64,
   "id": "80a8677b",
   "metadata": {
    "scrolled": true
   },
   "outputs": [
    {
     "data": {
      "text/plain": [
       "213"
      ]
     },
     "execution_count": 64,
     "metadata": {},
     "output_type": "execute_result"
    }
   ],
   "source": [
    "df5.fm_id.nunique()"
   ]
  },
  {
   "cell_type": "code",
   "execution_count": 65,
   "id": "4b9eb322",
   "metadata": {},
   "outputs": [],
   "source": [
    "df5.columns =[\n",
    "    'fm_id',\n",
    "    'sector',\n",
    "    'has_appetite'\n",
    "]"
   ]
  },
  {
   "cell_type": "code",
   "execution_count": 66,
   "id": "8975e64f",
   "metadata": {
    "scrolled": false
   },
   "outputs": [],
   "source": [
    "df5 = df5.drop_duplicates()"
   ]
  },
  {
   "cell_type": "code",
   "execution_count": 67,
   "id": "d56eea04",
   "metadata": {},
   "outputs": [],
   "source": [
    "df5['fm_sector_id']= np.random.randint(1,df5.shape[0] , df5.shape[0])"
   ]
  },
  {
   "cell_type": "code",
   "execution_count": 68,
   "id": "07abd711",
   "metadata": {},
   "outputs": [],
   "source": [
    "list_of_columns5 = df5.columns.tolist()"
   ]
  },
  {
   "cell_type": "code",
   "execution_count": 69,
   "id": "6a8e9f57",
   "metadata": {},
   "outputs": [],
   "source": [
    "list_of_columns5.insert(0, list_of_columns5.pop(-1))"
   ]
  },
  {
   "cell_type": "code",
   "execution_count": 70,
   "id": "f20da279",
   "metadata": {},
   "outputs": [],
   "source": [
    "df5 = df5.reindex(columns= list_of_columns5)"
   ]
  },
  {
   "cell_type": "code",
   "execution_count": 71,
   "id": "f09a6773",
   "metadata": {},
   "outputs": [],
   "source": [
    "df5.to_csv('buyouts_funds_csv/buyouts_fm_sectors.csv', index = False)"
   ]
  },
  {
   "cell_type": "code",
   "execution_count": null,
   "id": "f2ce9666",
   "metadata": {},
   "outputs": [],
   "source": []
  },
  {
   "cell_type": "code",
   "execution_count": 72,
   "id": "2883ad8a",
   "metadata": {},
   "outputs": [],
   "source": [
    "df6 = pd.read_csv('buyouts_funds_csv/fm_strategy.csv')"
   ]
  },
  {
   "cell_type": "code",
   "execution_count": 73,
   "id": "6dc74571",
   "metadata": {
    "scrolled": true
   },
   "outputs": [
    {
     "data": {
      "text/html": [
       "<div>\n",
       "<style scoped>\n",
       "    .dataframe tbody tr th:only-of-type {\n",
       "        vertical-align: middle;\n",
       "    }\n",
       "\n",
       "    .dataframe tbody tr th {\n",
       "        vertical-align: top;\n",
       "    }\n",
       "\n",
       "    .dataframe thead th {\n",
       "        text-align: right;\n",
       "    }\n",
       "</style>\n",
       "<table border=\"1\" class=\"dataframe\">\n",
       "  <thead>\n",
       "    <tr style=\"text-align: right;\">\n",
       "      <th></th>\n",
       "      <th>fm_id</th>\n",
       "      <th>regions</th>\n",
       "      <th>strategy</th>\n",
       "    </tr>\n",
       "  </thead>\n",
       "  <tbody>\n",
       "    <tr>\n",
       "      <th>0</th>\n",
       "      <td>1671</td>\n",
       "      <td>North America</td>\n",
       "      <td>Fund of Funds / Co-Investment</td>\n",
       "    </tr>\n",
       "    <tr>\n",
       "      <th>1</th>\n",
       "      <td>1671</td>\n",
       "      <td>North America</td>\n",
       "      <td>Fund of Funds / Co-Investment</td>\n",
       "    </tr>\n",
       "    <tr>\n",
       "      <th>2</th>\n",
       "      <td>1671</td>\n",
       "      <td>North America</td>\n",
       "      <td>Mezzanine / Debt</td>\n",
       "    </tr>\n",
       "    <tr>\n",
       "      <th>3</th>\n",
       "      <td>1671</td>\n",
       "      <td>North America</td>\n",
       "      <td>Mezzanine / Debt</td>\n",
       "    </tr>\n",
       "    <tr>\n",
       "      <th>4</th>\n",
       "      <td>1671</td>\n",
       "      <td>North America</td>\n",
       "      <td>Secondaries</td>\n",
       "    </tr>\n",
       "  </tbody>\n",
       "</table>\n",
       "</div>"
      ],
      "text/plain": [
       "   fm_id        regions                       strategy\n",
       "0   1671  North America  Fund of Funds / Co-Investment\n",
       "1   1671  North America  Fund of Funds / Co-Investment\n",
       "2   1671  North America               Mezzanine / Debt\n",
       "3   1671  North America               Mezzanine / Debt\n",
       "4   1671  North America                    Secondaries"
      ]
     },
     "execution_count": 73,
     "metadata": {},
     "output_type": "execute_result"
    }
   ],
   "source": [
    "df6.head()"
   ]
  },
  {
   "cell_type": "code",
   "execution_count": 74,
   "id": "2300f97e",
   "metadata": {
    "scrolled": true
   },
   "outputs": [
    {
     "data": {
      "text/plain": [
       "213"
      ]
     },
     "execution_count": 74,
     "metadata": {},
     "output_type": "execute_result"
    }
   ],
   "source": [
    "df6.fm_id.nunique()"
   ]
  },
  {
   "cell_type": "code",
   "execution_count": 75,
   "id": "ad8d78aa",
   "metadata": {},
   "outputs": [],
   "source": [
    "df6 = df6.drop_duplicates()"
   ]
  },
  {
   "cell_type": "code",
   "execution_count": 76,
   "id": "96efe352",
   "metadata": {},
   "outputs": [],
   "source": [
    "df6['fm_strategy_id']= np.random.randint(1,df6.shape[0] , df6.shape[0])"
   ]
  },
  {
   "cell_type": "code",
   "execution_count": 77,
   "id": "0e408055",
   "metadata": {},
   "outputs": [],
   "source": [
    "list_of_columns6 = df6.columns.tolist()"
   ]
  },
  {
   "cell_type": "code",
   "execution_count": 78,
   "id": "1b4d067b",
   "metadata": {},
   "outputs": [],
   "source": [
    "list_of_columns6.insert(0, list_of_columns6.pop(-1))"
   ]
  },
  {
   "cell_type": "code",
   "execution_count": 79,
   "id": "e3e49445",
   "metadata": {},
   "outputs": [],
   "source": [
    "df6 = df6.reindex(columns= list_of_columns6)"
   ]
  },
  {
   "cell_type": "code",
   "execution_count": 80,
   "id": "1244980b",
   "metadata": {},
   "outputs": [],
   "source": [
    "df6.to_csv('buyouts_funds_csv/buyouts_fm_strategy.csv', index = False)"
   ]
  },
  {
   "cell_type": "code",
   "execution_count": null,
   "id": "e6927848",
   "metadata": {},
   "outputs": [],
   "source": []
  },
  {
   "cell_type": "code",
   "execution_count": 81,
   "id": "edcb5ff6",
   "metadata": {},
   "outputs": [],
   "source": [
    "df7 = pd.read_csv('buyouts_funds_csv/buyouts_historical_funds.csv')"
   ]
  },
  {
   "cell_type": "code",
   "execution_count": 82,
   "id": "79ee5c1f",
   "metadata": {
    "scrolled": false
   },
   "outputs": [
    {
     "data": {
      "text/html": [
       "<div>\n",
       "<style scoped>\n",
       "    .dataframe tbody tr th:only-of-type {\n",
       "        vertical-align: middle;\n",
       "    }\n",
       "\n",
       "    .dataframe tbody tr th {\n",
       "        vertical-align: top;\n",
       "    }\n",
       "\n",
       "    .dataframe thead th {\n",
       "        text-align: right;\n",
       "    }\n",
       "</style>\n",
       "<table border=\"1\" class=\"dataframe\">\n",
       "  <thead>\n",
       "    <tr style=\"text-align: right;\">\n",
       "      <th></th>\n",
       "      <th>fund_id</th>\n",
       "      <th>fund_name</th>\n",
       "      <th>manager_id</th>\n",
       "      <th>manager</th>\n",
       "      <th>close_year</th>\n",
       "      <th>strategy</th>\n",
       "      <th>fund_size_amt</th>\n",
       "      <th>fund_currency</th>\n",
       "    </tr>\n",
       "  </thead>\n",
       "  <tbody>\n",
       "    <tr>\n",
       "      <th>0</th>\n",
       "      <td>10011</td>\n",
       "      <td>IPF II</td>\n",
       "      <td>5553.0</td>\n",
       "      <td>iD TechVentures</td>\n",
       "      <td>2004</td>\n",
       "      <td>Venture Capital / Growth Equity</td>\n",
       "      <td>540000000.0</td>\n",
       "      <td>USD</td>\n",
       "    </tr>\n",
       "    <tr>\n",
       "      <th>1</th>\n",
       "      <td>10048</td>\n",
       "      <td>Fortune IC Fund</td>\n",
       "      <td>5532.0</td>\n",
       "      <td>Fortune Venture Investment Group</td>\n",
       "      <td>2005</td>\n",
       "      <td>Venture Capital / Growth Equity</td>\n",
       "      <td>13000000.0</td>\n",
       "      <td>USD</td>\n",
       "    </tr>\n",
       "    <tr>\n",
       "      <th>2</th>\n",
       "      <td>10111</td>\n",
       "      <td>Harbinger II Venture Capital</td>\n",
       "      <td>5542.0</td>\n",
       "      <td>Harbinger Venture Management</td>\n",
       "      <td>2000</td>\n",
       "      <td>Venture Capital / Growth Equity</td>\n",
       "      <td>10000000.0</td>\n",
       "      <td>USD</td>\n",
       "    </tr>\n",
       "    <tr>\n",
       "      <th>3</th>\n",
       "      <td>10144</td>\n",
       "      <td>4D Global Energy Development Capital Fund I</td>\n",
       "      <td>6822.0</td>\n",
       "      <td>4D Global Energy Advisors</td>\n",
       "      <td>2003</td>\n",
       "      <td>Venture Capital / Growth Equity</td>\n",
       "      <td>81000000.0</td>\n",
       "      <td>USD</td>\n",
       "    </tr>\n",
       "    <tr>\n",
       "      <th>4</th>\n",
       "      <td>10192</td>\n",
       "      <td>FPCI Innovation III</td>\n",
       "      <td>6426.0</td>\n",
       "      <td>Innovation Capital</td>\n",
       "      <td>2001</td>\n",
       "      <td>Venture Capital / Growth Equity</td>\n",
       "      <td>50000000.0</td>\n",
       "      <td>EUR</td>\n",
       "    </tr>\n",
       "  </tbody>\n",
       "</table>\n",
       "</div>"
      ],
      "text/plain": [
       "   fund_id                                    fund_name  manager_id  \\\n",
       "0    10011                                       IPF II      5553.0   \n",
       "1    10048                              Fortune IC Fund      5532.0   \n",
       "2    10111                 Harbinger II Venture Capital      5542.0   \n",
       "3    10144  4D Global Energy Development Capital Fund I      6822.0   \n",
       "4    10192                          FPCI Innovation III      6426.0   \n",
       "\n",
       "                            manager  close_year  \\\n",
       "0                   iD TechVentures        2004   \n",
       "1  Fortune Venture Investment Group        2005   \n",
       "2      Harbinger Venture Management        2000   \n",
       "3         4D Global Energy Advisors        2003   \n",
       "4                Innovation Capital        2001   \n",
       "\n",
       "                          strategy  fund_size_amt fund_currency  \n",
       "0  Venture Capital / Growth Equity    540000000.0           USD  \n",
       "1  Venture Capital / Growth Equity     13000000.0           USD  \n",
       "2  Venture Capital / Growth Equity     10000000.0           USD  \n",
       "3  Venture Capital / Growth Equity     81000000.0           USD  \n",
       "4  Venture Capital / Growth Equity     50000000.0           EUR  "
      ]
     },
     "execution_count": 82,
     "metadata": {},
     "output_type": "execute_result"
    }
   ],
   "source": [
    "df7.head()"
   ]
  },
  {
   "cell_type": "code",
   "execution_count": 95,
   "id": "334c146b",
   "metadata": {},
   "outputs": [
    {
     "data": {
      "text/html": [
       "<div>\n",
       "<style scoped>\n",
       "    .dataframe tbody tr th:only-of-type {\n",
       "        vertical-align: middle;\n",
       "    }\n",
       "\n",
       "    .dataframe tbody tr th {\n",
       "        vertical-align: top;\n",
       "    }\n",
       "\n",
       "    .dataframe thead th {\n",
       "        text-align: right;\n",
       "    }\n",
       "</style>\n",
       "<table border=\"1\" class=\"dataframe\">\n",
       "  <thead>\n",
       "    <tr style=\"text-align: right;\">\n",
       "      <th></th>\n",
       "      <th>fund_id</th>\n",
       "      <th>fund_name</th>\n",
       "      <th>manager_id</th>\n",
       "      <th>manager</th>\n",
       "      <th>close_year</th>\n",
       "      <th>strategy</th>\n",
       "      <th>fund_size_amt</th>\n",
       "      <th>fund_currency</th>\n",
       "    </tr>\n",
       "  </thead>\n",
       "  <tbody>\n",
       "    <tr>\n",
       "      <th>765</th>\n",
       "      <td>23717</td>\n",
       "      <td>Warburg Pincus Associates</td>\n",
       "      <td>5591.0</td>\n",
       "      <td>Warburg Pincus</td>\n",
       "      <td>1980</td>\n",
       "      <td>Venture Capital / Growth Equity</td>\n",
       "      <td>101000000.0</td>\n",
       "      <td>USD</td>\n",
       "    </tr>\n",
       "    <tr>\n",
       "      <th>298</th>\n",
       "      <td>14874</td>\n",
       "      <td>Kleiner Perkins Caufield &amp; Byers II</td>\n",
       "      <td>6562.0</td>\n",
       "      <td>Kleiner Perkins</td>\n",
       "      <td>1980</td>\n",
       "      <td>Venture Capital / Growth Equity</td>\n",
       "      <td>55000000.0</td>\n",
       "      <td>USD</td>\n",
       "    </tr>\n",
       "    <tr>\n",
       "      <th>32</th>\n",
       "      <td>10708</td>\n",
       "      <td>TA Associates / Advent IV</td>\n",
       "      <td>6694.0</td>\n",
       "      <td>TA Associates</td>\n",
       "      <td>1980</td>\n",
       "      <td>Venture Capital / Growth Equity</td>\n",
       "      <td>60000000.0</td>\n",
       "      <td>USD</td>\n",
       "    </tr>\n",
       "    <tr>\n",
       "      <th>428</th>\n",
       "      <td>15603</td>\n",
       "      <td>Excelsior Fund</td>\n",
       "      <td>6373.0</td>\n",
       "      <td>Apax Partners</td>\n",
       "      <td>1981</td>\n",
       "      <td>Venture Capital / Growth Equity</td>\n",
       "      <td>25530000.0</td>\n",
       "      <td>USD</td>\n",
       "    </tr>\n",
       "    <tr>\n",
       "      <th>358</th>\n",
       "      <td>15213</td>\n",
       "      <td>New Enterprise Associates II</td>\n",
       "      <td>6610.0</td>\n",
       "      <td>New Enterprise Associates</td>\n",
       "      <td>1981</td>\n",
       "      <td>Venture Capital / Growth Equity</td>\n",
       "      <td>45310000.0</td>\n",
       "      <td>USD</td>\n",
       "    </tr>\n",
       "  </tbody>\n",
       "</table>\n",
       "</div>"
      ],
      "text/plain": [
       "     fund_id                            fund_name  manager_id  \\\n",
       "765    23717            Warburg Pincus Associates      5591.0   \n",
       "298    14874  Kleiner Perkins Caufield & Byers II      6562.0   \n",
       "32     10708            TA Associates / Advent IV      6694.0   \n",
       "428    15603                       Excelsior Fund      6373.0   \n",
       "358    15213         New Enterprise Associates II      6610.0   \n",
       "\n",
       "                       manager  close_year                         strategy  \\\n",
       "765             Warburg Pincus        1980  Venture Capital / Growth Equity   \n",
       "298            Kleiner Perkins        1980  Venture Capital / Growth Equity   \n",
       "32               TA Associates        1980  Venture Capital / Growth Equity   \n",
       "428              Apax Partners        1981  Venture Capital / Growth Equity   \n",
       "358  New Enterprise Associates        1981  Venture Capital / Growth Equity   \n",
       "\n",
       "     fund_size_amt fund_currency  \n",
       "765    101000000.0           USD  \n",
       "298     55000000.0           USD  \n",
       "32      60000000.0           USD  \n",
       "428     25530000.0           USD  \n",
       "358     45310000.0           USD  "
      ]
     },
     "execution_count": 95,
     "metadata": {},
     "output_type": "execute_result"
    }
   ],
   "source": [
    "sorted_df7 = df7.sort_values(by=['close_year'], ascending=True)\n",
    "sorted_df7.head()"
   ]
  },
  {
   "cell_type": "code",
   "execution_count": 98,
   "id": "e7e653a5",
   "metadata": {},
   "outputs": [],
   "source": [
    "sorted_df7.to_csv('buyouts_funds_csv/buyouts_historical_funds.csv', index=False)"
   ]
  },
  {
   "cell_type": "code",
   "execution_count": null,
   "id": "f847adfa",
   "metadata": {},
   "outputs": [],
   "source": []
  }
 ],
 "metadata": {
  "kernelspec": {
   "display_name": "Python 3 (ipykernel)",
   "language": "python",
   "name": "python3"
  },
  "language_info": {
   "codemirror_mode": {
    "name": "ipython",
    "version": 3
   },
   "file_extension": ".py",
   "mimetype": "text/x-python",
   "name": "python",
   "nbconvert_exporter": "python",
   "pygments_lexer": "ipython3",
   "version": "3.8.5"
  }
 },
 "nbformat": 4,
 "nbformat_minor": 5
}
