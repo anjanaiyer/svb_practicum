{
 "cells": [
  {
   "cell_type": "code",
   "execution_count": 1,
   "id": "68ce824d",
   "metadata": {},
   "outputs": [],
   "source": [
    "from IPython.core.interactiveshell import InteractiveShell\n",
    "InteractiveShell.ast_node_interactivity = \"all\"\n",
    "\n",
    "import pandas as pd\n",
    "import numpy as np\n",
    "import seaborn as sns\n",
    "import matplotlib.pyplot as plt"
   ]
  },
  {
   "cell_type": "markdown",
   "id": "bd961002",
   "metadata": {},
   "source": [
    "### Buyouts_Funds"
   ]
  },
  {
   "cell_type": "markdown",
   "id": "66774340",
   "metadata": {},
   "source": [
    "##### ignore"
   ]
  },
  {
   "cell_type": "code",
   "execution_count": null,
   "id": "7b4dd3ea",
   "metadata": {
    "scrolled": true
   },
   "outputs": [],
   "source": [
    "#df = pd.read_csv('Buyouts_Funds.csv')"
   ]
  },
  {
   "cell_type": "code",
   "execution_count": null,
   "id": "b5a1744b",
   "metadata": {},
   "outputs": [],
   "source": [
    "#df.shape"
   ]
  },
  {
   "cell_type": "code",
   "execution_count": null,
   "id": "8b2417c6",
   "metadata": {
    "scrolled": true
   },
   "outputs": [],
   "source": [
    "#df.head()"
   ]
  },
  {
   "cell_type": "code",
   "execution_count": null,
   "id": "4e4326be",
   "metadata": {},
   "outputs": [],
   "source": [
    "#df.drop(columns ='FundManagerID', axis = 1, inplace = True)"
   ]
  },
  {
   "cell_type": "code",
   "execution_count": null,
   "id": "6ae5a067",
   "metadata": {
    "scrolled": true
   },
   "outputs": [],
   "source": [
    "#df.head()"
   ]
  },
  {
   "cell_type": "code",
   "execution_count": null,
   "id": "49af36f4",
   "metadata": {},
   "outputs": [],
   "source": [
    "#df.columns =[\n",
    "#   'fund_id',\n",
    "#    'fund_name',\n",
    "#    'fund_manager',\n",
    "#    'strategy',\n",
    "#    'region',\n",
    "#    'sector',\n",
    "#    'vintage_year',\n",
    "#    'year_opened',\n",
    "#    'month_launched',\n",
    "#    'target_size',\n",
    "#    'currency',\n",
    "#]"
   ]
  },
  {
   "cell_type": "code",
   "execution_count": null,
   "id": "4b8ba966",
   "metadata": {},
   "outputs": [],
   "source": [
    "#list_col =  df.columns.to_list()\n",
    "#df = df.reindex(columns= list_col)"
   ]
  },
  {
   "cell_type": "code",
   "execution_count": null,
   "id": "5774b1d6",
   "metadata": {},
   "outputs": [],
   "source": [
    "#df.head()"
   ]
  },
  {
   "cell_type": "code",
   "execution_count": null,
   "id": "34805a40",
   "metadata": {},
   "outputs": [],
   "source": [
    "#df['month_launched']=df['month_launched'].apply(str)"
   ]
  },
  {
   "cell_type": "code",
   "execution_count": null,
   "id": "bf365bb1",
   "metadata": {},
   "outputs": [],
   "source": [
    "#df['year_opened']=df['year_opened'].apply(str)"
   ]
  },
  {
   "cell_type": "code",
   "execution_count": null,
   "id": "86593b3e",
   "metadata": {},
   "outputs": [],
   "source": [
    "#df['open_date'] = df['year_opened']+ '-' + df['month_launched']"
   ]
  },
  {
   "cell_type": "code",
   "execution_count": null,
   "id": "8368a420",
   "metadata": {},
   "outputs": [],
   "source": [
    "#df.drop(columns =['month_launched','year_opened'], axis = 1, inplace = True)"
   ]
  },
  {
   "cell_type": "code",
   "execution_count": null,
   "id": "986ea728",
   "metadata": {
    "scrolled": false
   },
   "outputs": [],
   "source": [
    "#df.head()"
   ]
  },
  {
   "cell_type": "code",
   "execution_count": null,
   "id": "c93be2f6",
   "metadata": {
    "scrolled": true
   },
   "outputs": [],
   "source": [
    "#df.shape"
   ]
  },
  {
   "cell_type": "code",
   "execution_count": null,
   "id": "275dec35",
   "metadata": {},
   "outputs": [],
   "source": [
    "#df['north_america'] = df.region.apply(lambda s :\\\n",
    "#                        1.0 if 'north america' in s.lower() else 0.0)"
   ]
  },
  {
   "cell_type": "code",
   "execution_count": null,
   "id": "11e8aad7",
   "metadata": {
    "scrolled": true
   },
   "outputs": [],
   "source": [
    "#df.head()"
   ]
  },
  {
   "cell_type": "code",
   "execution_count": null,
   "id": "adadf423",
   "metadata": {
    "scrolled": false
   },
   "outputs": [],
   "source": [
    "#df[df.north_america !=1]"
   ]
  },
  {
   "cell_type": "code",
   "execution_count": null,
   "id": "56ea2888",
   "metadata": {},
   "outputs": [],
   "source": [
    "#po_ef= df[(df.target_size<=250000000) & (df.north_america !=0)]"
   ]
  },
  {
   "cell_type": "code",
   "execution_count": null,
   "id": "65b5e887",
   "metadata": {
    "scrolled": true
   },
   "outputs": [],
   "source": [
    "#po_ef.drop(columns ='north_america', axis = 1, inplace = True)"
   ]
  },
  {
   "cell_type": "code",
   "execution_count": null,
   "id": "9e9596b7",
   "metadata": {
    "scrolled": true
   },
   "outputs": [],
   "source": [
    "#po_ef"
   ]
  },
  {
   "cell_type": "code",
   "execution_count": null,
   "id": "98be5645",
   "metadata": {
    "scrolled": false
   },
   "outputs": [],
   "source": [
    "#df[df.target_size.isna() ]"
   ]
  },
  {
   "cell_type": "code",
   "execution_count": null,
   "id": "08fa8e1f",
   "metadata": {},
   "outputs": [],
   "source": [
    "#df1 = pd.read_csv('funds_3NF.csv')"
   ]
  },
  {
   "cell_type": "code",
   "execution_count": null,
   "id": "43d68568",
   "metadata": {
    "scrolled": true
   },
   "outputs": [],
   "source": [
    "#df1.head()"
   ]
  },
  {
   "cell_type": "code",
   "execution_count": null,
   "id": "3a6018a8",
   "metadata": {
    "scrolled": false
   },
   "outputs": [],
   "source": [
    "#df1['sector'].unique()"
   ]
  },
  {
   "cell_type": "code",
   "execution_count": null,
   "id": "cbfde783",
   "metadata": {},
   "outputs": [],
   "source": [
    "#df1.sector= df1.sector.str.strip()"
   ]
  },
  {
   "cell_type": "code",
   "execution_count": null,
   "id": "0a38b3d9",
   "metadata": {},
   "outputs": [],
   "source": [
    "#df1.strategy.unique()"
   ]
  },
  {
   "cell_type": "code",
   "execution_count": null,
   "id": "795d313c",
   "metadata": {},
   "outputs": [],
   "source": [
    "#df1.strategy= df1.strategy.str.strip()"
   ]
  },
  {
   "cell_type": "code",
   "execution_count": null,
   "id": "72cde88d",
   "metadata": {
    "scrolled": true
   },
   "outputs": [],
   "source": [
    "#df1.groupby('sector')['sector'].count()"
   ]
  },
  {
   "cell_type": "code",
   "execution_count": null,
   "id": "c8d21b8a",
   "metadata": {},
   "outputs": [],
   "source": []
  },
  {
   "cell_type": "code",
   "execution_count": null,
   "id": "7aeb2d21",
   "metadata": {},
   "outputs": [],
   "source": []
  },
  {
   "cell_type": "markdown",
   "id": "ba49fb47",
   "metadata": {},
   "source": [
    "##### correct version"
   ]
  },
  {
   "cell_type": "code",
   "execution_count": 129,
   "id": "97807700",
   "metadata": {},
   "outputs": [],
   "source": [
    "df3 = pd.read_csv('buyouts_funds/buyouts_funds_csv/buyouts_funds_uncleaned.csv')"
   ]
  },
  {
   "cell_type": "code",
   "execution_count": 130,
   "id": "cfa30fe5",
   "metadata": {},
   "outputs": [
    {
     "data": {
      "text/html": [
       "<div>\n",
       "<style scoped>\n",
       "    .dataframe tbody tr th:only-of-type {\n",
       "        vertical-align: middle;\n",
       "    }\n",
       "\n",
       "    .dataframe tbody tr th {\n",
       "        vertical-align: top;\n",
       "    }\n",
       "\n",
       "    .dataframe thead th {\n",
       "        text-align: right;\n",
       "    }\n",
       "</style>\n",
       "<table border=\"1\" class=\"dataframe\">\n",
       "  <thead>\n",
       "    <tr style=\"text-align: right;\">\n",
       "      <th></th>\n",
       "      <th>fund_id</th>\n",
       "      <th>name</th>\n",
       "      <th>manager</th>\n",
       "      <th>managerId</th>\n",
       "      <th>sectors</th>\n",
       "      <th>vintageYear</th>\n",
       "      <th>regions</th>\n",
       "      <th>countries</th>\n",
       "      <th>status</th>\n",
       "      <th>strategies</th>\n",
       "      <th>yearOpen</th>\n",
       "      <th>targetFundSize.amount</th>\n",
       "      <th>targetFundSize.currency</th>\n",
       "      <th>monthOpen</th>\n",
       "      <th>fundSize.amount</th>\n",
       "      <th>fundSize.currency</th>\n",
       "      <th>stage</th>\n",
       "      <th>yearClose</th>\n",
       "      <th>monthClose</th>\n",
       "    </tr>\n",
       "  </thead>\n",
       "  <tbody>\n",
       "    <tr>\n",
       "      <th>0</th>\n",
       "      <td>34866</td>\n",
       "      <td>Ascent Venture Partners VII</td>\n",
       "      <td>Ascent Venture Partners</td>\n",
       "      <td>6381</td>\n",
       "      <td>TMT</td>\n",
       "      <td>2020.0</td>\n",
       "      <td>North America</td>\n",
       "      <td>United States</td>\n",
       "      <td>Launched</td>\n",
       "      <td>Venture Capital / Growth Equity</td>\n",
       "      <td>2020.0</td>\n",
       "      <td>150000000.0</td>\n",
       "      <td>USD</td>\n",
       "      <td>NaN</td>\n",
       "      <td>NaN</td>\n",
       "      <td>NaN</td>\n",
       "      <td>NaN</td>\n",
       "      <td>NaN</td>\n",
       "      <td>NaN</td>\n",
       "    </tr>\n",
       "    <tr>\n",
       "      <th>1</th>\n",
       "      <td>36284</td>\n",
       "      <td>Fall Line Endurance Fund (Open-Ended)</td>\n",
       "      <td>Fall Line Capital</td>\n",
       "      <td>15168</td>\n",
       "      <td>TMT</td>\n",
       "      <td>2019.0</td>\n",
       "      <td>North America</td>\n",
       "      <td>United States</td>\n",
       "      <td>Currently Investing</td>\n",
       "      <td>Venture Capital / Growth Equity</td>\n",
       "      <td>2016.0</td>\n",
       "      <td>NaN</td>\n",
       "      <td>NaN</td>\n",
       "      <td>7.0</td>\n",
       "      <td>285000000.0</td>\n",
       "      <td>USD</td>\n",
       "      <td>NaN</td>\n",
       "      <td>NaN</td>\n",
       "      <td>NaN</td>\n",
       "    </tr>\n",
       "    <tr>\n",
       "      <th>2</th>\n",
       "      <td>36284</td>\n",
       "      <td>Fall Line Endurance Fund (Open-Ended)</td>\n",
       "      <td>Fall Line Capital</td>\n",
       "      <td>15168</td>\n",
       "      <td>Agribusiness</td>\n",
       "      <td>2019.0</td>\n",
       "      <td>North America</td>\n",
       "      <td>United States</td>\n",
       "      <td>Currently Investing</td>\n",
       "      <td>Venture Capital / Growth Equity</td>\n",
       "      <td>2016.0</td>\n",
       "      <td>NaN</td>\n",
       "      <td>NaN</td>\n",
       "      <td>7.0</td>\n",
       "      <td>285000000.0</td>\n",
       "      <td>USD</td>\n",
       "      <td>NaN</td>\n",
       "      <td>NaN</td>\n",
       "      <td>NaN</td>\n",
       "    </tr>\n",
       "    <tr>\n",
       "      <th>3</th>\n",
       "      <td>39769</td>\n",
       "      <td>Star Mountain U.S. LMM Secondary Fund II</td>\n",
       "      <td>Star Mountain Capital</td>\n",
       "      <td>1671</td>\n",
       "      <td>Diversified</td>\n",
       "      <td>2020.0</td>\n",
       "      <td>North America</td>\n",
       "      <td>United States</td>\n",
       "      <td>Currently Investing</td>\n",
       "      <td>Secondaries</td>\n",
       "      <td>2020.0</td>\n",
       "      <td>500000000.0</td>\n",
       "      <td>USD</td>\n",
       "      <td>12.0</td>\n",
       "      <td>200000000.0</td>\n",
       "      <td>USD</td>\n",
       "      <td>1st Close</td>\n",
       "      <td>NaN</td>\n",
       "      <td>NaN</td>\n",
       "    </tr>\n",
       "    <tr>\n",
       "      <th>4</th>\n",
       "      <td>43372</td>\n",
       "      <td>Waterfall Sentinel Fund I</td>\n",
       "      <td>Waterfall Asset Management</td>\n",
       "      <td>19136</td>\n",
       "      <td>Diversified</td>\n",
       "      <td>2019.0</td>\n",
       "      <td>North America</td>\n",
       "      <td>United States</td>\n",
       "      <td>Currently Investing</td>\n",
       "      <td>Buyout / Corporate Private Equity</td>\n",
       "      <td>2019.0</td>\n",
       "      <td>300000000.0</td>\n",
       "      <td>USD</td>\n",
       "      <td>1.0</td>\n",
       "      <td>80000000.0</td>\n",
       "      <td>USD</td>\n",
       "      <td>1st Close</td>\n",
       "      <td>NaN</td>\n",
       "      <td>NaN</td>\n",
       "    </tr>\n",
       "  </tbody>\n",
       "</table>\n",
       "</div>"
      ],
      "text/plain": [
       "   fund_id                                      name  \\\n",
       "0    34866               Ascent Venture Partners VII   \n",
       "1    36284     Fall Line Endurance Fund (Open-Ended)   \n",
       "2    36284     Fall Line Endurance Fund (Open-Ended)   \n",
       "3    39769  Star Mountain U.S. LMM Secondary Fund II   \n",
       "4    43372                 Waterfall Sentinel Fund I   \n",
       "\n",
       "                      manager  managerId       sectors  vintageYear  \\\n",
       "0     Ascent Venture Partners       6381           TMT       2020.0   \n",
       "1           Fall Line Capital      15168           TMT       2019.0   \n",
       "2           Fall Line Capital      15168  Agribusiness       2019.0   \n",
       "3       Star Mountain Capital       1671   Diversified       2020.0   \n",
       "4  Waterfall Asset Management      19136   Diversified       2019.0   \n",
       "\n",
       "         regions      countries               status  \\\n",
       "0  North America  United States             Launched   \n",
       "1  North America  United States  Currently Investing   \n",
       "2  North America  United States  Currently Investing   \n",
       "3  North America  United States  Currently Investing   \n",
       "4  North America  United States  Currently Investing   \n",
       "\n",
       "                          strategies  yearOpen  targetFundSize.amount  \\\n",
       "0    Venture Capital / Growth Equity    2020.0            150000000.0   \n",
       "1    Venture Capital / Growth Equity    2016.0                    NaN   \n",
       "2    Venture Capital / Growth Equity    2016.0                    NaN   \n",
       "3                        Secondaries    2020.0            500000000.0   \n",
       "4  Buyout / Corporate Private Equity    2019.0            300000000.0   \n",
       "\n",
       "  targetFundSize.currency  monthOpen  fundSize.amount fundSize.currency  \\\n",
       "0                     USD        NaN              NaN               NaN   \n",
       "1                     NaN        7.0      285000000.0               USD   \n",
       "2                     NaN        7.0      285000000.0               USD   \n",
       "3                     USD       12.0      200000000.0               USD   \n",
       "4                     USD        1.0       80000000.0               USD   \n",
       "\n",
       "       stage  yearClose  monthClose  \n",
       "0        NaN        NaN         NaN  \n",
       "1        NaN        NaN         NaN  \n",
       "2        NaN        NaN         NaN  \n",
       "3  1st Close        NaN         NaN  \n",
       "4  1st Close        NaN         NaN  "
      ]
     },
     "execution_count": 130,
     "metadata": {},
     "output_type": "execute_result"
    }
   ],
   "source": [
    "df3.head()"
   ]
  },
  {
   "cell_type": "code",
   "execution_count": 131,
   "id": "53fe71b9",
   "metadata": {},
   "outputs": [
    {
     "data": {
      "text/html": [
       "<div>\n",
       "<style scoped>\n",
       "    .dataframe tbody tr th:only-of-type {\n",
       "        vertical-align: middle;\n",
       "    }\n",
       "\n",
       "    .dataframe tbody tr th {\n",
       "        vertical-align: top;\n",
       "    }\n",
       "\n",
       "    .dataframe thead th {\n",
       "        text-align: right;\n",
       "    }\n",
       "</style>\n",
       "<table border=\"1\" class=\"dataframe\">\n",
       "  <thead>\n",
       "    <tr style=\"text-align: right;\">\n",
       "      <th></th>\n",
       "      <th>fund_id</th>\n",
       "      <th>name</th>\n",
       "      <th>manager</th>\n",
       "      <th>manager_id</th>\n",
       "      <th>sector</th>\n",
       "      <th>vintage_year</th>\n",
       "      <th>region</th>\n",
       "      <th>country</th>\n",
       "      <th>status</th>\n",
       "      <th>strategy</th>\n",
       "      <th>year_open</th>\n",
       "      <th>target_fund_size_amt</th>\n",
       "      <th>target_fund_size_currency</th>\n",
       "      <th>month_open</th>\n",
       "      <th>fund_size_amt</th>\n",
       "      <th>fund_currency</th>\n",
       "      <th>stage</th>\n",
       "      <th>year_close</th>\n",
       "      <th>month_close</th>\n",
       "    </tr>\n",
       "  </thead>\n",
       "  <tbody>\n",
       "    <tr>\n",
       "      <th>0</th>\n",
       "      <td>34866</td>\n",
       "      <td>Ascent Venture Partners VII</td>\n",
       "      <td>Ascent Venture Partners</td>\n",
       "      <td>6381</td>\n",
       "      <td>TMT</td>\n",
       "      <td>2020.0</td>\n",
       "      <td>North America</td>\n",
       "      <td>United States</td>\n",
       "      <td>Launched</td>\n",
       "      <td>Venture Capital / Growth Equity</td>\n",
       "      <td>2020.0</td>\n",
       "      <td>150000000.0</td>\n",
       "      <td>USD</td>\n",
       "      <td>NaN</td>\n",
       "      <td>NaN</td>\n",
       "      <td>NaN</td>\n",
       "      <td>NaN</td>\n",
       "      <td>NaN</td>\n",
       "      <td>NaN</td>\n",
       "    </tr>\n",
       "    <tr>\n",
       "      <th>1</th>\n",
       "      <td>36284</td>\n",
       "      <td>Fall Line Endurance Fund (Open-Ended)</td>\n",
       "      <td>Fall Line Capital</td>\n",
       "      <td>15168</td>\n",
       "      <td>TMT</td>\n",
       "      <td>2019.0</td>\n",
       "      <td>North America</td>\n",
       "      <td>United States</td>\n",
       "      <td>Currently Investing</td>\n",
       "      <td>Venture Capital / Growth Equity</td>\n",
       "      <td>2016.0</td>\n",
       "      <td>NaN</td>\n",
       "      <td>NaN</td>\n",
       "      <td>7.0</td>\n",
       "      <td>285000000.0</td>\n",
       "      <td>USD</td>\n",
       "      <td>NaN</td>\n",
       "      <td>NaN</td>\n",
       "      <td>NaN</td>\n",
       "    </tr>\n",
       "    <tr>\n",
       "      <th>2</th>\n",
       "      <td>36284</td>\n",
       "      <td>Fall Line Endurance Fund (Open-Ended)</td>\n",
       "      <td>Fall Line Capital</td>\n",
       "      <td>15168</td>\n",
       "      <td>Agribusiness</td>\n",
       "      <td>2019.0</td>\n",
       "      <td>North America</td>\n",
       "      <td>United States</td>\n",
       "      <td>Currently Investing</td>\n",
       "      <td>Venture Capital / Growth Equity</td>\n",
       "      <td>2016.0</td>\n",
       "      <td>NaN</td>\n",
       "      <td>NaN</td>\n",
       "      <td>7.0</td>\n",
       "      <td>285000000.0</td>\n",
       "      <td>USD</td>\n",
       "      <td>NaN</td>\n",
       "      <td>NaN</td>\n",
       "      <td>NaN</td>\n",
       "    </tr>\n",
       "    <tr>\n",
       "      <th>3</th>\n",
       "      <td>39769</td>\n",
       "      <td>Star Mountain U.S. LMM Secondary Fund II</td>\n",
       "      <td>Star Mountain Capital</td>\n",
       "      <td>1671</td>\n",
       "      <td>Diversified</td>\n",
       "      <td>2020.0</td>\n",
       "      <td>North America</td>\n",
       "      <td>United States</td>\n",
       "      <td>Currently Investing</td>\n",
       "      <td>Secondaries</td>\n",
       "      <td>2020.0</td>\n",
       "      <td>500000000.0</td>\n",
       "      <td>USD</td>\n",
       "      <td>12.0</td>\n",
       "      <td>200000000.0</td>\n",
       "      <td>USD</td>\n",
       "      <td>1st Close</td>\n",
       "      <td>NaN</td>\n",
       "      <td>NaN</td>\n",
       "    </tr>\n",
       "    <tr>\n",
       "      <th>4</th>\n",
       "      <td>43372</td>\n",
       "      <td>Waterfall Sentinel Fund I</td>\n",
       "      <td>Waterfall Asset Management</td>\n",
       "      <td>19136</td>\n",
       "      <td>Diversified</td>\n",
       "      <td>2019.0</td>\n",
       "      <td>North America</td>\n",
       "      <td>United States</td>\n",
       "      <td>Currently Investing</td>\n",
       "      <td>Buyout / Corporate Private Equity</td>\n",
       "      <td>2019.0</td>\n",
       "      <td>300000000.0</td>\n",
       "      <td>USD</td>\n",
       "      <td>1.0</td>\n",
       "      <td>80000000.0</td>\n",
       "      <td>USD</td>\n",
       "      <td>1st Close</td>\n",
       "      <td>NaN</td>\n",
       "      <td>NaN</td>\n",
       "    </tr>\n",
       "  </tbody>\n",
       "</table>\n",
       "</div>"
      ],
      "text/plain": [
       "   fund_id                                      name  \\\n",
       "0    34866               Ascent Venture Partners VII   \n",
       "1    36284     Fall Line Endurance Fund (Open-Ended)   \n",
       "2    36284     Fall Line Endurance Fund (Open-Ended)   \n",
       "3    39769  Star Mountain U.S. LMM Secondary Fund II   \n",
       "4    43372                 Waterfall Sentinel Fund I   \n",
       "\n",
       "                      manager  manager_id        sector  vintage_year  \\\n",
       "0     Ascent Venture Partners        6381           TMT        2020.0   \n",
       "1           Fall Line Capital       15168           TMT        2019.0   \n",
       "2           Fall Line Capital       15168  Agribusiness        2019.0   \n",
       "3       Star Mountain Capital        1671   Diversified        2020.0   \n",
       "4  Waterfall Asset Management       19136   Diversified        2019.0   \n",
       "\n",
       "          region        country               status  \\\n",
       "0  North America  United States             Launched   \n",
       "1  North America  United States  Currently Investing   \n",
       "2  North America  United States  Currently Investing   \n",
       "3  North America  United States  Currently Investing   \n",
       "4  North America  United States  Currently Investing   \n",
       "\n",
       "                            strategy  year_open  target_fund_size_amt  \\\n",
       "0    Venture Capital / Growth Equity     2020.0           150000000.0   \n",
       "1    Venture Capital / Growth Equity     2016.0                   NaN   \n",
       "2    Venture Capital / Growth Equity     2016.0                   NaN   \n",
       "3                        Secondaries     2020.0           500000000.0   \n",
       "4  Buyout / Corporate Private Equity     2019.0           300000000.0   \n",
       "\n",
       "  target_fund_size_currency  month_open  fund_size_amt fund_currency  \\\n",
       "0                       USD         NaN            NaN           NaN   \n",
       "1                       NaN         7.0    285000000.0           USD   \n",
       "2                       NaN         7.0    285000000.0           USD   \n",
       "3                       USD        12.0    200000000.0           USD   \n",
       "4                       USD         1.0     80000000.0           USD   \n",
       "\n",
       "       stage  year_close  month_close  \n",
       "0        NaN         NaN          NaN  \n",
       "1        NaN         NaN          NaN  \n",
       "2        NaN         NaN          NaN  \n",
       "3  1st Close         NaN          NaN  \n",
       "4  1st Close         NaN          NaN  "
      ]
     },
     "execution_count": 131,
     "metadata": {},
     "output_type": "execute_result"
    }
   ],
   "source": [
    "df3.rename(columns={'managerId':'manager_id', 'sectors':'sector', 'vintageYear':'vintage_year',\n",
    "                   'regions':'region', 'countries':'country', 'strategies':'strategy',\n",
    "                   'yearOpen':'year_open', 'targetFundSize.amount':'target_fund_size_amt',\n",
    "                   'targetFundSize.currency':'target_fund_size_currency', 'monthOpen':'month_open',\n",
    "                   'fundSize.amount':'fund_size_amt', 'fundSize.currency':'fund_currency',\n",
    "                   'yearClose':'year_close', 'monthClose':'month_close'}, inplace=True)\n",
    "df3.head()"
   ]
  },
  {
   "cell_type": "code",
   "execution_count": 132,
   "id": "d36ef218",
   "metadata": {},
   "outputs": [
    {
     "data": {
      "text/html": [
       "<div>\n",
       "<style scoped>\n",
       "    .dataframe tbody tr th:only-of-type {\n",
       "        vertical-align: middle;\n",
       "    }\n",
       "\n",
       "    .dataframe tbody tr th {\n",
       "        vertical-align: top;\n",
       "    }\n",
       "\n",
       "    .dataframe thead th {\n",
       "        text-align: right;\n",
       "    }\n",
       "</style>\n",
       "<table border=\"1\" class=\"dataframe\">\n",
       "  <thead>\n",
       "    <tr style=\"text-align: right;\">\n",
       "      <th></th>\n",
       "      <th>fund_id</th>\n",
       "      <th>name</th>\n",
       "      <th>manager_id</th>\n",
       "      <th>strategy</th>\n",
       "      <th>sector</th>\n",
       "      <th>region</th>\n",
       "      <th>country</th>\n",
       "      <th>target_fund_size_amt</th>\n",
       "      <th>target_fund_size_currency</th>\n",
       "      <th>fund_size_amt</th>\n",
       "      <th>fund_currency</th>\n",
       "      <th>status</th>\n",
       "      <th>stage</th>\n",
       "      <th>vintage_year</th>\n",
       "      <th>month_open</th>\n",
       "      <th>year_open</th>\n",
       "      <th>month_close</th>\n",
       "      <th>year_close</th>\n",
       "    </tr>\n",
       "  </thead>\n",
       "  <tbody>\n",
       "    <tr>\n",
       "      <th>0</th>\n",
       "      <td>34866</td>\n",
       "      <td>Ascent Venture Partners VII</td>\n",
       "      <td>6381</td>\n",
       "      <td>Venture Capital / Growth Equity</td>\n",
       "      <td>TMT</td>\n",
       "      <td>North America</td>\n",
       "      <td>United States</td>\n",
       "      <td>150000000.0</td>\n",
       "      <td>USD</td>\n",
       "      <td>NaN</td>\n",
       "      <td>NaN</td>\n",
       "      <td>Launched</td>\n",
       "      <td>NaN</td>\n",
       "      <td>2020.0</td>\n",
       "      <td>NaN</td>\n",
       "      <td>2020.0</td>\n",
       "      <td>NaN</td>\n",
       "      <td>NaN</td>\n",
       "    </tr>\n",
       "    <tr>\n",
       "      <th>1</th>\n",
       "      <td>36284</td>\n",
       "      <td>Fall Line Endurance Fund (Open-Ended)</td>\n",
       "      <td>15168</td>\n",
       "      <td>Venture Capital / Growth Equity</td>\n",
       "      <td>TMT</td>\n",
       "      <td>North America</td>\n",
       "      <td>United States</td>\n",
       "      <td>NaN</td>\n",
       "      <td>NaN</td>\n",
       "      <td>285000000.0</td>\n",
       "      <td>USD</td>\n",
       "      <td>Currently Investing</td>\n",
       "      <td>NaN</td>\n",
       "      <td>2019.0</td>\n",
       "      <td>7.0</td>\n",
       "      <td>2016.0</td>\n",
       "      <td>NaN</td>\n",
       "      <td>NaN</td>\n",
       "    </tr>\n",
       "    <tr>\n",
       "      <th>2</th>\n",
       "      <td>36284</td>\n",
       "      <td>Fall Line Endurance Fund (Open-Ended)</td>\n",
       "      <td>15168</td>\n",
       "      <td>Venture Capital / Growth Equity</td>\n",
       "      <td>Agribusiness</td>\n",
       "      <td>North America</td>\n",
       "      <td>United States</td>\n",
       "      <td>NaN</td>\n",
       "      <td>NaN</td>\n",
       "      <td>285000000.0</td>\n",
       "      <td>USD</td>\n",
       "      <td>Currently Investing</td>\n",
       "      <td>NaN</td>\n",
       "      <td>2019.0</td>\n",
       "      <td>7.0</td>\n",
       "      <td>2016.0</td>\n",
       "      <td>NaN</td>\n",
       "      <td>NaN</td>\n",
       "    </tr>\n",
       "    <tr>\n",
       "      <th>3</th>\n",
       "      <td>39769</td>\n",
       "      <td>Star Mountain U.S. LMM Secondary Fund II</td>\n",
       "      <td>1671</td>\n",
       "      <td>Secondaries</td>\n",
       "      <td>Diversified</td>\n",
       "      <td>North America</td>\n",
       "      <td>United States</td>\n",
       "      <td>500000000.0</td>\n",
       "      <td>USD</td>\n",
       "      <td>200000000.0</td>\n",
       "      <td>USD</td>\n",
       "      <td>Currently Investing</td>\n",
       "      <td>1st Close</td>\n",
       "      <td>2020.0</td>\n",
       "      <td>12.0</td>\n",
       "      <td>2020.0</td>\n",
       "      <td>NaN</td>\n",
       "      <td>NaN</td>\n",
       "    </tr>\n",
       "    <tr>\n",
       "      <th>4</th>\n",
       "      <td>43372</td>\n",
       "      <td>Waterfall Sentinel Fund I</td>\n",
       "      <td>19136</td>\n",
       "      <td>Buyout / Corporate Private Equity</td>\n",
       "      <td>Diversified</td>\n",
       "      <td>North America</td>\n",
       "      <td>United States</td>\n",
       "      <td>300000000.0</td>\n",
       "      <td>USD</td>\n",
       "      <td>80000000.0</td>\n",
       "      <td>USD</td>\n",
       "      <td>Currently Investing</td>\n",
       "      <td>1st Close</td>\n",
       "      <td>2019.0</td>\n",
       "      <td>1.0</td>\n",
       "      <td>2019.0</td>\n",
       "      <td>NaN</td>\n",
       "      <td>NaN</td>\n",
       "    </tr>\n",
       "  </tbody>\n",
       "</table>\n",
       "</div>"
      ],
      "text/plain": [
       "   fund_id                                      name  manager_id  \\\n",
       "0    34866               Ascent Venture Partners VII        6381   \n",
       "1    36284     Fall Line Endurance Fund (Open-Ended)       15168   \n",
       "2    36284     Fall Line Endurance Fund (Open-Ended)       15168   \n",
       "3    39769  Star Mountain U.S. LMM Secondary Fund II        1671   \n",
       "4    43372                 Waterfall Sentinel Fund I       19136   \n",
       "\n",
       "                            strategy        sector         region  \\\n",
       "0    Venture Capital / Growth Equity           TMT  North America   \n",
       "1    Venture Capital / Growth Equity           TMT  North America   \n",
       "2    Venture Capital / Growth Equity  Agribusiness  North America   \n",
       "3                        Secondaries   Diversified  North America   \n",
       "4  Buyout / Corporate Private Equity   Diversified  North America   \n",
       "\n",
       "         country  target_fund_size_amt target_fund_size_currency  \\\n",
       "0  United States           150000000.0                       USD   \n",
       "1  United States                   NaN                       NaN   \n",
       "2  United States                   NaN                       NaN   \n",
       "3  United States           500000000.0                       USD   \n",
       "4  United States           300000000.0                       USD   \n",
       "\n",
       "   fund_size_amt fund_currency               status      stage  vintage_year  \\\n",
       "0            NaN           NaN             Launched        NaN        2020.0   \n",
       "1    285000000.0           USD  Currently Investing        NaN        2019.0   \n",
       "2    285000000.0           USD  Currently Investing        NaN        2019.0   \n",
       "3    200000000.0           USD  Currently Investing  1st Close        2020.0   \n",
       "4     80000000.0           USD  Currently Investing  1st Close        2019.0   \n",
       "\n",
       "   month_open  year_open  month_close  year_close  \n",
       "0         NaN     2020.0          NaN         NaN  \n",
       "1         7.0     2016.0          NaN         NaN  \n",
       "2         7.0     2016.0          NaN         NaN  \n",
       "3        12.0     2020.0          NaN         NaN  \n",
       "4         1.0     2019.0          NaN         NaN  "
      ]
     },
     "execution_count": 132,
     "metadata": {},
     "output_type": "execute_result"
    }
   ],
   "source": [
    "df3 = df3[['fund_id', 'name', 'manager_id', 'strategy', 'sector', 'region',\n",
    "          'country', 'target_fund_size_amt', 'target_fund_size_currency',\n",
    "          'fund_size_amt', 'fund_currency', 'status', 'stage',\n",
    "          'vintage_year', 'month_open', 'year_open', 'month_close', 'year_close']]\n",
    "df3.head()"
   ]
  },
  {
   "cell_type": "code",
   "execution_count": 136,
   "id": "9ee4a722",
   "metadata": {},
   "outputs": [],
   "source": [
    "df3['month_open'] = df3['month_open'].fillna(0)\n",
    "df3['year_open'] = df3['year_open'].fillna(0)\n",
    "df3['month_close'] = df3['month_close'].fillna(0)\n",
    "df3['year_close'] = df3['year_close'].fillna(0)\n",
    "df3['vintage_year'] = df3['vintage_year'].fillna(0)"
   ]
  },
  {
   "cell_type": "code",
   "execution_count": 137,
   "id": "d727b4c7",
   "metadata": {},
   "outputs": [],
   "source": [
    "df3['month_open'] = df3['month_open'].apply(int)\n",
    "df3['year_open'] = df3['year_open'].apply(int)\n",
    "df3['month_close'] = df3['month_close'].apply(int)\n",
    "df3['year_close'] = df3['year_close'].apply(int)\n",
    "df3['vintage_year'] = df3['vintage_year'].apply(int)"
   ]
  },
  {
   "cell_type": "code",
   "execution_count": 138,
   "id": "4db97514",
   "metadata": {},
   "outputs": [],
   "source": [
    "df3['month_open'] = df3['month_open'].apply(str)\n",
    "df3['year_open'] = df3['year_open'].apply(str)\n",
    "df3['month_close'] = df3['month_close'].apply(str)\n",
    "df3['year_close'] = df3['year_close'].apply(str)\n",
    "df3['vintage_year'] = df3['vintage_year'].apply(str)"
   ]
  },
  {
   "cell_type": "code",
   "execution_count": 139,
   "id": "60801a84",
   "metadata": {},
   "outputs": [],
   "source": [
    "df3['open_date'] = df3['year_open'] + '-' + df3['month_open']\n",
    "df3['close_date'] = df3['year_close'] + '-' + df3['month_close']"
   ]
  },
  {
   "cell_type": "code",
   "execution_count": 140,
   "id": "ee65eab2",
   "metadata": {
    "scrolled": false
   },
   "outputs": [
    {
     "data": {
      "text/html": [
       "<div>\n",
       "<style scoped>\n",
       "    .dataframe tbody tr th:only-of-type {\n",
       "        vertical-align: middle;\n",
       "    }\n",
       "\n",
       "    .dataframe tbody tr th {\n",
       "        vertical-align: top;\n",
       "    }\n",
       "\n",
       "    .dataframe thead th {\n",
       "        text-align: right;\n",
       "    }\n",
       "</style>\n",
       "<table border=\"1\" class=\"dataframe\">\n",
       "  <thead>\n",
       "    <tr style=\"text-align: right;\">\n",
       "      <th></th>\n",
       "      <th>fund_id</th>\n",
       "      <th>name</th>\n",
       "      <th>manager_id</th>\n",
       "      <th>strategy</th>\n",
       "      <th>sector</th>\n",
       "      <th>region</th>\n",
       "      <th>country</th>\n",
       "      <th>target_fund_size_amt</th>\n",
       "      <th>target_fund_size_currency</th>\n",
       "      <th>fund_size_amt</th>\n",
       "      <th>fund_currency</th>\n",
       "      <th>status</th>\n",
       "      <th>stage</th>\n",
       "      <th>vintage_year</th>\n",
       "      <th>open_date</th>\n",
       "    </tr>\n",
       "  </thead>\n",
       "  <tbody>\n",
       "    <tr>\n",
       "      <th>0</th>\n",
       "      <td>34866</td>\n",
       "      <td>Ascent Venture Partners VII</td>\n",
       "      <td>6381</td>\n",
       "      <td>Venture Capital / Growth Equity</td>\n",
       "      <td>TMT</td>\n",
       "      <td>North America</td>\n",
       "      <td>United States</td>\n",
       "      <td>150000000.0</td>\n",
       "      <td>USD</td>\n",
       "      <td>NaN</td>\n",
       "      <td>NaN</td>\n",
       "      <td>Launched</td>\n",
       "      <td>NaN</td>\n",
       "      <td>2020</td>\n",
       "      <td>2020-0</td>\n",
       "    </tr>\n",
       "    <tr>\n",
       "      <th>1</th>\n",
       "      <td>36284</td>\n",
       "      <td>Fall Line Endurance Fund (Open-Ended)</td>\n",
       "      <td>15168</td>\n",
       "      <td>Venture Capital / Growth Equity</td>\n",
       "      <td>TMT</td>\n",
       "      <td>North America</td>\n",
       "      <td>United States</td>\n",
       "      <td>NaN</td>\n",
       "      <td>NaN</td>\n",
       "      <td>285000000.0</td>\n",
       "      <td>USD</td>\n",
       "      <td>Currently Investing</td>\n",
       "      <td>NaN</td>\n",
       "      <td>2019</td>\n",
       "      <td>2016-7</td>\n",
       "    </tr>\n",
       "    <tr>\n",
       "      <th>2</th>\n",
       "      <td>36284</td>\n",
       "      <td>Fall Line Endurance Fund (Open-Ended)</td>\n",
       "      <td>15168</td>\n",
       "      <td>Venture Capital / Growth Equity</td>\n",
       "      <td>Agribusiness</td>\n",
       "      <td>North America</td>\n",
       "      <td>United States</td>\n",
       "      <td>NaN</td>\n",
       "      <td>NaN</td>\n",
       "      <td>285000000.0</td>\n",
       "      <td>USD</td>\n",
       "      <td>Currently Investing</td>\n",
       "      <td>NaN</td>\n",
       "      <td>2019</td>\n",
       "      <td>2016-7</td>\n",
       "    </tr>\n",
       "    <tr>\n",
       "      <th>3</th>\n",
       "      <td>39769</td>\n",
       "      <td>Star Mountain U.S. LMM Secondary Fund II</td>\n",
       "      <td>1671</td>\n",
       "      <td>Secondaries</td>\n",
       "      <td>Diversified</td>\n",
       "      <td>North America</td>\n",
       "      <td>United States</td>\n",
       "      <td>500000000.0</td>\n",
       "      <td>USD</td>\n",
       "      <td>200000000.0</td>\n",
       "      <td>USD</td>\n",
       "      <td>Currently Investing</td>\n",
       "      <td>1st Close</td>\n",
       "      <td>2020</td>\n",
       "      <td>2020-12</td>\n",
       "    </tr>\n",
       "    <tr>\n",
       "      <th>4</th>\n",
       "      <td>43372</td>\n",
       "      <td>Waterfall Sentinel Fund I</td>\n",
       "      <td>19136</td>\n",
       "      <td>Buyout / Corporate Private Equity</td>\n",
       "      <td>Diversified</td>\n",
       "      <td>North America</td>\n",
       "      <td>United States</td>\n",
       "      <td>300000000.0</td>\n",
       "      <td>USD</td>\n",
       "      <td>80000000.0</td>\n",
       "      <td>USD</td>\n",
       "      <td>Currently Investing</td>\n",
       "      <td>1st Close</td>\n",
       "      <td>2019</td>\n",
       "      <td>2019-1</td>\n",
       "    </tr>\n",
       "  </tbody>\n",
       "</table>\n",
       "</div>"
      ],
      "text/plain": [
       "   fund_id                                      name  manager_id  \\\n",
       "0    34866               Ascent Venture Partners VII        6381   \n",
       "1    36284     Fall Line Endurance Fund (Open-Ended)       15168   \n",
       "2    36284     Fall Line Endurance Fund (Open-Ended)       15168   \n",
       "3    39769  Star Mountain U.S. LMM Secondary Fund II        1671   \n",
       "4    43372                 Waterfall Sentinel Fund I       19136   \n",
       "\n",
       "                            strategy        sector         region  \\\n",
       "0    Venture Capital / Growth Equity           TMT  North America   \n",
       "1    Venture Capital / Growth Equity           TMT  North America   \n",
       "2    Venture Capital / Growth Equity  Agribusiness  North America   \n",
       "3                        Secondaries   Diversified  North America   \n",
       "4  Buyout / Corporate Private Equity   Diversified  North America   \n",
       "\n",
       "         country  target_fund_size_amt target_fund_size_currency  \\\n",
       "0  United States           150000000.0                       USD   \n",
       "1  United States                   NaN                       NaN   \n",
       "2  United States                   NaN                       NaN   \n",
       "3  United States           500000000.0                       USD   \n",
       "4  United States           300000000.0                       USD   \n",
       "\n",
       "   fund_size_amt fund_currency               status      stage vintage_year  \\\n",
       "0            NaN           NaN             Launched        NaN         2020   \n",
       "1    285000000.0           USD  Currently Investing        NaN         2019   \n",
       "2    285000000.0           USD  Currently Investing        NaN         2019   \n",
       "3    200000000.0           USD  Currently Investing  1st Close         2020   \n",
       "4     80000000.0           USD  Currently Investing  1st Close         2019   \n",
       "\n",
       "  open_date  \n",
       "0    2020-0  \n",
       "1    2016-7  \n",
       "2    2016-7  \n",
       "3   2020-12  \n",
       "4    2019-1  "
      ]
     },
     "execution_count": 140,
     "metadata": {},
     "output_type": "execute_result"
    }
   ],
   "source": [
    "df3.drop(columns=['month_open', 'year_open', 'month_close', \n",
    "                 'year_close', 'close_date'], axis=1, inplace=True)\n",
    "df3.head()"
   ]
  },
  {
   "cell_type": "code",
   "execution_count": 141,
   "id": "20f907c9",
   "metadata": {},
   "outputs": [
    {
     "data": {
      "text/html": [
       "<div>\n",
       "<style scoped>\n",
       "    .dataframe tbody tr th:only-of-type {\n",
       "        vertical-align: middle;\n",
       "    }\n",
       "\n",
       "    .dataframe tbody tr th {\n",
       "        vertical-align: top;\n",
       "    }\n",
       "\n",
       "    .dataframe thead th {\n",
       "        text-align: right;\n",
       "    }\n",
       "</style>\n",
       "<table border=\"1\" class=\"dataframe\">\n",
       "  <thead>\n",
       "    <tr style=\"text-align: right;\">\n",
       "      <th></th>\n",
       "      <th>fund_id</th>\n",
       "      <th>name</th>\n",
       "      <th>manager_id</th>\n",
       "      <th>strategy</th>\n",
       "      <th>sector</th>\n",
       "      <th>region</th>\n",
       "      <th>country</th>\n",
       "      <th>target_fund_size_amt</th>\n",
       "      <th>target_fund_size_currency</th>\n",
       "      <th>fund_size_amt</th>\n",
       "      <th>fund_currency</th>\n",
       "      <th>status</th>\n",
       "      <th>stage</th>\n",
       "      <th>vintage_year</th>\n",
       "      <th>open_date</th>\n",
       "    </tr>\n",
       "  </thead>\n",
       "  <tbody>\n",
       "    <tr>\n",
       "      <th>0</th>\n",
       "      <td>34866</td>\n",
       "      <td>Ascent Venture Partners VII</td>\n",
       "      <td>6381</td>\n",
       "      <td>Venture Capital / Growth Equity</td>\n",
       "      <td>TMT</td>\n",
       "      <td>North America</td>\n",
       "      <td>United States</td>\n",
       "      <td>150000000.0</td>\n",
       "      <td>USD</td>\n",
       "      <td>NaN</td>\n",
       "      <td>NaN</td>\n",
       "      <td>Launched</td>\n",
       "      <td>NaN</td>\n",
       "      <td>2020</td>\n",
       "      <td>2020-0</td>\n",
       "    </tr>\n",
       "    <tr>\n",
       "      <th>1</th>\n",
       "      <td>36284</td>\n",
       "      <td>Fall Line Endurance Fund (Open-Ended)</td>\n",
       "      <td>15168</td>\n",
       "      <td>Venture Capital / Growth Equity</td>\n",
       "      <td>TMT</td>\n",
       "      <td>North America</td>\n",
       "      <td>United States</td>\n",
       "      <td>NaN</td>\n",
       "      <td>NaN</td>\n",
       "      <td>285000000.0</td>\n",
       "      <td>USD</td>\n",
       "      <td>Currently Investing</td>\n",
       "      <td>NaN</td>\n",
       "      <td>2019</td>\n",
       "      <td>2016-7</td>\n",
       "    </tr>\n",
       "    <tr>\n",
       "      <th>2</th>\n",
       "      <td>36284</td>\n",
       "      <td>Fall Line Endurance Fund (Open-Ended)</td>\n",
       "      <td>15168</td>\n",
       "      <td>Venture Capital / Growth Equity</td>\n",
       "      <td>Agribusiness</td>\n",
       "      <td>North America</td>\n",
       "      <td>United States</td>\n",
       "      <td>NaN</td>\n",
       "      <td>NaN</td>\n",
       "      <td>285000000.0</td>\n",
       "      <td>USD</td>\n",
       "      <td>Currently Investing</td>\n",
       "      <td>NaN</td>\n",
       "      <td>2019</td>\n",
       "      <td>2016-7</td>\n",
       "    </tr>\n",
       "    <tr>\n",
       "      <th>3</th>\n",
       "      <td>39769</td>\n",
       "      <td>Star Mountain U.S. LMM Secondary Fund II</td>\n",
       "      <td>1671</td>\n",
       "      <td>Secondaries</td>\n",
       "      <td>Diversified</td>\n",
       "      <td>North America</td>\n",
       "      <td>United States</td>\n",
       "      <td>500000000.0</td>\n",
       "      <td>USD</td>\n",
       "      <td>200000000.0</td>\n",
       "      <td>USD</td>\n",
       "      <td>Currently Investing</td>\n",
       "      <td>1st Close</td>\n",
       "      <td>2020</td>\n",
       "      <td>2020-12</td>\n",
       "    </tr>\n",
       "    <tr>\n",
       "      <th>4</th>\n",
       "      <td>43372</td>\n",
       "      <td>Waterfall Sentinel Fund I</td>\n",
       "      <td>19136</td>\n",
       "      <td>Buyout / Corporate Private Equity</td>\n",
       "      <td>Diversified</td>\n",
       "      <td>North America</td>\n",
       "      <td>United States</td>\n",
       "      <td>300000000.0</td>\n",
       "      <td>USD</td>\n",
       "      <td>80000000.0</td>\n",
       "      <td>USD</td>\n",
       "      <td>Currently Investing</td>\n",
       "      <td>1st Close</td>\n",
       "      <td>2019</td>\n",
       "      <td>2019-1</td>\n",
       "    </tr>\n",
       "  </tbody>\n",
       "</table>\n",
       "</div>"
      ],
      "text/plain": [
       "   fund_id                                      name  manager_id  \\\n",
       "0    34866               Ascent Venture Partners VII        6381   \n",
       "1    36284     Fall Line Endurance Fund (Open-Ended)       15168   \n",
       "2    36284     Fall Line Endurance Fund (Open-Ended)       15168   \n",
       "3    39769  Star Mountain U.S. LMM Secondary Fund II        1671   \n",
       "4    43372                 Waterfall Sentinel Fund I       19136   \n",
       "\n",
       "                            strategy        sector         region  \\\n",
       "0    Venture Capital / Growth Equity           TMT  North America   \n",
       "1    Venture Capital / Growth Equity           TMT  North America   \n",
       "2    Venture Capital / Growth Equity  Agribusiness  North America   \n",
       "3                        Secondaries   Diversified  North America   \n",
       "4  Buyout / Corporate Private Equity   Diversified  North America   \n",
       "\n",
       "         country  target_fund_size_amt target_fund_size_currency  \\\n",
       "0  United States           150000000.0                       USD   \n",
       "1  United States                   NaN                       NaN   \n",
       "2  United States                   NaN                       NaN   \n",
       "3  United States           500000000.0                       USD   \n",
       "4  United States           300000000.0                       USD   \n",
       "\n",
       "   fund_size_amt fund_currency               status      stage vintage_year  \\\n",
       "0            NaN           NaN             Launched        NaN         2020   \n",
       "1    285000000.0           USD  Currently Investing        NaN         2019   \n",
       "2    285000000.0           USD  Currently Investing        NaN         2019   \n",
       "3    200000000.0           USD  Currently Investing  1st Close         2020   \n",
       "4     80000000.0           USD  Currently Investing  1st Close         2019   \n",
       "\n",
       "  open_date  \n",
       "0    2020-0  \n",
       "1    2016-7  \n",
       "2    2016-7  \n",
       "3   2020-12  \n",
       "4    2019-1  "
      ]
     },
     "execution_count": 141,
     "metadata": {},
     "output_type": "execute_result"
    }
   ],
   "source": [
    "df3 = df3[df3.region == 'North America']\n",
    "df3.head()"
   ]
  },
  {
   "cell_type": "code",
   "execution_count": 142,
   "id": "59c5d2df",
   "metadata": {
    "scrolled": true
   },
   "outputs": [
    {
     "data": {
      "text/html": [
       "<div>\n",
       "<style scoped>\n",
       "    .dataframe tbody tr th:only-of-type {\n",
       "        vertical-align: middle;\n",
       "    }\n",
       "\n",
       "    .dataframe tbody tr th {\n",
       "        vertical-align: top;\n",
       "    }\n",
       "\n",
       "    .dataframe thead th {\n",
       "        text-align: right;\n",
       "    }\n",
       "</style>\n",
       "<table border=\"1\" class=\"dataframe\">\n",
       "  <thead>\n",
       "    <tr style=\"text-align: right;\">\n",
       "      <th></th>\n",
       "      <th>fund_id</th>\n",
       "      <th>name</th>\n",
       "      <th>manager_id</th>\n",
       "      <th>strategy</th>\n",
       "      <th>sector</th>\n",
       "      <th>region</th>\n",
       "      <th>country</th>\n",
       "      <th>target_fund_size_amt</th>\n",
       "      <th>target_fund_size_currency</th>\n",
       "      <th>fund_size_amt</th>\n",
       "      <th>fund_currency</th>\n",
       "      <th>status</th>\n",
       "      <th>stage</th>\n",
       "      <th>vintage_year</th>\n",
       "      <th>open_date</th>\n",
       "    </tr>\n",
       "  </thead>\n",
       "  <tbody>\n",
       "    <tr>\n",
       "      <th>0</th>\n",
       "      <td>34866</td>\n",
       "      <td>Ascent Venture Partners VII</td>\n",
       "      <td>6381</td>\n",
       "      <td>Venture Capital / Growth Equity</td>\n",
       "      <td>TMT</td>\n",
       "      <td>North America</td>\n",
       "      <td>United States</td>\n",
       "      <td>150000000.0</td>\n",
       "      <td>USD</td>\n",
       "      <td>NaN</td>\n",
       "      <td>NaN</td>\n",
       "      <td>Launched</td>\n",
       "      <td>NaN</td>\n",
       "      <td>2020</td>\n",
       "      <td>2020-0</td>\n",
       "    </tr>\n",
       "    <tr>\n",
       "      <th>5</th>\n",
       "      <td>43446</td>\n",
       "      <td>Volunteer Park Capital</td>\n",
       "      <td>19143</td>\n",
       "      <td>Mezzanine / Debt</td>\n",
       "      <td>Diversified</td>\n",
       "      <td>North America</td>\n",
       "      <td>NaN</td>\n",
       "      <td>200000000.0</td>\n",
       "      <td>USD</td>\n",
       "      <td>30000000.0</td>\n",
       "      <td>USD</td>\n",
       "      <td>Currently Investing</td>\n",
       "      <td>1st Close</td>\n",
       "      <td>2019</td>\n",
       "      <td>2019-8</td>\n",
       "    </tr>\n",
       "    <tr>\n",
       "      <th>16</th>\n",
       "      <td>44723</td>\n",
       "      <td>Flashstarts Blockchain Fund</td>\n",
       "      <td>14468</td>\n",
       "      <td>Venture Capital / Growth Equity</td>\n",
       "      <td>TMT</td>\n",
       "      <td>North America</td>\n",
       "      <td>United States</td>\n",
       "      <td>6000000.0</td>\n",
       "      <td>USD</td>\n",
       "      <td>NaN</td>\n",
       "      <td>NaN</td>\n",
       "      <td>Launched</td>\n",
       "      <td>NaN</td>\n",
       "      <td>2019</td>\n",
       "      <td>2019-1</td>\n",
       "    </tr>\n",
       "    <tr>\n",
       "      <th>17</th>\n",
       "      <td>44727</td>\n",
       "      <td>Harmony Partners IV</td>\n",
       "      <td>10317</td>\n",
       "      <td>Venture Capital / Growth Equity</td>\n",
       "      <td>TMT</td>\n",
       "      <td>North America</td>\n",
       "      <td>United States</td>\n",
       "      <td>125000000.0</td>\n",
       "      <td>USD</td>\n",
       "      <td>NaN</td>\n",
       "      <td>NaN</td>\n",
       "      <td>Launched</td>\n",
       "      <td>NaN</td>\n",
       "      <td>2019</td>\n",
       "      <td>2019-1</td>\n",
       "    </tr>\n",
       "    <tr>\n",
       "      <th>18</th>\n",
       "      <td>44738</td>\n",
       "      <td>Light Street Beacon Principals I</td>\n",
       "      <td>19412</td>\n",
       "      <td>Venture Capital / Growth Equity</td>\n",
       "      <td>TMT</td>\n",
       "      <td>North America</td>\n",
       "      <td>United States</td>\n",
       "      <td>20000000.0</td>\n",
       "      <td>USD</td>\n",
       "      <td>NaN</td>\n",
       "      <td>NaN</td>\n",
       "      <td>Launched</td>\n",
       "      <td>NaN</td>\n",
       "      <td>2019</td>\n",
       "      <td>2019-1</td>\n",
       "    </tr>\n",
       "  </tbody>\n",
       "</table>\n",
       "</div>"
      ],
      "text/plain": [
       "    fund_id                              name  manager_id  \\\n",
       "0     34866       Ascent Venture Partners VII        6381   \n",
       "5     43446            Volunteer Park Capital       19143   \n",
       "16    44723       Flashstarts Blockchain Fund       14468   \n",
       "17    44727               Harmony Partners IV       10317   \n",
       "18    44738  Light Street Beacon Principals I       19412   \n",
       "\n",
       "                           strategy       sector         region  \\\n",
       "0   Venture Capital / Growth Equity          TMT  North America   \n",
       "5                  Mezzanine / Debt  Diversified  North America   \n",
       "16  Venture Capital / Growth Equity          TMT  North America   \n",
       "17  Venture Capital / Growth Equity          TMT  North America   \n",
       "18  Venture Capital / Growth Equity          TMT  North America   \n",
       "\n",
       "          country  target_fund_size_amt target_fund_size_currency  \\\n",
       "0   United States           150000000.0                       USD   \n",
       "5             NaN           200000000.0                       USD   \n",
       "16  United States             6000000.0                       USD   \n",
       "17  United States           125000000.0                       USD   \n",
       "18  United States            20000000.0                       USD   \n",
       "\n",
       "    fund_size_amt fund_currency               status      stage vintage_year  \\\n",
       "0             NaN           NaN             Launched        NaN         2020   \n",
       "5      30000000.0           USD  Currently Investing  1st Close         2019   \n",
       "16            NaN           NaN             Launched        NaN         2019   \n",
       "17            NaN           NaN             Launched        NaN         2019   \n",
       "18            NaN           NaN             Launched        NaN         2019   \n",
       "\n",
       "   open_date  \n",
       "0     2020-0  \n",
       "5     2019-8  \n",
       "16    2019-1  \n",
       "17    2019-1  \n",
       "18    2019-1  "
      ]
     },
     "execution_count": 142,
     "metadata": {},
     "output_type": "execute_result"
    }
   ],
   "source": [
    "df3_ef = df3[df3.target_fund_size_amt <= 250000000]\n",
    "df3_ef.head()"
   ]
  },
  {
   "cell_type": "code",
   "execution_count": 143,
   "id": "5b683976",
   "metadata": {
    "scrolled": true
   },
   "outputs": [
    {
     "name": "stderr",
     "output_type": "stream",
     "text": [
      "/opt/anaconda3/lib/python3.9/site-packages/pandas/core/generic.py:5516: SettingWithCopyWarning: \n",
      "A value is trying to be set on a copy of a slice from a DataFrame.\n",
      "Try using .loc[row_indexer,col_indexer] = value instead\n",
      "\n",
      "See the caveats in the documentation: https://pandas.pydata.org/pandas-docs/stable/user_guide/indexing.html#returning-a-view-versus-a-copy\n",
      "  self[name] = value\n"
     ]
    }
   ],
   "source": [
    "df3_ef.sector = df3_ef.sector.str.strip()"
   ]
  },
  {
   "cell_type": "code",
   "execution_count": 144,
   "id": "0d5c5410",
   "metadata": {},
   "outputs": [
    {
     "data": {
      "text/plain": [
       "array(['TMT', 'Diversified', 'Consumer Goods', 'Business Services',\n",
       "       'Other', 'Financial Services', 'Healthcare', 'Energy / Oil & Gas',\n",
       "       'Agribusiness', 'Biotech / Life Science', 'Retail',\n",
       "       'Natural Resources', 'Leisure', 'Transport', 'Industrials',\n",
       "       'Manufacturing', 'Clean Tech / Renewable'], dtype=object)"
      ]
     },
     "execution_count": 144,
     "metadata": {},
     "output_type": "execute_result"
    }
   ],
   "source": [
    "df3_ef.sector.unique()"
   ]
  },
  {
   "cell_type": "code",
   "execution_count": 145,
   "id": "cb12867a",
   "metadata": {},
   "outputs": [],
   "source": [
    "df3_ef.strategy = df3_ef.strategy.str.strip()"
   ]
  },
  {
   "cell_type": "code",
   "execution_count": 146,
   "id": "45e5ccc8",
   "metadata": {},
   "outputs": [
    {
     "data": {
      "text/plain": [
       "array(['Venture Capital / Growth Equity', 'Mezzanine / Debt',\n",
       "       'Buyout / Corporate Private Equity', 'Secondaries',\n",
       "       'Fund of Funds / Co-Investment', 'Distressed / Turnaround',\n",
       "       'Other'], dtype=object)"
      ]
     },
     "execution_count": 146,
     "metadata": {},
     "output_type": "execute_result"
    }
   ],
   "source": [
    "df3_ef.strategy.unique()"
   ]
  },
  {
   "cell_type": "code",
   "execution_count": 147,
   "id": "a87c1c57",
   "metadata": {},
   "outputs": [
    {
     "data": {
      "text/plain": [
       "sector\n",
       "Agribusiness               32\n",
       "Biotech / Life Science     76\n",
       "Business Services          41\n",
       "Clean Tech / Renewable     29\n",
       "Consumer Goods            101\n",
       "Diversified               222\n",
       "Energy / Oil & Gas         32\n",
       "Financial Services         62\n",
       "Healthcare                109\n",
       "Industrials                23\n",
       "Leisure                     7\n",
       "Manufacturing              14\n",
       "Natural Resources           4\n",
       "Other                      42\n",
       "Retail                     17\n",
       "TMT                       555\n",
       "Transport                  17\n",
       "Name: sector, dtype: int64"
      ]
     },
     "execution_count": 147,
     "metadata": {},
     "output_type": "execute_result"
    }
   ],
   "source": [
    "df3_ef.groupby('sector')['sector'].count()"
   ]
  },
  {
   "cell_type": "code",
   "execution_count": 148,
   "id": "47303416",
   "metadata": {},
   "outputs": [
    {
     "data": {
      "text/plain": [
       "strategy\n",
       "Buyout / Corporate Private Equity     173\n",
       "Distressed / Turnaround                10\n",
       "Fund of Funds / Co-Investment          54\n",
       "Mezzanine / Debt                       53\n",
       "Other                                   1\n",
       "Secondaries                            19\n",
       "Venture Capital / Growth Equity      1073\n",
       "Name: strategy, dtype: int64"
      ]
     },
     "execution_count": 148,
     "metadata": {},
     "output_type": "execute_result"
    }
   ],
   "source": [
    "df3_ef.groupby('strategy')['strategy'].count()"
   ]
  },
  {
   "cell_type": "code",
   "execution_count": 149,
   "id": "70f3d9d0",
   "metadata": {
    "scrolled": false
   },
   "outputs": [
    {
     "data": {
      "text/html": [
       "<div>\n",
       "<style scoped>\n",
       "    .dataframe tbody tr th:only-of-type {\n",
       "        vertical-align: middle;\n",
       "    }\n",
       "\n",
       "    .dataframe tbody tr th {\n",
       "        vertical-align: top;\n",
       "    }\n",
       "\n",
       "    .dataframe thead th {\n",
       "        text-align: right;\n",
       "    }\n",
       "</style>\n",
       "<table border=\"1\" class=\"dataframe\">\n",
       "  <thead>\n",
       "    <tr style=\"text-align: right;\">\n",
       "      <th></th>\n",
       "      <th>fund_id</th>\n",
       "      <th>name</th>\n",
       "      <th>manager_id</th>\n",
       "      <th>strategy</th>\n",
       "      <th>sector</th>\n",
       "      <th>region</th>\n",
       "      <th>country</th>\n",
       "      <th>target_fund_size_amt</th>\n",
       "      <th>target_fund_size_currency</th>\n",
       "      <th>fund_size_amt</th>\n",
       "      <th>fund_currency</th>\n",
       "      <th>status</th>\n",
       "      <th>stage</th>\n",
       "      <th>vintage_year</th>\n",
       "      <th>open_date</th>\n",
       "    </tr>\n",
       "  </thead>\n",
       "  <tbody>\n",
       "    <tr>\n",
       "      <th>0</th>\n",
       "      <td>34866</td>\n",
       "      <td>Ascent Venture Partners VII</td>\n",
       "      <td>6381</td>\n",
       "      <td>Venture Capital / Growth Equity</td>\n",
       "      <td>TMT</td>\n",
       "      <td>North America</td>\n",
       "      <td>United States</td>\n",
       "      <td>150000000.0</td>\n",
       "      <td>USD</td>\n",
       "      <td>NaN</td>\n",
       "      <td>NaN</td>\n",
       "      <td>Launched</td>\n",
       "      <td>NaN</td>\n",
       "      <td>2020</td>\n",
       "      <td>2020-0</td>\n",
       "    </tr>\n",
       "    <tr>\n",
       "      <th>5</th>\n",
       "      <td>43446</td>\n",
       "      <td>Volunteer Park Capital</td>\n",
       "      <td>19143</td>\n",
       "      <td>Mezzanine / Debt</td>\n",
       "      <td>Diversified</td>\n",
       "      <td>North America</td>\n",
       "      <td>NaN</td>\n",
       "      <td>200000000.0</td>\n",
       "      <td>USD</td>\n",
       "      <td>30000000.0</td>\n",
       "      <td>USD</td>\n",
       "      <td>Currently Investing</td>\n",
       "      <td>1st Close</td>\n",
       "      <td>2019</td>\n",
       "      <td>2019-8</td>\n",
       "    </tr>\n",
       "    <tr>\n",
       "      <th>16</th>\n",
       "      <td>44723</td>\n",
       "      <td>Flashstarts Blockchain Fund</td>\n",
       "      <td>14468</td>\n",
       "      <td>Venture Capital / Growth Equity</td>\n",
       "      <td>TMT</td>\n",
       "      <td>North America</td>\n",
       "      <td>United States</td>\n",
       "      <td>6000000.0</td>\n",
       "      <td>USD</td>\n",
       "      <td>NaN</td>\n",
       "      <td>NaN</td>\n",
       "      <td>Launched</td>\n",
       "      <td>NaN</td>\n",
       "      <td>2019</td>\n",
       "      <td>2019-1</td>\n",
       "    </tr>\n",
       "    <tr>\n",
       "      <th>17</th>\n",
       "      <td>44727</td>\n",
       "      <td>Harmony Partners IV</td>\n",
       "      <td>10317</td>\n",
       "      <td>Venture Capital / Growth Equity</td>\n",
       "      <td>TMT</td>\n",
       "      <td>North America</td>\n",
       "      <td>United States</td>\n",
       "      <td>125000000.0</td>\n",
       "      <td>USD</td>\n",
       "      <td>NaN</td>\n",
       "      <td>NaN</td>\n",
       "      <td>Launched</td>\n",
       "      <td>NaN</td>\n",
       "      <td>2019</td>\n",
       "      <td>2019-1</td>\n",
       "    </tr>\n",
       "    <tr>\n",
       "      <th>18</th>\n",
       "      <td>44738</td>\n",
       "      <td>Light Street Beacon Principals I</td>\n",
       "      <td>19412</td>\n",
       "      <td>Venture Capital / Growth Equity</td>\n",
       "      <td>TMT</td>\n",
       "      <td>North America</td>\n",
       "      <td>United States</td>\n",
       "      <td>20000000.0</td>\n",
       "      <td>USD</td>\n",
       "      <td>NaN</td>\n",
       "      <td>NaN</td>\n",
       "      <td>Launched</td>\n",
       "      <td>NaN</td>\n",
       "      <td>2019</td>\n",
       "      <td>2019-1</td>\n",
       "    </tr>\n",
       "    <tr>\n",
       "      <th>...</th>\n",
       "      <td>...</td>\n",
       "      <td>...</td>\n",
       "      <td>...</td>\n",
       "      <td>...</td>\n",
       "      <td>...</td>\n",
       "      <td>...</td>\n",
       "      <td>...</td>\n",
       "      <td>...</td>\n",
       "      <td>...</td>\n",
       "      <td>...</td>\n",
       "      <td>...</td>\n",
       "      <td>...</td>\n",
       "      <td>...</td>\n",
       "      <td>...</td>\n",
       "      <td>...</td>\n",
       "    </tr>\n",
       "    <tr>\n",
       "      <th>6932</th>\n",
       "      <td>62118</td>\n",
       "      <td>Kin Ventures Fund I</td>\n",
       "      <td>23053</td>\n",
       "      <td>Venture Capital / Growth Equity</td>\n",
       "      <td>TMT</td>\n",
       "      <td>North America</td>\n",
       "      <td>NaN</td>\n",
       "      <td>100000000.0</td>\n",
       "      <td>USD</td>\n",
       "      <td>NaN</td>\n",
       "      <td>NaN</td>\n",
       "      <td>Launched</td>\n",
       "      <td>NaN</td>\n",
       "      <td>2022</td>\n",
       "      <td>2022-4</td>\n",
       "    </tr>\n",
       "    <tr>\n",
       "      <th>6934</th>\n",
       "      <td>62121</td>\n",
       "      <td>Fintech Collective Opportunity Fund I</td>\n",
       "      <td>18127</td>\n",
       "      <td>Venture Capital / Growth Equity</td>\n",
       "      <td>Financial Services</td>\n",
       "      <td>North America</td>\n",
       "      <td>NaN</td>\n",
       "      <td>100000000.0</td>\n",
       "      <td>USD</td>\n",
       "      <td>NaN</td>\n",
       "      <td>NaN</td>\n",
       "      <td>Launched</td>\n",
       "      <td>NaN</td>\n",
       "      <td>2022</td>\n",
       "      <td>2022-4</td>\n",
       "    </tr>\n",
       "    <tr>\n",
       "      <th>6935</th>\n",
       "      <td>62121</td>\n",
       "      <td>Fintech Collective Opportunity Fund I</td>\n",
       "      <td>18127</td>\n",
       "      <td>Venture Capital / Growth Equity</td>\n",
       "      <td>TMT</td>\n",
       "      <td>North America</td>\n",
       "      <td>NaN</td>\n",
       "      <td>100000000.0</td>\n",
       "      <td>USD</td>\n",
       "      <td>NaN</td>\n",
       "      <td>NaN</td>\n",
       "      <td>Launched</td>\n",
       "      <td>NaN</td>\n",
       "      <td>2022</td>\n",
       "      <td>2022-4</td>\n",
       "    </tr>\n",
       "    <tr>\n",
       "      <th>6940</th>\n",
       "      <td>62126</td>\n",
       "      <td>Amen Capital Fund I</td>\n",
       "      <td>23054</td>\n",
       "      <td>Venture Capital / Growth Equity</td>\n",
       "      <td>Financial Services</td>\n",
       "      <td>North America</td>\n",
       "      <td>NaN</td>\n",
       "      <td>25000000.0</td>\n",
       "      <td>USD</td>\n",
       "      <td>2340000.0</td>\n",
       "      <td>USD</td>\n",
       "      <td>Currently Investing</td>\n",
       "      <td>1st Close</td>\n",
       "      <td>2021</td>\n",
       "      <td>2022-3</td>\n",
       "    </tr>\n",
       "    <tr>\n",
       "      <th>6941</th>\n",
       "      <td>62126</td>\n",
       "      <td>Amen Capital Fund I</td>\n",
       "      <td>23054</td>\n",
       "      <td>Venture Capital / Growth Equity</td>\n",
       "      <td>TMT</td>\n",
       "      <td>North America</td>\n",
       "      <td>NaN</td>\n",
       "      <td>25000000.0</td>\n",
       "      <td>USD</td>\n",
       "      <td>2340000.0</td>\n",
       "      <td>USD</td>\n",
       "      <td>Currently Investing</td>\n",
       "      <td>1st Close</td>\n",
       "      <td>2021</td>\n",
       "      <td>2022-3</td>\n",
       "    </tr>\n",
       "  </tbody>\n",
       "</table>\n",
       "<p>1383 rows × 15 columns</p>\n",
       "</div>"
      ],
      "text/plain": [
       "      fund_id                                   name  manager_id  \\\n",
       "0       34866            Ascent Venture Partners VII        6381   \n",
       "5       43446                 Volunteer Park Capital       19143   \n",
       "16      44723            Flashstarts Blockchain Fund       14468   \n",
       "17      44727                    Harmony Partners IV       10317   \n",
       "18      44738       Light Street Beacon Principals I       19412   \n",
       "...       ...                                    ...         ...   \n",
       "6932    62118                    Kin Ventures Fund I       23053   \n",
       "6934    62121  Fintech Collective Opportunity Fund I       18127   \n",
       "6935    62121  Fintech Collective Opportunity Fund I       18127   \n",
       "6940    62126                    Amen Capital Fund I       23054   \n",
       "6941    62126                    Amen Capital Fund I       23054   \n",
       "\n",
       "                             strategy              sector         region  \\\n",
       "0     Venture Capital / Growth Equity                 TMT  North America   \n",
       "5                    Mezzanine / Debt         Diversified  North America   \n",
       "16    Venture Capital / Growth Equity                 TMT  North America   \n",
       "17    Venture Capital / Growth Equity                 TMT  North America   \n",
       "18    Venture Capital / Growth Equity                 TMT  North America   \n",
       "...                               ...                 ...            ...   \n",
       "6932  Venture Capital / Growth Equity                 TMT  North America   \n",
       "6934  Venture Capital / Growth Equity  Financial Services  North America   \n",
       "6935  Venture Capital / Growth Equity                 TMT  North America   \n",
       "6940  Venture Capital / Growth Equity  Financial Services  North America   \n",
       "6941  Venture Capital / Growth Equity                 TMT  North America   \n",
       "\n",
       "            country  target_fund_size_amt target_fund_size_currency  \\\n",
       "0     United States           150000000.0                       USD   \n",
       "5               NaN           200000000.0                       USD   \n",
       "16    United States             6000000.0                       USD   \n",
       "17    United States           125000000.0                       USD   \n",
       "18    United States            20000000.0                       USD   \n",
       "...             ...                   ...                       ...   \n",
       "6932            NaN           100000000.0                       USD   \n",
       "6934            NaN           100000000.0                       USD   \n",
       "6935            NaN           100000000.0                       USD   \n",
       "6940            NaN            25000000.0                       USD   \n",
       "6941            NaN            25000000.0                       USD   \n",
       "\n",
       "      fund_size_amt fund_currency               status      stage  \\\n",
       "0               NaN           NaN             Launched        NaN   \n",
       "5        30000000.0           USD  Currently Investing  1st Close   \n",
       "16              NaN           NaN             Launched        NaN   \n",
       "17              NaN           NaN             Launched        NaN   \n",
       "18              NaN           NaN             Launched        NaN   \n",
       "...             ...           ...                  ...        ...   \n",
       "6932            NaN           NaN             Launched        NaN   \n",
       "6934            NaN           NaN             Launched        NaN   \n",
       "6935            NaN           NaN             Launched        NaN   \n",
       "6940      2340000.0           USD  Currently Investing  1st Close   \n",
       "6941      2340000.0           USD  Currently Investing  1st Close   \n",
       "\n",
       "     vintage_year open_date  \n",
       "0            2020    2020-0  \n",
       "5            2019    2019-8  \n",
       "16           2019    2019-1  \n",
       "17           2019    2019-1  \n",
       "18           2019    2019-1  \n",
       "...           ...       ...  \n",
       "6932         2022    2022-4  \n",
       "6934         2022    2022-4  \n",
       "6935         2022    2022-4  \n",
       "6940         2021    2022-3  \n",
       "6941         2021    2022-3  \n",
       "\n",
       "[1383 rows x 15 columns]"
      ]
     },
     "execution_count": 149,
     "metadata": {},
     "output_type": "execute_result"
    }
   ],
   "source": [
    "df3_ef"
   ]
  },
  {
   "cell_type": "code",
   "execution_count": 150,
   "id": "222278ff",
   "metadata": {},
   "outputs": [],
   "source": [
    "df3_ef.to_csv('buyouts_funds/buyouts_funds_csv/buyouts_funds_final.csv')"
   ]
  },
  {
   "cell_type": "code",
   "execution_count": null,
   "id": "20aaabcd",
   "metadata": {},
   "outputs": [],
   "source": []
  },
  {
   "cell_type": "code",
   "execution_count": null,
   "id": "fd9fd3c9",
   "metadata": {},
   "outputs": [],
   "source": []
  },
  {
   "cell_type": "code",
   "execution_count": 151,
   "id": "b1c02b3b",
   "metadata": {
    "scrolled": true
   },
   "outputs": [
    {
     "data": {
      "text/html": [
       "<div>\n",
       "<style scoped>\n",
       "    .dataframe tbody tr th:only-of-type {\n",
       "        vertical-align: middle;\n",
       "    }\n",
       "\n",
       "    .dataframe tbody tr th {\n",
       "        vertical-align: top;\n",
       "    }\n",
       "\n",
       "    .dataframe thead th {\n",
       "        text-align: right;\n",
       "    }\n",
       "</style>\n",
       "<table border=\"1\" class=\"dataframe\">\n",
       "  <thead>\n",
       "    <tr style=\"text-align: right;\">\n",
       "      <th></th>\n",
       "      <th>manager_id</th>\n",
       "    </tr>\n",
       "  </thead>\n",
       "  <tbody>\n",
       "    <tr>\n",
       "      <th>0</th>\n",
       "      <td>6381</td>\n",
       "    </tr>\n",
       "    <tr>\n",
       "      <th>1</th>\n",
       "      <td>15168</td>\n",
       "    </tr>\n",
       "    <tr>\n",
       "      <th>2</th>\n",
       "      <td>15168</td>\n",
       "    </tr>\n",
       "    <tr>\n",
       "      <th>3</th>\n",
       "      <td>1671</td>\n",
       "    </tr>\n",
       "    <tr>\n",
       "      <th>4</th>\n",
       "      <td>19136</td>\n",
       "    </tr>\n",
       "  </tbody>\n",
       "</table>\n",
       "</div>"
      ],
      "text/plain": [
       "   manager_id\n",
       "0        6381\n",
       "1       15168\n",
       "2       15168\n",
       "3        1671\n",
       "4       19136"
      ]
     },
     "execution_count": 151,
     "metadata": {},
     "output_type": "execute_result"
    }
   ],
   "source": [
    "buyouts_funds_id = df3.filter(['manager', 'manager_id'], axis=1)\n",
    "buyouts_funds_id.head()"
   ]
  },
  {
   "cell_type": "code",
   "execution_count": 153,
   "id": "21e329ed",
   "metadata": {},
   "outputs": [],
   "source": [
    "buyouts_funds_id.to_csv('buyouts_funds/buyouts_funds_csv/buyouts_funds_id.csv')"
   ]
  },
  {
   "cell_type": "code",
   "execution_count": null,
   "id": "aaa8a905",
   "metadata": {},
   "outputs": [],
   "source": []
  },
  {
   "cell_type": "code",
   "execution_count": null,
   "id": "1ef398b6",
   "metadata": {},
   "outputs": [],
   "source": []
  },
  {
   "cell_type": "markdown",
   "id": "4a2288b5",
   "metadata": {},
   "source": [
    "### Buyouts_LP"
   ]
  },
  {
   "cell_type": "code",
   "execution_count": 159,
   "id": "8d29ab05",
   "metadata": {},
   "outputs": [],
   "source": [
    "df2 = pd.read_csv('buyouts_lp/buyouts_lp_csv/lp_1NF.csv')"
   ]
  },
  {
   "cell_type": "code",
   "execution_count": 160,
   "id": "d255aa73",
   "metadata": {
    "scrolled": true
   },
   "outputs": [
    {
     "data": {
      "text/html": [
       "<div>\n",
       "<style scoped>\n",
       "    .dataframe tbody tr th:only-of-type {\n",
       "        vertical-align: middle;\n",
       "    }\n",
       "\n",
       "    .dataframe tbody tr th {\n",
       "        vertical-align: top;\n",
       "    }\n",
       "\n",
       "    .dataframe thead th {\n",
       "        text-align: right;\n",
       "    }\n",
       "</style>\n",
       "<table border=\"1\" class=\"dataframe\">\n",
       "  <thead>\n",
       "    <tr style=\"text-align: right;\">\n",
       "      <th></th>\n",
       "      <th>lp_id</th>\n",
       "      <th>lp_name</th>\n",
       "      <th>type</th>\n",
       "      <th>type_id</th>\n",
       "      <th>asset_amount</th>\n",
       "      <th>currency</th>\n",
       "      <th>hq_city</th>\n",
       "      <th>hq_country</th>\n",
       "    </tr>\n",
       "  </thead>\n",
       "  <tbody>\n",
       "    <tr>\n",
       "      <th>0</th>\n",
       "      <td>3</td>\n",
       "      <td>Abell Foundation</td>\n",
       "      <td>Foundation / Endowment</td>\n",
       "      <td>5</td>\n",
       "      <td>3.586300e+08</td>\n",
       "      <td>USD</td>\n",
       "      <td>Baltimore</td>\n",
       "      <td>United States</td>\n",
       "    </tr>\n",
       "    <tr>\n",
       "      <th>1</th>\n",
       "      <td>4</td>\n",
       "      <td>ABN AMRO</td>\n",
       "      <td>Bank / Financial Services</td>\n",
       "      <td>25</td>\n",
       "      <td>4.199500e+11</td>\n",
       "      <td>EUR</td>\n",
       "      <td>Amsterdam</td>\n",
       "      <td>Netherlands</td>\n",
       "    </tr>\n",
       "    <tr>\n",
       "      <th>2</th>\n",
       "      <td>5</td>\n",
       "      <td>Stichting Pensioenfonds ABP</td>\n",
       "      <td>Public Pension Fund</td>\n",
       "      <td>12</td>\n",
       "      <td>5.500000e+11</td>\n",
       "      <td>EUR</td>\n",
       "      <td>Heerlen</td>\n",
       "      <td>Netherlands</td>\n",
       "    </tr>\n",
       "    <tr>\n",
       "      <th>3</th>\n",
       "      <td>8</td>\n",
       "      <td>AEGON USA</td>\n",
       "      <td>Insurance Company</td>\n",
       "      <td>8</td>\n",
       "      <td>NaN</td>\n",
       "      <td>NaN</td>\n",
       "      <td>Baltimore</td>\n",
       "      <td>United States</td>\n",
       "    </tr>\n",
       "    <tr>\n",
       "      <th>4</th>\n",
       "      <td>9</td>\n",
       "      <td>Aetna</td>\n",
       "      <td>Private Pension Fund</td>\n",
       "      <td>26</td>\n",
       "      <td>5.710000e+09</td>\n",
       "      <td>USD</td>\n",
       "      <td>Hartford</td>\n",
       "      <td>United States</td>\n",
       "    </tr>\n",
       "  </tbody>\n",
       "</table>\n",
       "</div>"
      ],
      "text/plain": [
       "   lp_id                      lp_name                       type  type_id  \\\n",
       "0      3             Abell Foundation     Foundation / Endowment        5   \n",
       "1      4                     ABN AMRO  Bank / Financial Services       25   \n",
       "2      5  Stichting Pensioenfonds ABP        Public Pension Fund       12   \n",
       "3      8                    AEGON USA          Insurance Company        8   \n",
       "4      9                        Aetna       Private Pension Fund       26   \n",
       "\n",
       "   asset_amount currency    hq_city      hq_country  \n",
       "0  3.586300e+08      USD  Baltimore   United States  \n",
       "1  4.199500e+11      EUR  Amsterdam     Netherlands  \n",
       "2  5.500000e+11      EUR    Heerlen     Netherlands  \n",
       "3           NaN      NaN  Baltimore   United States  \n",
       "4  5.710000e+09      USD   Hartford   United States  "
      ]
     },
     "execution_count": 160,
     "metadata": {},
     "output_type": "execute_result"
    }
   ],
   "source": [
    "df2.head()"
   ]
  },
  {
   "cell_type": "code",
   "execution_count": 161,
   "id": "4f16944c",
   "metadata": {},
   "outputs": [],
   "source": [
    "df2.drop(columns ='type_id', axis = 1, inplace = True)"
   ]
  },
  {
   "cell_type": "code",
   "execution_count": 162,
   "id": "b47f2895",
   "metadata": {},
   "outputs": [],
   "source": [
    "df2.hq_country= df2.hq_country.str.strip()"
   ]
  },
  {
   "cell_type": "code",
   "execution_count": 163,
   "id": "3b3e5ed3",
   "metadata": {
    "scrolled": false
   },
   "outputs": [],
   "source": [
    "lp_us = df2[df2['hq_country']=='United States']"
   ]
  },
  {
   "cell_type": "code",
   "execution_count": 164,
   "id": "1e9fbe98",
   "metadata": {},
   "outputs": [
    {
     "data": {
      "text/plain": [
       "<AxesSubplot:xlabel='count', ylabel='type'>"
      ]
     },
     "execution_count": 164,
     "metadata": {},
     "output_type": "execute_result"
    },
    {
     "data": {
      "image/png": "[encoded data removed]",
      "text/plain": [
       "<Figure size 432x288 with 1 Axes>"
      ]
     },
     "metadata": {
      "needs_background": "light"
     },
     "output_type": "display_data"
    }
   ],
   "source": [
    "sns.countplot(y ='type', data = lp_us, order=lp_us['type'].value_counts().index)"
   ]
  },
  {
   "cell_type": "code",
   "execution_count": 166,
   "id": "5ebdb25d",
   "metadata": {},
   "outputs": [],
   "source": [
    "lp_us.to_csv('buyouts_lp/buyouts_lp_csv/buyouts_lp_final.csv')"
   ]
  },
  {
   "cell_type": "code",
   "execution_count": null,
   "id": "8a425759",
   "metadata": {},
   "outputs": [],
   "source": []
  },
  {
   "cell_type": "code",
   "execution_count": null,
   "id": "46da67ae",
   "metadata": {},
   "outputs": [],
   "source": []
  },
  {
   "cell_type": "code",
   "execution_count": 167,
   "id": "5eb0da9c",
   "metadata": {},
   "outputs": [
    {
     "data": {
      "text/html": [
       "<div>\n",
       "<style scoped>\n",
       "    .dataframe tbody tr th:only-of-type {\n",
       "        vertical-align: middle;\n",
       "    }\n",
       "\n",
       "    .dataframe tbody tr th {\n",
       "        vertical-align: top;\n",
       "    }\n",
       "\n",
       "    .dataframe thead th {\n",
       "        text-align: right;\n",
       "    }\n",
       "</style>\n",
       "<table border=\"1\" class=\"dataframe\">\n",
       "  <thead>\n",
       "    <tr style=\"text-align: right;\">\n",
       "      <th></th>\n",
       "      <th>type</th>\n",
       "    </tr>\n",
       "  </thead>\n",
       "  <tbody>\n",
       "    <tr>\n",
       "      <th>0</th>\n",
       "      <td>Foundation / Endowment</td>\n",
       "    </tr>\n",
       "    <tr>\n",
       "      <th>3</th>\n",
       "      <td>Insurance Company</td>\n",
       "    </tr>\n",
       "    <tr>\n",
       "      <th>4</th>\n",
       "      <td>Private Pension Fund</td>\n",
       "    </tr>\n",
       "    <tr>\n",
       "      <th>6</th>\n",
       "      <td>Public Pension Fund</td>\n",
       "    </tr>\n",
       "    <tr>\n",
       "      <th>7</th>\n",
       "      <td>Public Pension Fund</td>\n",
       "    </tr>\n",
       "  </tbody>\n",
       "</table>\n",
       "</div>"
      ],
      "text/plain": [
       "                     type\n",
       "0  Foundation / Endowment\n",
       "3       Insurance Company\n",
       "4    Private Pension Fund\n",
       "6     Public Pension Fund\n",
       "7     Public Pension Fund"
      ]
     },
     "execution_count": 167,
     "metadata": {},
     "output_type": "execute_result"
    }
   ],
   "source": [
    "lp_us_id = lp_us.filter(['type', 'type_id'], axis=1)\n",
    "lp_us_id.head()"
   ]
  },
  {
   "cell_type": "code",
   "execution_count": 169,
   "id": "ebaa9cc1",
   "metadata": {},
   "outputs": [],
   "source": [
    "lp_us_id.to_csv('buyouts_lp/buyouts_lp_csv/buyouts_lp_type.csv')"
   ]
  },
  {
   "cell_type": "code",
   "execution_count": null,
   "id": "0b14c651",
   "metadata": {},
   "outputs": [],
   "source": [
    "#df3 = pd.read_csv('buyouts_lp/lp_sector.csv')"
   ]
  },
  {
   "cell_type": "code",
   "execution_count": null,
   "id": "0577f8d7",
   "metadata": {
    "scrolled": true
   },
   "outputs": [],
   "source": [
    "#df3.head()"
   ]
  },
  {
   "cell_type": "code",
   "execution_count": null,
   "id": "5cf34da0",
   "metadata": {},
   "outputs": [],
   "source": [
    "#lp_inner = df2.merge(df3, left_on='lp_id',right_on='lp_id')"
   ]
  },
  {
   "cell_type": "code",
   "execution_count": null,
   "id": "7dff82e0",
   "metadata": {
    "scrolled": true
   },
   "outputs": [],
   "source": [
    "#lp_inner.head()"
   ]
  },
  {
   "cell_type": "code",
   "execution_count": null,
   "id": "b351b615",
   "metadata": {},
   "outputs": [],
   "source": [
    "#lp_inner.hasAppetite.unique()"
   ]
  },
  {
   "cell_type": "code",
   "execution_count": null,
   "id": "490879d7",
   "metadata": {},
   "outputs": [],
   "source": [
    "#lp_sector = lp_inner[(lp_inner.hasAppetite)==True]"
   ]
  },
  {
   "cell_type": "code",
   "execution_count": null,
   "id": "d0425d55",
   "metadata": {},
   "outputs": [],
   "source": [
    "#lp_sec_info = lp_sector[lp_sector.hq_country=='United States']"
   ]
  },
  {
   "cell_type": "code",
   "execution_count": null,
   "id": "3f3e9469",
   "metadata": {},
   "outputs": [],
   "source": [
    "#lp_sec_info"
   ]
  },
  {
   "cell_type": "code",
   "execution_count": null,
   "id": "4972d65a",
   "metadata": {
    "scrolled": true
   },
   "outputs": [],
   "source": [
    "#sns.countplot(y = 'sector', data = lp_sec_info, order=lp_sec_info['sector'].value_counts().index)"
   ]
  },
  {
   "cell_type": "code",
   "execution_count": null,
   "id": "d6a0103d",
   "metadata": {},
   "outputs": [],
   "source": [
    "#df4 = pd.read_csv('buyouts_lp/lp_strategy.csv')"
   ]
  },
  {
   "cell_type": "code",
   "execution_count": null,
   "id": "b03557da",
   "metadata": {
    "scrolled": true
   },
   "outputs": [],
   "source": [
    "#df4.head()"
   ]
  },
  {
   "cell_type": "code",
   "execution_count": null,
   "id": "69e47251",
   "metadata": {},
   "outputs": [],
   "source": [
    "#lp_in = df2.merge(df4, left_on='lp_id',right_on='lp_id')"
   ]
  },
  {
   "cell_type": "code",
   "execution_count": null,
   "id": "29ef3407",
   "metadata": {},
   "outputs": [],
   "source": [
    "#lp_in.head()"
   ]
  },
  {
   "cell_type": "code",
   "execution_count": null,
   "id": "ae2da881",
   "metadata": {},
   "outputs": [],
   "source": [
    "#lp_strat_info = lp_in[(lp_in.regions == 'North America')]"
   ]
  },
  {
   "cell_type": "code",
   "execution_count": null,
   "id": "6ad3e938",
   "metadata": {},
   "outputs": [],
   "source": [
    "#lp_strat_info"
   ]
  },
  {
   "cell_type": "code",
   "execution_count": null,
   "id": "ff35d693",
   "metadata": {},
   "outputs": [],
   "source": [
    "#sns.countplot(y = 'strategy', data = lp_strat_info, order=lp_strat_info['strategy'].value_counts().index)"
   ]
  },
  {
   "cell_type": "code",
   "execution_count": null,
   "id": "f1651e96",
   "metadata": {},
   "outputs": [],
   "source": [
    "#lp_us_copy = lp_us.sort_values('asset_amount', ascending=False)\n",
    "#lp_us_copy.head()"
   ]
  },
  {
   "cell_type": "code",
   "execution_count": null,
   "id": "16635ea6",
   "metadata": {
    "scrolled": true
   },
   "outputs": [],
   "source": [
    "#plt.barh(lp_us_copy['type'], lp_us_copy['asset_amount'])\n",
    "#ax1 = plt.gca()\n",
    "#ax1.invert_yaxis()\n",
    "#plt.show()"
   ]
  },
  {
   "cell_type": "code",
   "execution_count": null,
   "id": "f0b55469",
   "metadata": {},
   "outputs": [],
   "source": []
  },
  {
   "cell_type": "code",
   "execution_count": null,
   "id": "1623ea18",
   "metadata": {},
   "outputs": [],
   "source": []
  },
  {
   "cell_type": "code",
   "execution_count": null,
   "id": "e3b22761",
   "metadata": {},
   "outputs": [],
   "source": []
  }
 ],
 "metadata": {
  "kernelspec": {
   "display_name": "Python 3 (ipykernel)",
   "language": "python",
   "name": "python3"
  },
  "language_info": {
   "codemirror_mode": {
    "name": "ipython",
    "version": 3
   },
   "file_extension": ".py",
   "mimetype": "text/x-python",
   "name": "python",
   "nbconvert_exporter": "python",
   "pygments_lexer": "ipython3",
   "version": "3.9.7"
  }
 },
 "nbformat": 4,
 "nbformat_minor": 5
}
