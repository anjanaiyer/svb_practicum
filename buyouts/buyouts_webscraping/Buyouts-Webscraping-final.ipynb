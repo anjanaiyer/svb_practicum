{
 "cells": [
  {
   "cell_type": "code",
   "execution_count": 19,
   "id": "cb7a8815",
   "metadata": {},
   "outputs": [],
   "source": [
    "import requests \n",
    "from bs4 import BeautifulSoup as bs\n",
    "import pandas as pd\n",
    "import json\n",
    "from pandas import json_normalize\n"
   ]
  },
  {
   "cell_type": "code",
   "execution_count": 20,
   "id": "29e1a991",
   "metadata": {},
   "outputs": [],
   "source": [
    "cookies = {\n",
    "    'AWSALBCORS': '0VL6/gIE9zm5rWHa3KY5A0Awn47akgwCKsyTXB86Opj280uLaAgqlt9ZISwMYKrN+kxhEdgRORy3iI1mKs5M0SMutQwdOOb/NuqL7FAiczUAn0AMujMXZnkqFDAh',\n",
    "}\n",
    "\n",
    "headers = {\n",
    "    'authority': 'ra.pei.blaize.io',\n",
    "    'accept': '*/*',\n",
    "    'accept-language': 'en-US,en;q=0.9',\n",
    "    'blaize_session': 'f1fd92fc-3c0f-49a5-9986-1d657cc89b16',\n",
    "    # 'cookie': 'AWSALBCORS=0VL6/gIE9zm5rWHa3KY5A0Awn47akgwCKsyTXB86Opj280uLaAgqlt9ZISwMYKrN+kxhEdgRORy3iI1mKs5M0SMutQwdOOb/NuqL7FAiczUAn0AMujMXZnkqFDAh',\n",
    "    'origin': 'https://www.buyoutsinsider.com',\n",
    "    'referer': 'https://www.buyoutsinsider.com/',\n",
    "    'sec-ch-ua': '\" Not A;Brand\";v=\"99\", \"Chromium\";v=\"100\", \"Google Chrome\";v=\"100\"',\n",
    "    'sec-ch-ua-mobile': '?0',\n",
    "    'sec-ch-ua-platform': '\"macOS\"',\n",
    "    'sec-fetch-dest': 'empty',\n",
    "    'sec-fetch-mode': 'cors',\n",
    "    'sec-fetch-site': 'cross-site',\n",
    "    'user-agent': 'Mozilla/5.0 (Macintosh; Intel Mac OS X 10_15_7) AppleWebKit/537.36 (KHTML, like Gecko) Chrome/100.0.4896.88 Safari/537.36',\n",
    "    'x-pei-asset-classes': '1,4,7,8',\n",
    "}\n"
   ]
  },
  {
   "cell_type": "code",
   "execution_count": 21,
   "id": "a19e7fb4",
   "metadata": {},
   "outputs": [],
   "source": [
    "response = requests.get('https://ra.pei.blaize.io/api/v2/buyouts/funds/in-market?count=4000&start=0&sort=targetFundSize.amount:desc', headers=headers, cookies=cookies)\n",
    "soup = bs(response.content, 'lxml')\n",
    "text = soup.get_text()\n",
    "dictionary = json.loads(text)\n",
    "df= pd.json_normalize(dictionary['data'])"
   ]
  },
  {
   "cell_type": "code",
   "execution_count": 22,
   "id": "5a3a3b63",
   "metadata": {},
   "outputs": [],
   "source": [
    "df.columns= [\n",
    "    'ID',\n",
    "    'Name',\n",
    "    'FundManager',\n",
    "    'FundManagerID',\n",
    "    'Strategy',\n",
    "    'Region',\n",
    "    'Sector',\n",
    "    'VintageYear',\n",
    "    'YearOpened',\n",
    "    'MonthsOpened',\n",
    "    'TargetSize',\n",
    "    'Currency'\n",
    "]"
   ]
  },
  {
   "cell_type": "code",
   "execution_count": 23,
   "id": "0f0d5430",
   "metadata": {},
   "outputs": [],
   "source": [
    "list_col =  df.columns.to_list()\n",
    "df = df.reindex(columns= list_col)\n",
    "df = df.sort_values(by='ID' ,ascending = True)\n",
    "df.to_csv ('Buyouts_Funds.csv', index = False)"
   ]
  },
  {
   "cell_type": "code",
   "execution_count": 2,
   "id": "ac7a09a4",
   "metadata": {},
   "outputs": [],
   "source": [
    "cookies = {\n",
    "    'AWSALBCORS': 'FVv0kaWG5A4+5flQGhblhuKr32aly3lRL+V80UeiRYTf20doVPMbVs1LXr1SnaL5SBfLJr5v9NKZJRknlO4VjUMGfVWOIzvy3Q9YHXC4YsDXEHrMUuZ63k4gbNDe',\n",
    "}\n",
    "\n",
    "headers = {\n",
    "    'authority': 'ra.pei.blaize.io',\n",
    "    'sec-ch-ua': '\" Not A;Brand\";v=\"99\", \"Chromium\";v=\"99\", \"Google Chrome\";v=\"99\"',\n",
    "    'x-pei-asset-classes': '1,4,7,8',\n",
    "    'blaize_session': '7b01eb19-d66a-49ca-86d0-49a5d1c93fbb',\n",
    "    'sec-ch-ua-mobile': '?0',\n",
    "    'user-agent': 'Mozilla/5.0 (Macintosh; Intel Mac OS X 10_15_7) AppleWebKit/537.36 (KHTML, like Gecko) Chrome/99.0.4844.84 Safari/537.36',\n",
    "    'sec-ch-ua-platform': '\"macOS\"',\n",
    "    'accept': '*/*',\n",
    "    'origin': 'https://www.buyoutsinsider.com',\n",
    "    'sec-fetch-site': 'cross-site',\n",
    "    'sec-fetch-mode': 'cors',\n",
    "    'sec-fetch-dest': 'empty',\n",
    "    'referer': 'https://www.buyoutsinsider.com/',\n",
    "    'accept-language': 'en-US,en;q=0.9',\n",
    "    # 'cookie': 'AWSALBCORS=FVv0kaWG5A4+5flQGhblhuKr32aly3lRL+V80UeiRYTf20doVPMbVs1LXr1SnaL5SBfLJr5v9NKZJRknlO4VjUMGfVWOIzvy3Q9YHXC4YsDXEHrMUuZ63k4gbNDe',\n",
    "}\n",
    "\n"
   ]
  },
  {
   "cell_type": "code",
   "execution_count": 5,
   "id": "3a848ea7",
   "metadata": {
    "scrolled": false
   },
   "outputs": [
    {
     "name": "stdout",
     "output_type": "stream",
     "text": [
      "\n",
      "504 Gateway Time-out\n",
      "\n",
      "504 Gateway Time-out\n",
      "\n",
      "\n",
      "\n",
      "\n"
     ]
    }
   ],
   "source": [
    "reply = requests.get('https://ra.pei.blaize.io/api/v2/buyouts/institutions?count=4200&start=0&sort=name:asc&lp=true', headers=headers, cookies=cookies)\n",
    "broth = bs(reply.content,'lxml')\n",
    "txt = broth.get_text()\n",
    "dict1 = json.loads(txt)\n",
    "df1 = pd.json_normalize(dict1['data'])"
   ]
  },
  {
   "cell_type": "code",
   "execution_count": null,
   "id": "b29ebe1a",
   "metadata": {},
   "outputs": [],
   "source": [
    "df1.columns = [\n",
    "    'ID',\n",
    "    'Name',\n",
    "    'Type',\n",
    "    'TypeID',\n",
    "    'HQ',\n",
    "    'AssetAmount',\n",
    "    'Currency'\n",
    "]"
   ]
  },
  {
   "cell_type": "code",
   "execution_count": null,
   "id": "353fb554",
   "metadata": {},
   "outputs": [],
   "source": [
    "list_col1 =  df1.columns.to_list()\n",
    "df1 = df1.reindex(columns= list_col1)\n",
    "df1 = df1.sort_values(by='ID' ,ascending = True)\n",
    "df1.to_csv ('Buyouts_LP.csv', index = False)"
   ]
  },
  {
   "cell_type": "code",
   "execution_count": 59,
   "id": "63deb0c6",
   "metadata": {},
   "outputs": [],
   "source": [
    "pd.set_option('display.max_columns', None)\n",
    "pd.set_option('display.max_rows', None)"
   ]
  },
  {
   "cell_type": "code",
   "execution_count": 71,
   "id": "c31d7c3e",
   "metadata": {
    "scrolled": true
   },
   "outputs": [],
   "source": [
    "df2 = pd.read_csv('Buyouts_LP.csv')"
   ]
  },
  {
   "cell_type": "code",
   "execution_count": null,
   "id": "86495f4e",
   "metadata": {},
   "outputs": [],
   "source": [
    "https://ra.pei.blaize.io/api/v2/buyouts/funds/in-market?count=3000&start=0&sort=name:desc\n",
    "https://ra.pei.blaize.io/api/v2/buyouts/funds/in-market?count=200&start=200&sort=name:desc       "
   ]
  },
  {
   "cell_type": "code",
   "execution_count": null,
   "id": "562cce06",
   "metadata": {},
   "outputs": [],
   "source": []
  },
  {
   "cell_type": "code",
   "execution_count": null,
   "id": "9e4fe7bd",
   "metadata": {},
   "outputs": [],
   "source": []
  },
  {
   "cell_type": "markdown",
   "id": "3b00766e",
   "metadata": {},
   "source": [
    "### historical funds scraping"
   ]
  },
  {
   "cell_type": "code",
   "execution_count": 8,
   "id": "962141ea",
   "metadata": {},
   "outputs": [],
   "source": [
    "import requests\n",
    "from bs4 import BeautifulSoup as bs\n",
    "import pandas as pd\n",
    "import json\n",
    "cookies = {\n",
    "    'AWSALBCORS': 'oe/xpT8DF5OOWeyHKg2T0lqe2xs27nzaKkodjfTbdh/M3HK54BHGqoAjh2k/uCAjNozr0hHPWx08gH6uu8MbSwaPdF8Ox7g12Xq1P5zqPLcPCxb1KEiHLeglz8Yl',\n",
    "}\n",
    "\n",
    "headers = {\n",
    "    'authority': 'ra.pei.blaize.io',\n",
    "    'sec-ch-ua': '\" Not A;Brand\";v=\"99\", \"Chromium\";v=\"99\", \"Google Chrome\";v=\"99\"',\n",
    "    'x-pei-asset-classes': '1,4,7,8',\n",
    "    'dnt': '1',\n",
    "    'blaize_session': '701588e9-92d7-4872-bc4e-4a69e344cb7e',\n",
    "    'sec-ch-ua-mobile': '?0',\n",
    "    'user-agent': 'Mozilla/5.0 (Macintosh; Intel Mac OS X 10_15_7) AppleWebKit/537.36 (KHTML, like Gecko) Chrome/99.0.4844.84 Safari/537.36',\n",
    "    'sec-ch-ua-platform': '\"macOS\"',\n",
    "    'accept': '*/*',\n",
    "    'origin': 'https://www.buyoutsinsider.com',\n",
    "    'sec-fetch-site': 'cross-site',\n",
    "    'sec-fetch-mode': 'cors',\n",
    "    'sec-fetch-dest': 'empty',\n",
    "    'referer': 'https://www.buyoutsinsider.com/',\n",
    "    'accept-language': 'en-US,en;q=0.9',\n",
    "    # 'cookie': 'AWSALBCORS=oe/xpT8DF5OOWeyHKg2T0lqe2xs27nzaKkodjfTbdh/M3HK54BHGqoAjh2k/uCAjNozr0hHPWx08gH6uu8MbSwaPdF8Ox7g12Xq1P5zqPLcPCxb1KEiHLeglz8Yl',\n",
    "}"
   ]
  },
  {
   "cell_type": "code",
   "execution_count": 9,
   "id": "71c7182c",
   "metadata": {},
   "outputs": [],
   "source": [
    "response = requests.get('https://ra.pei.blaize.io/api/v2/buyouts/funds?count=7159&start=0&sort=yearOfClose:asc&strategy=Venture%20Capital%20%2F%20Growth%20Equity%7C%7CVenture%20Capital%20%2F%20Growth%20Equity&yearOfClose=1980%7C%7C1981%7C%7C1982%7C%7C1983%7C%7C1984%7C%7C1985%7C%7C1986%7C%7C1987%7C%7C1988%7C%7C1989%7C%7C1990%7C%7C1991%7C%7C1992%7C%7C1993%7C%7C1994%7C%7C1995%7C%7C1996%7C%7C1997%7C%7C1998%7C%7C1999%7C%7C2000%7C%7C2001%7C%7C2002%7C%7C2003%7C%7C2004%7C%7C2005%7C%7C2006%7C%7C2007%7C%7C2008%7C%7C2009%7C%7C2010%7C%7C2011%7C%7C2012%7C%7C2013%7C%7C2014%7C%7C2015%7C%7C2016%7C%7C2017%7C%7C2018%7C%7C2019%7C%7C2020%7C%7C2021%7C%7C2022', cookies=cookies, headers=headers)\n",
    "soup = bs(response.content, 'lxml')\n",
    "text = soup.get_text()\n",
    "dictionary = json.loads(text)\n",
    "historicalfunds = json.dumps(dictionary, indent = 2)\n",
    "\n",
    "with open('buyouts_historical_funds.json', 'w') as file :\n",
    "    json.dump(historicalfunds, file)"
   ]
  },
  {
   "cell_type": "code",
   "execution_count": 10,
   "id": "1309106a",
   "metadata": {},
   "outputs": [
    {
     "name": "stdout",
     "output_type": "stream",
     "text": [
      "<bound method Tag.prettify of <html><body><p>1</p></body></html>>\n"
     ]
    }
   ],
   "source": [
    "url = f'https://www.buyoutsinsider.com/database/?_gl=1*6ricp8*_ga*MjE0MTgyODk5NC4xNjQ4NzQ1NTk1*_ga_W9T5V092TZ*MTY1MTE2MjQ4Ny43LjEuMTY1MTE2MjUwMC4w#?pctx=gqF2pjMuMS4yMqJJU94AHqFhwqFiwqFjw6FkqG5hbWU6YXNjoWWobmFtZTphc2OhZq95ZWFyT2ZDbG9zZTphc2OhecOhd8CheMCiYTEAomIxy0I289NtAAAAomMxAKJkMctCXRqUogAAAaFukKFzkKF0kKF2kKFskKFtkKFrkKJnMZK%2FVmVudHVyZSBDYXBpdGFsIC8gR3Jvd3RoIEVxdWl0eb9WZW50dXJlIENhcGl0YWwgLyBHcm93dGggRXF1aXR5omgxkKJpMZChcZChcpChasChdZChb5ChcJChetwAK80HvM0Hvc0Hvs0Hv80HwM0Hwc0Hws0Hw80HxM0Hxc0Hxs0Hx80HyM0Hyc0Hys0Hy80HzM0Hzc0Hzs0Hz80H0M0H0c0H0s0H080H1M0H1c0H1s0H180H2M0H2c0H2s0H280H3M0H3c0H3s0H380H4M0H4c0H4s0H480H5M0H5c0H5g%3D%3D'\n",
    "response = requests.get('https://www.google-analytics.com/j/collect', headers=headers)\n",
    "soup = bs(response.content, 'lxml')\n",
    "print(soup.prettify)"
   ]
  },
  {
   "cell_type": "code",
   "execution_count": 11,
   "id": "8bf2a977",
   "metadata": {},
   "outputs": [],
   "source": [
    "historicaldf = pd.json_normalize(dictionary['data'])"
   ]
  },
  {
   "cell_type": "code",
   "execution_count": 13,
   "id": "6c5a0515",
   "metadata": {},
   "outputs": [
    {
     "data": {
      "text/html": [
       "<div>\n",
       "<style scoped>\n",
       "    .dataframe tbody tr th:only-of-type {\n",
       "        vertical-align: middle;\n",
       "    }\n",
       "\n",
       "    .dataframe tbody tr th {\n",
       "        vertical-align: top;\n",
       "    }\n",
       "\n",
       "    .dataframe thead th {\n",
       "        text-align: right;\n",
       "    }\n",
       "</style>\n",
       "<table border=\"1\" class=\"dataframe\">\n",
       "  <thead>\n",
       "    <tr style=\"text-align: right;\">\n",
       "      <th></th>\n",
       "      <th>id</th>\n",
       "      <th>name</th>\n",
       "      <th>fundManagerId</th>\n",
       "      <th>fundManager</th>\n",
       "      <th>yearOfClose</th>\n",
       "      <th>strategySummary</th>\n",
       "      <th>fundSize.amount</th>\n",
       "      <th>fundSize.currency</th>\n",
       "    </tr>\n",
       "  </thead>\n",
       "  <tbody>\n",
       "    <tr>\n",
       "      <th>0</th>\n",
       "      <td>14874</td>\n",
       "      <td>Kleiner Perkins Caufield &amp; Byers II</td>\n",
       "      <td>6562</td>\n",
       "      <td>Kleiner Perkins</td>\n",
       "      <td>1980</td>\n",
       "      <td>Venture Capital / Growth Equity</td>\n",
       "      <td>55000000.0</td>\n",
       "      <td>USD</td>\n",
       "    </tr>\n",
       "    <tr>\n",
       "      <th>1</th>\n",
       "      <td>10708</td>\n",
       "      <td>TA Associates / Advent IV</td>\n",
       "      <td>6694</td>\n",
       "      <td>TA Associates</td>\n",
       "      <td>1980</td>\n",
       "      <td>Venture Capital / Growth Equity</td>\n",
       "      <td>60000000.0</td>\n",
       "      <td>USD</td>\n",
       "    </tr>\n",
       "    <tr>\n",
       "      <th>2</th>\n",
       "      <td>23717</td>\n",
       "      <td>Warburg Pincus Associates</td>\n",
       "      <td>5591</td>\n",
       "      <td>Warburg Pincus</td>\n",
       "      <td>1980</td>\n",
       "      <td>Venture Capital / Growth Equity</td>\n",
       "      <td>101000000.0</td>\n",
       "      <td>USD</td>\n",
       "    </tr>\n",
       "    <tr>\n",
       "      <th>3</th>\n",
       "      <td>15603</td>\n",
       "      <td>Excelsior Fund</td>\n",
       "      <td>6373</td>\n",
       "      <td>Apax Partners</td>\n",
       "      <td>1981</td>\n",
       "      <td>Venture Capital / Growth Equity</td>\n",
       "      <td>25530000.0</td>\n",
       "      <td>USD</td>\n",
       "    </tr>\n",
       "    <tr>\n",
       "      <th>4</th>\n",
       "      <td>15213</td>\n",
       "      <td>New Enterprise Associates II</td>\n",
       "      <td>6610</td>\n",
       "      <td>New Enterprise Associates</td>\n",
       "      <td>1981</td>\n",
       "      <td>Venture Capital / Growth Equity</td>\n",
       "      <td>45310000.0</td>\n",
       "      <td>USD</td>\n",
       "    </tr>\n",
       "  </tbody>\n",
       "</table>\n",
       "</div>"
      ],
      "text/plain": [
       "      id                                 name fundManagerId  \\\n",
       "0  14874  Kleiner Perkins Caufield & Byers II          6562   \n",
       "1  10708            TA Associates / Advent IV          6694   \n",
       "2  23717            Warburg Pincus Associates          5591   \n",
       "3  15603                       Excelsior Fund          6373   \n",
       "4  15213         New Enterprise Associates II          6610   \n",
       "\n",
       "                 fundManager  yearOfClose                  strategySummary  \\\n",
       "0            Kleiner Perkins         1980  Venture Capital / Growth Equity   \n",
       "1              TA Associates         1980  Venture Capital / Growth Equity   \n",
       "2             Warburg Pincus         1980  Venture Capital / Growth Equity   \n",
       "3              Apax Partners         1981  Venture Capital / Growth Equity   \n",
       "4  New Enterprise Associates         1981  Venture Capital / Growth Equity   \n",
       "\n",
       "   fundSize.amount fundSize.currency  \n",
       "0       55000000.0               USD  \n",
       "1       60000000.0               USD  \n",
       "2      101000000.0               USD  \n",
       "3       25530000.0               USD  \n",
       "4       45310000.0               USD  "
      ]
     },
     "execution_count": 13,
     "metadata": {},
     "output_type": "execute_result"
    }
   ],
   "source": [
    "historicaldf.head()"
   ]
  },
  {
   "cell_type": "code",
   "execution_count": 16,
   "id": "01e6f9af",
   "metadata": {},
   "outputs": [],
   "source": [
    "historicaldf.columns = [\n",
    "    'fund_id',\n",
    "    'fund_name',\n",
    "    'manager_id',\n",
    "    'manager',\n",
    "    'close_year',\n",
    "    'strategy',\n",
    "    'fund_size_amt',\n",
    "    'fund_currency',\n",
    "]"
   ]
  },
  {
   "cell_type": "code",
   "execution_count": 18,
   "id": "acc020a0",
   "metadata": {},
   "outputs": [
    {
     "data": {
      "text/html": [
       "<div>\n",
       "<style scoped>\n",
       "    .dataframe tbody tr th:only-of-type {\n",
       "        vertical-align: middle;\n",
       "    }\n",
       "\n",
       "    .dataframe tbody tr th {\n",
       "        vertical-align: top;\n",
       "    }\n",
       "\n",
       "    .dataframe thead th {\n",
       "        text-align: right;\n",
       "    }\n",
       "</style>\n",
       "<table border=\"1\" class=\"dataframe\">\n",
       "  <thead>\n",
       "    <tr style=\"text-align: right;\">\n",
       "      <th></th>\n",
       "      <th>fund_id</th>\n",
       "      <th>fund_name</th>\n",
       "      <th>manager_id</th>\n",
       "      <th>manager</th>\n",
       "      <th>close_year</th>\n",
       "      <th>strategy</th>\n",
       "      <th>fund_size_amt</th>\n",
       "      <th>fund_currency</th>\n",
       "    </tr>\n",
       "  </thead>\n",
       "  <tbody>\n",
       "    <tr>\n",
       "      <th>0</th>\n",
       "      <td>14874</td>\n",
       "      <td>Kleiner Perkins Caufield &amp; Byers II</td>\n",
       "      <td>6562</td>\n",
       "      <td>Kleiner Perkins</td>\n",
       "      <td>1980</td>\n",
       "      <td>Venture Capital / Growth Equity</td>\n",
       "      <td>55000000.0</td>\n",
       "      <td>USD</td>\n",
       "    </tr>\n",
       "    <tr>\n",
       "      <th>1</th>\n",
       "      <td>10708</td>\n",
       "      <td>TA Associates / Advent IV</td>\n",
       "      <td>6694</td>\n",
       "      <td>TA Associates</td>\n",
       "      <td>1980</td>\n",
       "      <td>Venture Capital / Growth Equity</td>\n",
       "      <td>60000000.0</td>\n",
       "      <td>USD</td>\n",
       "    </tr>\n",
       "    <tr>\n",
       "      <th>2</th>\n",
       "      <td>23717</td>\n",
       "      <td>Warburg Pincus Associates</td>\n",
       "      <td>5591</td>\n",
       "      <td>Warburg Pincus</td>\n",
       "      <td>1980</td>\n",
       "      <td>Venture Capital / Growth Equity</td>\n",
       "      <td>101000000.0</td>\n",
       "      <td>USD</td>\n",
       "    </tr>\n",
       "    <tr>\n",
       "      <th>3</th>\n",
       "      <td>15603</td>\n",
       "      <td>Excelsior Fund</td>\n",
       "      <td>6373</td>\n",
       "      <td>Apax Partners</td>\n",
       "      <td>1981</td>\n",
       "      <td>Venture Capital / Growth Equity</td>\n",
       "      <td>25530000.0</td>\n",
       "      <td>USD</td>\n",
       "    </tr>\n",
       "    <tr>\n",
       "      <th>4</th>\n",
       "      <td>15213</td>\n",
       "      <td>New Enterprise Associates II</td>\n",
       "      <td>6610</td>\n",
       "      <td>New Enterprise Associates</td>\n",
       "      <td>1981</td>\n",
       "      <td>Venture Capital / Growth Equity</td>\n",
       "      <td>45310000.0</td>\n",
       "      <td>USD</td>\n",
       "    </tr>\n",
       "  </tbody>\n",
       "</table>\n",
       "</div>"
      ],
      "text/plain": [
       "  fund_id                            fund_name manager_id  \\\n",
       "0   14874  Kleiner Perkins Caufield & Byers II       6562   \n",
       "1   10708            TA Associates / Advent IV       6694   \n",
       "2   23717            Warburg Pincus Associates       5591   \n",
       "3   15603                       Excelsior Fund       6373   \n",
       "4   15213         New Enterprise Associates II       6610   \n",
       "\n",
       "                     manager  close_year                         strategy  \\\n",
       "0            Kleiner Perkins        1980  Venture Capital / Growth Equity   \n",
       "1              TA Associates        1980  Venture Capital / Growth Equity   \n",
       "2             Warburg Pincus        1980  Venture Capital / Growth Equity   \n",
       "3              Apax Partners        1981  Venture Capital / Growth Equity   \n",
       "4  New Enterprise Associates        1981  Venture Capital / Growth Equity   \n",
       "\n",
       "   fund_size_amt fund_currency  \n",
       "0     55000000.0           USD  \n",
       "1     60000000.0           USD  \n",
       "2    101000000.0           USD  \n",
       "3     25530000.0           USD  \n",
       "4     45310000.0           USD  "
      ]
     },
     "execution_count": 18,
     "metadata": {},
     "output_type": "execute_result"
    }
   ],
   "source": [
    "historicaldf.head()"
   ]
  },
  {
   "cell_type": "code",
   "execution_count": 19,
   "id": "27649078",
   "metadata": {},
   "outputs": [],
   "source": [
    "historicaldf_col = historicaldf.columns.to_list()\n",
    "historicaldf = historicaldf.reindex(columns = historicaldf_col)\n",
    "historicaldf = historicaldf.sort_values(by='fund_id', ascending = True)\n",
    "historicaldf.to_csv ('buyouts_historical_funds.csv', index = False)"
   ]
  },
  {
   "cell_type": "code",
   "execution_count": null,
   "id": "ec5c6f28",
   "metadata": {},
   "outputs": [],
   "source": []
  }
 ],
 "metadata": {
  "kernelspec": {
   "display_name": "Python 3 (ipykernel)",
   "language": "python",
   "name": "python3"
  },
  "language_info": {
   "codemirror_mode": {
    "name": "ipython",
    "version": 3
   },
   "file_extension": ".py",
   "mimetype": "text/x-python",
   "name": "python",
   "nbconvert_exporter": "python",
   "pygments_lexer": "ipython3",
   "version": "3.9.7"
  }
 },
 "nbformat": 4,
 "nbformat_minor": 5
}
