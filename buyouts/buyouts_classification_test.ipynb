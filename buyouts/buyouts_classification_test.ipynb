{
 "cells": [
  {
   "cell_type": "code",
   "execution_count": 139,
   "id": "77961e41",
   "metadata": {},
   "outputs": [],
   "source": [
    "import matplotlib.pyplot as plt\n",
    "%matplotlib inline\n",
    "import numpy as np\n",
    "import pandas as pd\n",
    "from sklearn.linear_model import Ridge, LinearRegression, Lasso\n",
    "from sklearn.model_selection import cross_val_score, train_test_split, GridSearchCV\n",
    "from sklearn.preprocessing import StandardScaler, OneHotEncoder, MinMaxScaler, RobustScaler\n",
    "from sklearn.impute import SimpleImputer\n",
    "from scipy import sparse\n",
    "import statsmodels.api as sm\n",
    "from sklearn.pipeline import make_pipeline, Pipeline"
   ]
  },
  {
   "cell_type": "code",
   "execution_count": 4,
   "id": "189f3d87",
   "metadata": {},
   "outputs": [],
   "source": [
    "df = pd.read_csv('buyouts_funds/buyouts_funds_csv/buyouts_funds_final.csv')"
   ]
  },
  {
   "cell_type": "code",
   "execution_count": 5,
   "id": "eaba9a3b",
   "metadata": {},
   "outputs": [
    {
     "data": {
      "text/html": [
       "<div>\n",
       "<style scoped>\n",
       "    .dataframe tbody tr th:only-of-type {\n",
       "        vertical-align: middle;\n",
       "    }\n",
       "\n",
       "    .dataframe tbody tr th {\n",
       "        vertical-align: top;\n",
       "    }\n",
       "\n",
       "    .dataframe thead th {\n",
       "        text-align: right;\n",
       "    }\n",
       "</style>\n",
       "<table border=\"1\" class=\"dataframe\">\n",
       "  <thead>\n",
       "    <tr style=\"text-align: right;\">\n",
       "      <th></th>\n",
       "      <th>fund_id</th>\n",
       "      <th>fund_name</th>\n",
       "      <th>fm_id</th>\n",
       "      <th>strategy</th>\n",
       "      <th>sector</th>\n",
       "      <th>region</th>\n",
       "      <th>country</th>\n",
       "      <th>target_fund_size_amt</th>\n",
       "      <th>target_fund_size_currency</th>\n",
       "      <th>fund_size_amt</th>\n",
       "      <th>fund_currency</th>\n",
       "      <th>status</th>\n",
       "      <th>stage</th>\n",
       "      <th>vintage_year</th>\n",
       "      <th>open_date</th>\n",
       "    </tr>\n",
       "  </thead>\n",
       "  <tbody>\n",
       "    <tr>\n",
       "      <th>0</th>\n",
       "      <td>34866</td>\n",
       "      <td>Ascent Venture Partners VII</td>\n",
       "      <td>6381</td>\n",
       "      <td>Venture Capital / Growth Equity</td>\n",
       "      <td>TMT</td>\n",
       "      <td>North America</td>\n",
       "      <td>United States</td>\n",
       "      <td>150000000.0</td>\n",
       "      <td>USD</td>\n",
       "      <td>NaN</td>\n",
       "      <td>NaN</td>\n",
       "      <td>Launched</td>\n",
       "      <td>NaN</td>\n",
       "      <td>2020</td>\n",
       "      <td>2020-0</td>\n",
       "    </tr>\n",
       "    <tr>\n",
       "      <th>1</th>\n",
       "      <td>43446</td>\n",
       "      <td>Volunteer Park Capital</td>\n",
       "      <td>19143</td>\n",
       "      <td>Mezzanine / Debt</td>\n",
       "      <td>Diversified</td>\n",
       "      <td>North America</td>\n",
       "      <td>NaN</td>\n",
       "      <td>200000000.0</td>\n",
       "      <td>USD</td>\n",
       "      <td>30000000.0</td>\n",
       "      <td>USD</td>\n",
       "      <td>Currently Investing</td>\n",
       "      <td>1st Close</td>\n",
       "      <td>2019</td>\n",
       "      <td>2019-8</td>\n",
       "    </tr>\n",
       "    <tr>\n",
       "      <th>2</th>\n",
       "      <td>44723</td>\n",
       "      <td>Flashstarts Blockchain Fund</td>\n",
       "      <td>14468</td>\n",
       "      <td>Venture Capital / Growth Equity</td>\n",
       "      <td>TMT</td>\n",
       "      <td>North America</td>\n",
       "      <td>United States</td>\n",
       "      <td>6000000.0</td>\n",
       "      <td>USD</td>\n",
       "      <td>NaN</td>\n",
       "      <td>NaN</td>\n",
       "      <td>Launched</td>\n",
       "      <td>NaN</td>\n",
       "      <td>2019</td>\n",
       "      <td>2019-1</td>\n",
       "    </tr>\n",
       "    <tr>\n",
       "      <th>3</th>\n",
       "      <td>44727</td>\n",
       "      <td>Harmony Partners IV</td>\n",
       "      <td>10317</td>\n",
       "      <td>Venture Capital / Growth Equity</td>\n",
       "      <td>TMT</td>\n",
       "      <td>North America</td>\n",
       "      <td>United States</td>\n",
       "      <td>125000000.0</td>\n",
       "      <td>USD</td>\n",
       "      <td>NaN</td>\n",
       "      <td>NaN</td>\n",
       "      <td>Launched</td>\n",
       "      <td>NaN</td>\n",
       "      <td>2019</td>\n",
       "      <td>2019-1</td>\n",
       "    </tr>\n",
       "    <tr>\n",
       "      <th>4</th>\n",
       "      <td>44738</td>\n",
       "      <td>Light Street Beacon Principals I</td>\n",
       "      <td>19412</td>\n",
       "      <td>Venture Capital / Growth Equity</td>\n",
       "      <td>TMT</td>\n",
       "      <td>North America</td>\n",
       "      <td>United States</td>\n",
       "      <td>20000000.0</td>\n",
       "      <td>USD</td>\n",
       "      <td>NaN</td>\n",
       "      <td>NaN</td>\n",
       "      <td>Launched</td>\n",
       "      <td>NaN</td>\n",
       "      <td>2019</td>\n",
       "      <td>2019-1</td>\n",
       "    </tr>\n",
       "  </tbody>\n",
       "</table>\n",
       "</div>"
      ],
      "text/plain": [
       "   fund_id                         fund_name  fm_id  \\\n",
       "0    34866       Ascent Venture Partners VII   6381   \n",
       "1    43446            Volunteer Park Capital  19143   \n",
       "2    44723       Flashstarts Blockchain Fund  14468   \n",
       "3    44727               Harmony Partners IV  10317   \n",
       "4    44738  Light Street Beacon Principals I  19412   \n",
       "\n",
       "                          strategy       sector         region        country  \\\n",
       "0  Venture Capital / Growth Equity          TMT  North America  United States   \n",
       "1                 Mezzanine / Debt  Diversified  North America            NaN   \n",
       "2  Venture Capital / Growth Equity          TMT  North America  United States   \n",
       "3  Venture Capital / Growth Equity          TMT  North America  United States   \n",
       "4  Venture Capital / Growth Equity          TMT  North America  United States   \n",
       "\n",
       "   target_fund_size_amt target_fund_size_currency  fund_size_amt  \\\n",
       "0           150000000.0                       USD            NaN   \n",
       "1           200000000.0                       USD     30000000.0   \n",
       "2             6000000.0                       USD            NaN   \n",
       "3           125000000.0                       USD            NaN   \n",
       "4            20000000.0                       USD            NaN   \n",
       "\n",
       "  fund_currency               status      stage  vintage_year open_date  \n",
       "0           NaN             Launched        NaN          2020    2020-0  \n",
       "1           USD  Currently Investing  1st Close          2019    2019-8  \n",
       "2           NaN             Launched        NaN          2019    2019-1  \n",
       "3           NaN             Launched        NaN          2019    2019-1  \n",
       "4           NaN             Launched        NaN          2019    2019-1  "
      ]
     },
     "execution_count": 5,
     "metadata": {},
     "output_type": "execute_result"
    }
   ],
   "source": [
    "df.head()"
   ]
  },
  {
   "cell_type": "markdown",
   "id": "0f8efc2b",
   "metadata": {},
   "source": [
    "#### Using all features in buyouts_funds_final to predict target_fund_size_amt"
   ]
  },
  {
   "cell_type": "code",
   "execution_count": 120,
   "id": "fa6bc93b",
   "metadata": {},
   "outputs": [],
   "source": [
    "allfeatures = ['fund_id', 'fund_name', 'fm_id', 'strategy', 'sector',\n",
    "              'region', 'country', 'target_fund_size_amt',\n",
    "              'target_fund_size_currency', 'fund_size_amt', 'fund_currency',\n",
    "              'status', 'stage', 'vintage_year', 'open_date']"
   ]
  },
  {
   "cell_type": "code",
   "execution_count": 121,
   "id": "81978bf5",
   "metadata": {},
   "outputs": [],
   "source": [
    "for i in allfeatures:\n",
    "    df[i] = df[i].fillna(0)"
   ]
  },
  {
   "cell_type": "code",
   "execution_count": 122,
   "id": "93fed389",
   "metadata": {},
   "outputs": [],
   "source": [
    "df['fund_name'] = pd.to_numeric(df['fund_name'], errors='coerce')\n",
    "df['strategy'] = pd.to_numeric(df['strategy'], errors='coerce')\n",
    "df['sector'] = pd.to_numeric(df['sector'], errors='coerce')\n",
    "df['region'] = pd.to_numeric(df['region'], errors='coerce')\n",
    "df['country'] = pd.to_numeric(df['country'], errors='coerce')\n",
    "df['target_fund_size_currency'] = pd.to_numeric(df['target_fund_size_currency'], errors='coerce')\n",
    "df['fund_currency'] = pd.to_numeric(df['fund_currency'], errors='coerce')\n",
    "df['status'] = pd.to_numeric(df['status'], errors='coerce')\n",
    "df['stage'] = pd.to_numeric(df['stage'], errors='coerce')\n",
    "df['open_date'] = pd.to_numeric(df['open_date'], errors='coerce')"
   ]
  },
  {
   "cell_type": "code",
   "execution_count": 123,
   "id": "5088a153",
   "metadata": {},
   "outputs": [],
   "source": [
    "featurenames = ['fund_id', 'fund_name', 'fm_id', 'strategy', 'sector',\n",
    "               'region', 'country', 'target_fund_size_currency',\n",
    "                'fund_size_amt', 'fund_currency', 'status', 'stage',\n",
    "                'vintage_year', 'open_date']"
   ]
  },
  {
   "cell_type": "code",
   "execution_count": 124,
   "id": "56fb239e",
   "metadata": {},
   "outputs": [],
   "source": [
    "col_cat = ['fund_name', 'strategy', 'sector', 'region', 'country',\n",
    "          'target_fund_size_currency', 'fund_currency', 'status',\n",
    "          'stage', 'open_date']\n",
    "\n",
    "col_num = ['fund_id', 'fm_id', 'fund_size_amt', 'vintage_year']"
   ]
  },
  {
   "cell_type": "code",
   "execution_count": 125,
   "id": "a5a16ee5",
   "metadata": {},
   "outputs": [],
   "source": [
    "X = df[featurenames]\n",
    "y = df.target_fund_size_amt"
   ]
  },
  {
   "cell_type": "code",
   "execution_count": 126,
   "id": "376c240e",
   "metadata": {},
   "outputs": [],
   "source": [
    "X_train, X_test, y_train, y_test = train_test_split(X, y, test_size=0.1,\n",
    "                                                   random_state=0)"
   ]
  },
  {
   "cell_type": "code",
   "execution_count": 127,
   "id": "d2fd4bed",
   "metadata": {},
   "outputs": [],
   "source": [
    "X_train_cat = X_train[col_cat]\n",
    "X_train_num = X_train[col_num]\n",
    "\n",
    "X_test_cat = X_test[col_cat]\n",
    "X_test_num = X_test[col_num]"
   ]
  },
  {
   "cell_type": "code",
   "execution_count": 128,
   "id": "8fbf5a1f",
   "metadata": {},
   "outputs": [],
   "source": [
    "ohe = make_pipeline(SimpleImputer(strategy='constant'), OneHotEncoder())\n",
    "X_train_cat_enc = ohe.fit_transform(X_train_cat)\n",
    "X_test_cat_enc = ohe.fit_transform(X_test_cat)\n",
    "\n",
    "scaler_num = make_pipeline(StandardScaler(), SimpleImputer())\n",
    "X_train_num_scaled = scaler_num.fit_transform(X_train_num)\n",
    "X_test_num_scaled = scaler_num.fit_transform(X_test_num)"
   ]
  },
  {
   "cell_type": "code",
   "execution_count": 129,
   "id": "6c64182f",
   "metadata": {},
   "outputs": [],
   "source": [
    "X_train_scaled = sparse.hstack((X_train_cat_enc,\n",
    "                                sparse.csr_matrix(X_train_num_scaled)))\n",
    "X_test_scaled = sparse.hstack((X_test_cat_enc,\n",
    "                               sparse.csr_matrix(X_test_num_scaled)))"
   ]
  },
  {
   "cell_type": "code",
   "execution_count": 130,
   "id": "5e99e603",
   "metadata": {},
   "outputs": [],
   "source": [
    "pipe_lasso = make_pipeline(Lasso(alpha=100, max_iter=1000))"
   ]
  },
  {
   "cell_type": "code",
   "execution_count": 136,
   "id": "f0ac395c",
   "metadata": {},
   "outputs": [],
   "source": [
    "lasso = pipe_lasso.fit(X_train_scaled, y_train)"
   ]
  },
  {
   "cell_type": "code",
   "execution_count": 137,
   "id": "ae795cea",
   "metadata": {},
   "outputs": [
    {
     "name": "stdout",
     "output_type": "stream",
     "text": [
      "Test set score: 0.22\n",
      "Number of features used: 4\n"
     ]
    }
   ],
   "source": [
    "print(\"Test set score: {:.2f}\".format(lasso.score(X_test_scaled, y_test)))\n",
    "print(\"Number of features used:\", np.sum(lasso['lasso'].coef_ != 0))"
   ]
  },
  {
   "cell_type": "code",
   "execution_count": null,
   "id": "92bce8f5",
   "metadata": {},
   "outputs": [],
   "source": []
  },
  {
   "cell_type": "code",
   "execution_count": 150,
   "id": "2cb4dcc1",
   "metadata": {},
   "outputs": [],
   "source": [
    "param_grid={'lasso__alpha': np.logspace(1,7,num=13),\n",
    "           'lasso__max_iter': [10000]}"
   ]
  },
  {
   "cell_type": "code",
   "execution_count": 151,
   "id": "94f1d850",
   "metadata": {},
   "outputs": [],
   "source": [
    "grid = GridSearchCV(pipe_lasso, param_grid=param_grid, cv=10, n_jobs=-1)"
   ]
  },
  {
   "cell_type": "code",
   "execution_count": 152,
   "id": "807dc0d6",
   "metadata": {},
   "outputs": [
    {
     "data": {
      "text/plain": [
       "GridSearchCV(cv=10, estimator=Pipeline(steps=[('lasso', Lasso(alpha=100))]),\n",
       "             n_jobs=-1,\n",
       "             param_grid={'lasso__alpha': array([1.00000000e+01, 3.16227766e+01, 1.00000000e+02, 3.16227766e+02,\n",
       "       1.00000000e+03, 3.16227766e+03, 1.00000000e+04, 3.16227766e+04,\n",
       "       1.00000000e+05, 3.16227766e+05, 1.00000000e+06, 3.16227766e+06,\n",
       "       1.00000000e+07]),\n",
       "                         'lasso__max_iter': [10000]})"
      ]
     },
     "execution_count": 152,
     "metadata": {},
     "output_type": "execute_result"
    }
   ],
   "source": [
    "grid.fit(X_train_scaled, y_train)"
   ]
  },
  {
   "cell_type": "code",
   "execution_count": 153,
   "id": "ad3ac6f3",
   "metadata": {},
   "outputs": [
    {
     "name": "stdout",
     "output_type": "stream",
     "text": [
      "Score for the best model: 0.22\n"
     ]
    }
   ],
   "source": [
    "print(\"Score for the best model: {:.2f}\".format(grid.score(X_test_scaled,\n",
    "                                                           y_test)))"
   ]
  },
  {
   "cell_type": "code",
   "execution_count": 154,
   "id": "c3a376ea",
   "metadata": {},
   "outputs": [
    {
     "data": {
      "text/plain": [
       "{'lasso__alpha': 31622.776601683792, 'lasso__max_iter': 10000}"
      ]
     },
     "execution_count": 154,
     "metadata": {},
     "output_type": "execute_result"
    }
   ],
   "source": [
    "grid.best_params_"
   ]
  },
  {
   "cell_type": "code",
   "execution_count": 155,
   "id": "257f1b03",
   "metadata": {},
   "outputs": [
    {
     "data": {
      "text/plain": [
       "Pipeline(steps=[('lasso', Lasso(alpha=31622.776601683792, max_iter=10000))])"
      ]
     },
     "execution_count": 155,
     "metadata": {},
     "output_type": "execute_result"
    }
   ],
   "source": [
    "grid.best_estimator_"
   ]
  },
  {
   "cell_type": "code",
   "execution_count": 157,
   "id": "bc02d960",
   "metadata": {},
   "outputs": [
    {
     "data": {
      "text/plain": [
       "Index(['status', 'stage', 'vintage_year', 'open_date'], dtype='object')"
      ]
     },
     "execution_count": 157,
     "metadata": {},
     "output_type": "execute_result"
    }
   ],
   "source": [
    "X_train.columns[(lasso['lasso'].coef_) != 0]"
   ]
  },
  {
   "cell_type": "code",
   "execution_count": null,
   "id": "e164e259",
   "metadata": {},
   "outputs": [],
   "source": []
  },
  {
   "cell_type": "code",
   "execution_count": null,
   "id": "49c6ebdf",
   "metadata": {},
   "outputs": [],
   "source": []
  },
  {
   "cell_type": "markdown",
   "id": "a2e7a538",
   "metadata": {},
   "source": [
    "#### Using all features in buyouts_funds_final to predict fund_size_amt"
   ]
  },
  {
   "cell_type": "code",
   "execution_count": 158,
   "id": "497c7cb8",
   "metadata": {},
   "outputs": [],
   "source": [
    "featurenames2 = ['fund_id', 'fund_name', 'fm_id', 'strategy', 'sector',\n",
    "               'region', 'country', 'target_fund_size_amt',\n",
    "                 'target_fund_size_currency', 'fund_currency', 'status',\n",
    "                 'stage', 'vintage_year', 'open_date']"
   ]
  },
  {
   "cell_type": "code",
   "execution_count": 159,
   "id": "9ff442f3",
   "metadata": {},
   "outputs": [],
   "source": [
    "col_cat2 = ['fund_name', 'strategy', 'sector', 'region', 'country',\n",
    "          'target_fund_size_currency', 'fund_currency', 'status',\n",
    "          'stage', 'open_date']\n",
    "\n",
    "col_num2 = ['fund_id', 'fm_id', 'target_fund_size_amt', 'vintage_year']"
   ]
  },
  {
   "cell_type": "code",
   "execution_count": 160,
   "id": "17adbfd9",
   "metadata": {},
   "outputs": [],
   "source": [
    "X2 = df[featurenames2]\n",
    "y2 = df.fund_size_amt"
   ]
  },
  {
   "cell_type": "code",
   "execution_count": 161,
   "id": "d8fe71a6",
   "metadata": {},
   "outputs": [],
   "source": [
    "X_train2, X_test2, y_train2, y_test2 = train_test_split(X2, y2, test_size=0.1,\n",
    "                                                   random_state=0)"
   ]
  },
  {
   "cell_type": "code",
   "execution_count": 163,
   "id": "5f15c3db",
   "metadata": {},
   "outputs": [],
   "source": [
    "X_train_cat2 = X_train2[col_cat2]\n",
    "X_train_num2 = X_train2[col_num2]\n",
    "\n",
    "X_test_cat2 = X_test2[col_cat2]\n",
    "X_test_num2 = X_test2[col_num2]"
   ]
  },
  {
   "cell_type": "code",
   "execution_count": 164,
   "id": "1ff42b42",
   "metadata": {},
   "outputs": [],
   "source": [
    "ohe2 = make_pipeline(SimpleImputer(strategy='constant'), OneHotEncoder())\n",
    "X_train_cat_enc2 = ohe2.fit_transform(X_train_cat2)\n",
    "X_test_cat_enc2 = ohe2.fit_transform(X_test_cat2)\n",
    "\n",
    "scaler_num2 = make_pipeline(StandardScaler(), SimpleImputer())\n",
    "X_train_num_scaled2 = scaler_num2.fit_transform(X_train_num2)\n",
    "X_test_num_scaled2 = scaler_num2.fit_transform(X_test_num2)"
   ]
  },
  {
   "cell_type": "code",
   "execution_count": 165,
   "id": "4f68d899",
   "metadata": {},
   "outputs": [],
   "source": [
    "X_train_scaled2 = sparse.hstack((X_train_cat_enc2,\n",
    "                                sparse.csr_matrix(X_train_num_scaled2)))\n",
    "X_test_scaled2 = sparse.hstack((X_test_cat_enc2,\n",
    "                               sparse.csr_matrix(X_test_num_scaled2)))"
   ]
  },
  {
   "cell_type": "code",
   "execution_count": 166,
   "id": "53eaba58",
   "metadata": {},
   "outputs": [],
   "source": [
    "pipe_lasso2 = make_pipeline(Lasso(alpha=100, max_iter=1000))"
   ]
  },
  {
   "cell_type": "code",
   "execution_count": 167,
   "id": "a1e7e57e",
   "metadata": {},
   "outputs": [],
   "source": [
    "lasso2 = pipe_lasso2.fit(X_train_scaled2, y_train2)"
   ]
  },
  {
   "cell_type": "code",
   "execution_count": 173,
   "id": "0b4d757f",
   "metadata": {},
   "outputs": [
    {
     "name": "stdout",
     "output_type": "stream",
     "text": [
      "Test set score: 0.16\n",
      "Number of features used: 4\n"
     ]
    }
   ],
   "source": [
    "print(\"Test set score: {:.2f}\".format(lasso2.score(X_test_scaled2, y_test2)))\n",
    "print(\"Number of features used:\", np.sum(lasso2['lasso'].coef_ != 0))"
   ]
  },
  {
   "cell_type": "code",
   "execution_count": null,
   "id": "92e7f7cd",
   "metadata": {},
   "outputs": [],
   "source": []
  },
  {
   "cell_type": "code",
   "execution_count": 174,
   "id": "a9105d88",
   "metadata": {},
   "outputs": [],
   "source": [
    "param_grid2={'lasso__alpha': np.logspace(1,7,num=13),\n",
    "           'lasso__max_iter': [10000]}"
   ]
  },
  {
   "cell_type": "code",
   "execution_count": 175,
   "id": "6eb9f90b",
   "metadata": {},
   "outputs": [],
   "source": [
    "grid2 = GridSearchCV(pipe_lasso2, param_grid=param_grid2, cv=10, n_jobs=-1)"
   ]
  },
  {
   "cell_type": "code",
   "execution_count": 176,
   "id": "5d3efb2e",
   "metadata": {},
   "outputs": [
    {
     "data": {
      "text/plain": [
       "GridSearchCV(cv=10, estimator=Pipeline(steps=[('lasso', Lasso(alpha=100))]),\n",
       "             n_jobs=-1,\n",
       "             param_grid={'lasso__alpha': array([1.00000000e+01, 3.16227766e+01, 1.00000000e+02, 3.16227766e+02,\n",
       "       1.00000000e+03, 3.16227766e+03, 1.00000000e+04, 3.16227766e+04,\n",
       "       1.00000000e+05, 3.16227766e+05, 1.00000000e+06, 3.16227766e+06,\n",
       "       1.00000000e+07]),\n",
       "                         'lasso__max_iter': [10000]})"
      ]
     },
     "execution_count": 176,
     "metadata": {},
     "output_type": "execute_result"
    }
   ],
   "source": [
    "grid2.fit(X_train_scaled2, y_train2)"
   ]
  },
  {
   "cell_type": "code",
   "execution_count": 177,
   "id": "ca89d2a6",
   "metadata": {},
   "outputs": [
    {
     "name": "stdout",
     "output_type": "stream",
     "text": [
      "Score for the best model: 0.17\n"
     ]
    }
   ],
   "source": [
    "print(\"Score for the best model: {:.2f}\".format(grid2.score(X_test_scaled2,\n",
    "                                                           y_test2)))"
   ]
  },
  {
   "cell_type": "code",
   "execution_count": 178,
   "id": "c3e14bd5",
   "metadata": {},
   "outputs": [
    {
     "data": {
      "text/plain": [
       "{'lasso__alpha': 1000000.0, 'lasso__max_iter': 10000}"
      ]
     },
     "execution_count": 178,
     "metadata": {},
     "output_type": "execute_result"
    }
   ],
   "source": [
    "grid2.best_params_"
   ]
  },
  {
   "cell_type": "code",
   "execution_count": 179,
   "id": "d6733583",
   "metadata": {},
   "outputs": [
    {
     "data": {
      "text/plain": [
       "Pipeline(steps=[('lasso', Lasso(alpha=1000000.0, max_iter=10000))])"
      ]
     },
     "execution_count": 179,
     "metadata": {},
     "output_type": "execute_result"
    }
   ],
   "source": [
    "grid2.best_estimator_"
   ]
  },
  {
   "cell_type": "code",
   "execution_count": 180,
   "id": "40056b16",
   "metadata": {},
   "outputs": [
    {
     "data": {
      "text/plain": [
       "Index(['status', 'stage', 'vintage_year', 'open_date'], dtype='object')"
      ]
     },
     "execution_count": 180,
     "metadata": {},
     "output_type": "execute_result"
    }
   ],
   "source": [
    "X_train2.columns[(lasso2['lasso'].coef_) != 0]"
   ]
  },
  {
   "cell_type": "code",
   "execution_count": null,
   "id": "bae4999d",
   "metadata": {},
   "outputs": [],
   "source": []
  },
  {
   "cell_type": "code",
   "execution_count": null,
   "id": "b94fb7ab",
   "metadata": {},
   "outputs": [],
   "source": []
  },
  {
   "cell_type": "markdown",
   "id": "dd71cdd8",
   "metadata": {},
   "source": [
    "#### Using all features in buyouts_fm_fund_history to predict fund_size_amt"
   ]
  },
  {
   "cell_type": "code",
   "execution_count": 271,
   "id": "dc6b5313",
   "metadata": {},
   "outputs": [],
   "source": [
    "df2 = pd.read_csv('buyouts_funds/buyouts_funds_csv/buyouts_fm_fund_history.csv')"
   ]
  },
  {
   "cell_type": "code",
   "execution_count": 272,
   "id": "97f253d6",
   "metadata": {},
   "outputs": [
    {
     "data": {
      "text/html": [
       "<div>\n",
       "<style scoped>\n",
       "    .dataframe tbody tr th:only-of-type {\n",
       "        vertical-align: middle;\n",
       "    }\n",
       "\n",
       "    .dataframe tbody tr th {\n",
       "        vertical-align: top;\n",
       "    }\n",
       "\n",
       "    .dataframe thead th {\n",
       "        text-align: right;\n",
       "    }\n",
       "</style>\n",
       "<table border=\"1\" class=\"dataframe\">\n",
       "  <thead>\n",
       "    <tr style=\"text-align: right;\">\n",
       "      <th></th>\n",
       "      <th>fm_fund_id</th>\n",
       "      <th>fm_id</th>\n",
       "      <th>fund_id</th>\n",
       "      <th>vintage_year</th>\n",
       "      <th>region</th>\n",
       "      <th>sector</th>\n",
       "      <th>strategy</th>\n",
       "      <th>fund_size_amt</th>\n",
       "      <th>fund_currency</th>\n",
       "      <th>target_fund_size_amt</th>\n",
       "      <th>target_fund_size_currency</th>\n",
       "    </tr>\n",
       "  </thead>\n",
       "  <tbody>\n",
       "    <tr>\n",
       "      <th>0</th>\n",
       "      <td>6121</td>\n",
       "      <td>6381</td>\n",
       "      <td>6420</td>\n",
       "      <td>1995</td>\n",
       "      <td>North America</td>\n",
       "      <td>TMT</td>\n",
       "      <td>Venture Capital / Growth Equity</td>\n",
       "      <td>80000000.0</td>\n",
       "      <td>USD</td>\n",
       "      <td>0.0</td>\n",
       "      <td>USD</td>\n",
       "    </tr>\n",
       "    <tr>\n",
       "      <th>1</th>\n",
       "      <td>9222</td>\n",
       "      <td>6381</td>\n",
       "      <td>8305</td>\n",
       "      <td>2004</td>\n",
       "      <td>North America</td>\n",
       "      <td>TMT</td>\n",
       "      <td>Venture Capital / Growth Equity</td>\n",
       "      <td>140000000.0</td>\n",
       "      <td>USD</td>\n",
       "      <td>0.0</td>\n",
       "      <td>USD</td>\n",
       "    </tr>\n",
       "    <tr>\n",
       "      <th>2</th>\n",
       "      <td>16420</td>\n",
       "      <td>6381</td>\n",
       "      <td>9222</td>\n",
       "      <td>2008</td>\n",
       "      <td>North America</td>\n",
       "      <td>TMT</td>\n",
       "      <td>Venture Capital / Growth Equity</td>\n",
       "      <td>81750000.0</td>\n",
       "      <td>USD</td>\n",
       "      <td>81750000.0</td>\n",
       "      <td>USD</td>\n",
       "    </tr>\n",
       "    <tr>\n",
       "      <th>3</th>\n",
       "      <td>29148</td>\n",
       "      <td>6381</td>\n",
       "      <td>12856</td>\n",
       "      <td>1999</td>\n",
       "      <td>North America</td>\n",
       "      <td>TMT</td>\n",
       "      <td>Venture Capital / Growth Equity</td>\n",
       "      <td>115000000.0</td>\n",
       "      <td>USD</td>\n",
       "      <td>0.0</td>\n",
       "      <td>USD</td>\n",
       "    </tr>\n",
       "    <tr>\n",
       "      <th>4</th>\n",
       "      <td>5732</td>\n",
       "      <td>6381</td>\n",
       "      <td>34846</td>\n",
       "      <td>2015</td>\n",
       "      <td>North America</td>\n",
       "      <td>TMT</td>\n",
       "      <td>Venture Capital / Growth Equity</td>\n",
       "      <td>71050000.0</td>\n",
       "      <td>USD</td>\n",
       "      <td>150000000.0</td>\n",
       "      <td>USD</td>\n",
       "    </tr>\n",
       "  </tbody>\n",
       "</table>\n",
       "</div>"
      ],
      "text/plain": [
       "   fm_fund_id  fm_id  fund_id  vintage_year         region sector  \\\n",
       "0        6121   6381     6420          1995  North America    TMT   \n",
       "1        9222   6381     8305          2004  North America    TMT   \n",
       "2       16420   6381     9222          2008  North America    TMT   \n",
       "3       29148   6381    12856          1999  North America    TMT   \n",
       "4        5732   6381    34846          2015  North America    TMT   \n",
       "\n",
       "                          strategy  fund_size_amt fund_currency  \\\n",
       "0  Venture Capital / Growth Equity     80000000.0           USD   \n",
       "1  Venture Capital / Growth Equity    140000000.0           USD   \n",
       "2  Venture Capital / Growth Equity     81750000.0           USD   \n",
       "3  Venture Capital / Growth Equity    115000000.0           USD   \n",
       "4  Venture Capital / Growth Equity     71050000.0           USD   \n",
       "\n",
       "   target_fund_size_amt target_fund_size_currency  \n",
       "0                   0.0                       USD  \n",
       "1                   0.0                       USD  \n",
       "2            81750000.0                       USD  \n",
       "3                   0.0                       USD  \n",
       "4           150000000.0                       USD  "
      ]
     },
     "execution_count": 272,
     "metadata": {},
     "output_type": "execute_result"
    }
   ],
   "source": [
    "df2.head()"
   ]
  },
  {
   "cell_type": "code",
   "execution_count": 276,
   "id": "454bd544",
   "metadata": {},
   "outputs": [],
   "source": [
    "allfeatures2 = ['fm_fund_id', 'fm_id', 'fund_id', 'vintage_year', 'region', 'sector',\n",
    "               'strategy', 'fund_size_amt', 'fund_currency', 'target_fund_size_amt',\n",
    "               'target_fund_size_currency']"
   ]
  },
  {
   "cell_type": "code",
   "execution_count": 277,
   "id": "dc0abbe3",
   "metadata": {},
   "outputs": [],
   "source": [
    "for i in allfeatures2:\n",
    "    df2[i] = df2[i].fillna(0)"
   ]
  },
  {
   "cell_type": "code",
   "execution_count": 280,
   "id": "d9c73ec2",
   "metadata": {},
   "outputs": [],
   "source": [
    "df2['region'] = pd.to_numeric(df2['region'], errors='coerce')\n",
    "df2['sector'] = pd.to_numeric(df2['sector'], errors='coerce')\n",
    "df2['strategy'] = pd.to_numeric(df2['strategy'], errors='coerce')\n",
    "df2['fund_currency'] = pd.to_numeric(df2['fund_currency'], errors='coerce')\n",
    "df2['target_fund_size_currency'] = pd.to_numeric(df2['target_fund_size_currency'], errors='coerce')"
   ]
  },
  {
   "cell_type": "code",
   "execution_count": 281,
   "id": "9f99a4f4",
   "metadata": {},
   "outputs": [],
   "source": [
    "featurenames3 = ['fm_fund_id', 'fm_id', 'fund_id', 'vintage_year', 'region',\n",
    "                'sector', 'strategy', 'fund_currency', 'target_fund_size_amt',\n",
    "                'target_fund_size_currency']"
   ]
  },
  {
   "cell_type": "code",
   "execution_count": 282,
   "id": "f897e22f",
   "metadata": {},
   "outputs": [],
   "source": [
    "col_cat3 = ['region', 'sector', 'strategy', 'fund_currency', 'target_fund_size_currency']\n",
    "\n",
    "col_num3 = ['fm_fund_id', 'fm_id', 'fund_id', 'vintage_year', 'target_fund_size_amt']"
   ]
  },
  {
   "cell_type": "code",
   "execution_count": 283,
   "id": "50a8bc73",
   "metadata": {},
   "outputs": [],
   "source": [
    "X3 = df2[featurenames3]\n",
    "y3 = df2.fund_size_amt"
   ]
  },
  {
   "cell_type": "code",
   "execution_count": 284,
   "id": "1cc5f634",
   "metadata": {},
   "outputs": [],
   "source": [
    "X_train3, X_test3, y_train3, y_test3 = train_test_split(X3, y3, test_size=0.1,\n",
    "                                                   random_state=0)"
   ]
  },
  {
   "cell_type": "code",
   "execution_count": 285,
   "id": "172feaa3",
   "metadata": {},
   "outputs": [],
   "source": [
    "X_train_cat3 = X_train3[col_cat3]\n",
    "X_train_num3 = X_train3[col_num3]\n",
    "\n",
    "X_test_cat3 = X_test3[col_cat3]\n",
    "X_test_num3 = X_test3[col_num3]"
   ]
  },
  {
   "cell_type": "code",
   "execution_count": 286,
   "id": "9ed708ad",
   "metadata": {},
   "outputs": [],
   "source": [
    "ohe3 = make_pipeline(SimpleImputer(strategy='constant'), OneHotEncoder())\n",
    "X_train_cat_enc3 = ohe3.fit_transform(X_train_cat3)\n",
    "X_test_cat_enc3 = ohe3.fit_transform(X_test_cat3)\n",
    "\n",
    "scaler_num3 = make_pipeline(StandardScaler(), SimpleImputer())\n",
    "X_train_num_scaled3 = scaler_num3.fit_transform(X_train_num3)\n",
    "X_test_num_scaled3 = scaler_num3.fit_transform(X_test_num3)"
   ]
  },
  {
   "cell_type": "code",
   "execution_count": 287,
   "id": "cbf64f91",
   "metadata": {},
   "outputs": [],
   "source": [
    "X_train_scaled3 = sparse.hstack((X_train_cat_enc3,\n",
    "                                sparse.csr_matrix(X_train_num_scaled3)))\n",
    "X_test_scaled3 = sparse.hstack((X_test_cat_enc3,\n",
    "                               sparse.csr_matrix(X_test_num_scaled3)))"
   ]
  },
  {
   "cell_type": "code",
   "execution_count": 288,
   "id": "e48ed038",
   "metadata": {},
   "outputs": [],
   "source": [
    "pipe_lasso3 = make_pipeline(Lasso(alpha=100, max_iter=1000))"
   ]
  },
  {
   "cell_type": "code",
   "execution_count": 289,
   "id": "c5791a8e",
   "metadata": {},
   "outputs": [],
   "source": [
    "lasso3 = pipe_lasso3.fit(X_train_scaled3, y_train3)"
   ]
  },
  {
   "cell_type": "code",
   "execution_count": 290,
   "id": "1e5acfcd",
   "metadata": {},
   "outputs": [
    {
     "name": "stdout",
     "output_type": "stream",
     "text": [
      "Test set score: -1.51\n",
      "Number of features used: 5\n"
     ]
    }
   ],
   "source": [
    "print(\"Test set score: {:.2f}\".format(lasso3.score(X_test_scaled3, y_test3)))\n",
    "print(\"Number of features used:\", np.sum(lasso3['lasso'].coef_ != 0))"
   ]
  },
  {
   "cell_type": "code",
   "execution_count": null,
   "id": "04feb29e",
   "metadata": {},
   "outputs": [],
   "source": []
  },
  {
   "cell_type": "code",
   "execution_count": 291,
   "id": "d13703ab",
   "metadata": {},
   "outputs": [],
   "source": [
    "param_grid3={'lasso__alpha': np.logspace(1,7,num=13),\n",
    "           'lasso__max_iter': [10000]}"
   ]
  },
  {
   "cell_type": "code",
   "execution_count": 292,
   "id": "ecc8921e",
   "metadata": {},
   "outputs": [],
   "source": [
    "grid3 = GridSearchCV(pipe_lasso3, param_grid=param_grid3, cv=10, n_jobs=-1)"
   ]
  },
  {
   "cell_type": "code",
   "execution_count": 293,
   "id": "1ebc44ee",
   "metadata": {},
   "outputs": [
    {
     "data": {
      "text/plain": [
       "GridSearchCV(cv=10, estimator=Pipeline(steps=[('lasso', Lasso(alpha=100))]),\n",
       "             n_jobs=-1,\n",
       "             param_grid={'lasso__alpha': array([1.00000000e+01, 3.16227766e+01, 1.00000000e+02, 3.16227766e+02,\n",
       "       1.00000000e+03, 3.16227766e+03, 1.00000000e+04, 3.16227766e+04,\n",
       "       1.00000000e+05, 3.16227766e+05, 1.00000000e+06, 3.16227766e+06,\n",
       "       1.00000000e+07]),\n",
       "                         'lasso__max_iter': [10000]})"
      ]
     },
     "execution_count": 293,
     "metadata": {},
     "output_type": "execute_result"
    }
   ],
   "source": [
    "grid3.fit(X_train_scaled3, y_train3)"
   ]
  },
  {
   "cell_type": "code",
   "execution_count": 294,
   "id": "8a2b5801",
   "metadata": {},
   "outputs": [
    {
     "data": {
      "text/plain": [
       "{'lasso__alpha': 10000000.0, 'lasso__max_iter': 10000}"
      ]
     },
     "execution_count": 294,
     "metadata": {},
     "output_type": "execute_result"
    }
   ],
   "source": [
    "grid3.best_params_"
   ]
  },
  {
   "cell_type": "code",
   "execution_count": 295,
   "id": "645550fc",
   "metadata": {},
   "outputs": [
    {
     "data": {
      "text/plain": [
       "Pipeline(steps=[('lasso', Lasso(alpha=10000000.0, max_iter=10000))])"
      ]
     },
     "execution_count": 295,
     "metadata": {},
     "output_type": "execute_result"
    }
   ],
   "source": [
    "grid3.best_estimator_"
   ]
  },
  {
   "cell_type": "code",
   "execution_count": 296,
   "id": "748708fd",
   "metadata": {},
   "outputs": [
    {
     "data": {
      "text/plain": [
       "Index(['sector', 'strategy', 'fund_currency', 'target_fund_size_amt',\n",
       "       'target_fund_size_currency'],\n",
       "      dtype='object')"
      ]
     },
     "execution_count": 296,
     "metadata": {},
     "output_type": "execute_result"
    }
   ],
   "source": [
    "X_train3.columns[(lasso3['lasso'].coef_) != 0]"
   ]
  },
  {
   "cell_type": "code",
   "execution_count": null,
   "id": "6e23f2a7",
   "metadata": {},
   "outputs": [],
   "source": []
  },
  {
   "cell_type": "code",
   "execution_count": null,
   "id": "be5e36a7",
   "metadata": {},
   "outputs": [],
   "source": []
  },
  {
   "cell_type": "markdown",
   "id": "b399f03d",
   "metadata": {},
   "source": [
    "#### Using all features in buyouts_fm_fund_history to predict target_fund_size_amt"
   ]
  },
  {
   "cell_type": "code",
   "execution_count": 297,
   "id": "58cf36e8",
   "metadata": {},
   "outputs": [],
   "source": [
    "featurenames4 = ['fm_fund_id', 'fm_id', 'fund_id', 'vintage_year', 'region',\n",
    "                'sector', 'strategy', 'fund_size_amt', 'fund_currency',\n",
    "                'target_fund_size_currency']"
   ]
  },
  {
   "cell_type": "code",
   "execution_count": 298,
   "id": "b1bc8187",
   "metadata": {},
   "outputs": [],
   "source": [
    "col_cat4 = ['region', 'sector', 'strategy', 'fund_currency', 'target_fund_size_currency']\n",
    "\n",
    "col_num4 = ['fm_fund_id', 'fm_id', 'fund_id', 'vintage_year', 'fund_size_amt']"
   ]
  },
  {
   "cell_type": "code",
   "execution_count": 299,
   "id": "6c9dd44f",
   "metadata": {},
   "outputs": [],
   "source": [
    "X4 = df2[featurenames4]\n",
    "y4 = df2.target_fund_size_amt"
   ]
  },
  {
   "cell_type": "code",
   "execution_count": 300,
   "id": "1a5637b7",
   "metadata": {},
   "outputs": [],
   "source": [
    "X_train4, X_test4, y_train4, y_test4 = train_test_split(X4, y4, test_size=0.1,\n",
    "                                                   random_state=0)"
   ]
  },
  {
   "cell_type": "code",
   "execution_count": 301,
   "id": "046edda5",
   "metadata": {},
   "outputs": [],
   "source": [
    "X_train_cat4 = X_train4[col_cat4]\n",
    "X_train_num4 = X_train4[col_num4]\n",
    "\n",
    "X_test_cat4 = X_test4[col_cat4]\n",
    "X_test_num4 = X_test4[col_num4]"
   ]
  },
  {
   "cell_type": "code",
   "execution_count": 302,
   "id": "8f1b42a2",
   "metadata": {},
   "outputs": [],
   "source": [
    "ohe4 = make_pipeline(SimpleImputer(strategy='constant'), OneHotEncoder())\n",
    "X_train_cat_enc4 = ohe4.fit_transform(X_train_cat4)\n",
    "X_test_cat_enc4 = ohe4.fit_transform(X_test_cat4)\n",
    "\n",
    "scaler_num4 = make_pipeline(StandardScaler(), SimpleImputer())\n",
    "X_train_num_scaled4 = scaler_num4.fit_transform(X_train_num4)\n",
    "X_test_num_scaled4 = scaler_num4.fit_transform(X_test_num4)"
   ]
  },
  {
   "cell_type": "code",
   "execution_count": 303,
   "id": "56fc282a",
   "metadata": {},
   "outputs": [],
   "source": [
    "X_train_scaled4 = sparse.hstack((X_train_cat_enc4,\n",
    "                                sparse.csr_matrix(X_train_num_scaled4)))\n",
    "X_test_scaled4 = sparse.hstack((X_test_cat_enc4,\n",
    "                               sparse.csr_matrix(X_test_num_scaled4)))"
   ]
  },
  {
   "cell_type": "code",
   "execution_count": 304,
   "id": "2fc92ebb",
   "metadata": {},
   "outputs": [],
   "source": [
    "pipe_lasso4 = make_pipeline(Lasso(alpha=100, max_iter=1000))"
   ]
  },
  {
   "cell_type": "code",
   "execution_count": 305,
   "id": "12322b0b",
   "metadata": {},
   "outputs": [],
   "source": [
    "lasso4 = pipe_lasso4.fit(X_train_scaled4, y_train4)"
   ]
  },
  {
   "cell_type": "code",
   "execution_count": 306,
   "id": "e35c824b",
   "metadata": {},
   "outputs": [
    {
     "name": "stdout",
     "output_type": "stream",
     "text": [
      "Test set score: -1.80\n",
      "Number of features used: 5\n"
     ]
    }
   ],
   "source": [
    "print(\"Test set score: {:.2f}\".format(lasso4.score(X_test_scaled4, y_test4)))\n",
    "print(\"Number of features used:\", np.sum(lasso4['lasso'].coef_ != 0))"
   ]
  },
  {
   "cell_type": "code",
   "execution_count": null,
   "id": "d9874d78",
   "metadata": {},
   "outputs": [],
   "source": []
  },
  {
   "cell_type": "code",
   "execution_count": 307,
   "id": "aab5c952",
   "metadata": {},
   "outputs": [],
   "source": [
    "param_grid4={'lasso__alpha': np.logspace(1,7,num=13),\n",
    "           'lasso__max_iter': [10000]}"
   ]
  },
  {
   "cell_type": "code",
   "execution_count": 308,
   "id": "399df147",
   "metadata": {},
   "outputs": [],
   "source": [
    "grid4 = GridSearchCV(pipe_lasso4, param_grid=param_grid4, cv=10, n_jobs=-1)"
   ]
  },
  {
   "cell_type": "code",
   "execution_count": 309,
   "id": "27ddd9b9",
   "metadata": {},
   "outputs": [
    {
     "data": {
      "text/plain": [
       "GridSearchCV(cv=10, estimator=Pipeline(steps=[('lasso', Lasso(alpha=100))]),\n",
       "             n_jobs=-1,\n",
       "             param_grid={'lasso__alpha': array([1.00000000e+01, 3.16227766e+01, 1.00000000e+02, 3.16227766e+02,\n",
       "       1.00000000e+03, 3.16227766e+03, 1.00000000e+04, 3.16227766e+04,\n",
       "       1.00000000e+05, 3.16227766e+05, 1.00000000e+06, 3.16227766e+06,\n",
       "       1.00000000e+07]),\n",
       "                         'lasso__max_iter': [10000]})"
      ]
     },
     "execution_count": 309,
     "metadata": {},
     "output_type": "execute_result"
    }
   ],
   "source": [
    "grid4.fit(X_train_scaled4, y_train4)"
   ]
  },
  {
   "cell_type": "code",
   "execution_count": 310,
   "id": "a31aa649",
   "metadata": {},
   "outputs": [
    {
     "data": {
      "text/plain": [
       "{'lasso__alpha': 10000000.0, 'lasso__max_iter': 10000}"
      ]
     },
     "execution_count": 310,
     "metadata": {},
     "output_type": "execute_result"
    }
   ],
   "source": [
    "grid4.best_params_"
   ]
  },
  {
   "cell_type": "code",
   "execution_count": 311,
   "id": "67bd3023",
   "metadata": {},
   "outputs": [
    {
     "data": {
      "text/plain": [
       "Pipeline(steps=[('lasso', Lasso(alpha=10000000.0, max_iter=10000))])"
      ]
     },
     "execution_count": 311,
     "metadata": {},
     "output_type": "execute_result"
    }
   ],
   "source": [
    "grid4.best_estimator_"
   ]
  },
  {
   "cell_type": "code",
   "execution_count": 312,
   "id": "9c2075f7",
   "metadata": {},
   "outputs": [
    {
     "data": {
      "text/plain": [
       "Index(['sector', 'strategy', 'fund_size_amt', 'fund_currency',\n",
       "       'target_fund_size_currency'],\n",
       "      dtype='object')"
      ]
     },
     "execution_count": 312,
     "metadata": {},
     "output_type": "execute_result"
    }
   ],
   "source": [
    "X_train4.columns[(lasso4['lasso'].coef_) != 0]"
   ]
  },
  {
   "cell_type": "code",
   "execution_count": null,
   "id": "19fb1d45",
   "metadata": {},
   "outputs": [],
   "source": []
  },
  {
   "cell_type": "code",
   "execution_count": null,
   "id": "6400bdb3",
   "metadata": {},
   "outputs": [],
   "source": []
  },
  {
   "cell_type": "markdown",
   "id": "0399c0f0",
   "metadata": {},
   "source": [
    "#### Using all features in buyouts_historical_funds to predict fund_size_amt "
   ]
  },
  {
   "cell_type": "code",
   "execution_count": 319,
   "id": "00070cc3",
   "metadata": {},
   "outputs": [],
   "source": [
    "df3 = pd.read_csv('buyouts_funds/buyouts_funds_csv/buyouts_historical_funds.csv')"
   ]
  },
  {
   "cell_type": "code",
   "execution_count": 320,
   "id": "b406a0ce",
   "metadata": {},
   "outputs": [
    {
     "data": {
      "text/html": [
       "<div>\n",
       "<style scoped>\n",
       "    .dataframe tbody tr th:only-of-type {\n",
       "        vertical-align: middle;\n",
       "    }\n",
       "\n",
       "    .dataframe tbody tr th {\n",
       "        vertical-align: top;\n",
       "    }\n",
       "\n",
       "    .dataframe thead th {\n",
       "        text-align: right;\n",
       "    }\n",
       "</style>\n",
       "<table border=\"1\" class=\"dataframe\">\n",
       "  <thead>\n",
       "    <tr style=\"text-align: right;\">\n",
       "      <th></th>\n",
       "      <th>fund_id</th>\n",
       "      <th>fund_name</th>\n",
       "      <th>manager_id</th>\n",
       "      <th>manager</th>\n",
       "      <th>close_year</th>\n",
       "      <th>strategy</th>\n",
       "      <th>fund_size_amt</th>\n",
       "      <th>fund_currency</th>\n",
       "    </tr>\n",
       "  </thead>\n",
       "  <tbody>\n",
       "    <tr>\n",
       "      <th>0</th>\n",
       "      <td>23717</td>\n",
       "      <td>Warburg Pincus Associates</td>\n",
       "      <td>5591.0</td>\n",
       "      <td>Warburg Pincus</td>\n",
       "      <td>1980</td>\n",
       "      <td>Venture Capital / Growth Equity</td>\n",
       "      <td>101000000.0</td>\n",
       "      <td>USD</td>\n",
       "    </tr>\n",
       "    <tr>\n",
       "      <th>1</th>\n",
       "      <td>14874</td>\n",
       "      <td>Kleiner Perkins Caufield &amp; Byers II</td>\n",
       "      <td>6562.0</td>\n",
       "      <td>Kleiner Perkins</td>\n",
       "      <td>1980</td>\n",
       "      <td>Venture Capital / Growth Equity</td>\n",
       "      <td>55000000.0</td>\n",
       "      <td>USD</td>\n",
       "    </tr>\n",
       "    <tr>\n",
       "      <th>2</th>\n",
       "      <td>10708</td>\n",
       "      <td>TA Associates / Advent IV</td>\n",
       "      <td>6694.0</td>\n",
       "      <td>TA Associates</td>\n",
       "      <td>1980</td>\n",
       "      <td>Venture Capital / Growth Equity</td>\n",
       "      <td>60000000.0</td>\n",
       "      <td>USD</td>\n",
       "    </tr>\n",
       "    <tr>\n",
       "      <th>3</th>\n",
       "      <td>15603</td>\n",
       "      <td>Excelsior Fund</td>\n",
       "      <td>6373.0</td>\n",
       "      <td>Apax Partners</td>\n",
       "      <td>1981</td>\n",
       "      <td>Venture Capital / Growth Equity</td>\n",
       "      <td>25530000.0</td>\n",
       "      <td>USD</td>\n",
       "    </tr>\n",
       "    <tr>\n",
       "      <th>4</th>\n",
       "      <td>15213</td>\n",
       "      <td>New Enterprise Associates II</td>\n",
       "      <td>6610.0</td>\n",
       "      <td>New Enterprise Associates</td>\n",
       "      <td>1981</td>\n",
       "      <td>Venture Capital / Growth Equity</td>\n",
       "      <td>45310000.0</td>\n",
       "      <td>USD</td>\n",
       "    </tr>\n",
       "  </tbody>\n",
       "</table>\n",
       "</div>"
      ],
      "text/plain": [
       "   fund_id                            fund_name  manager_id  \\\n",
       "0    23717            Warburg Pincus Associates      5591.0   \n",
       "1    14874  Kleiner Perkins Caufield & Byers II      6562.0   \n",
       "2    10708            TA Associates / Advent IV      6694.0   \n",
       "3    15603                       Excelsior Fund      6373.0   \n",
       "4    15213         New Enterprise Associates II      6610.0   \n",
       "\n",
       "                     manager  close_year                         strategy  \\\n",
       "0             Warburg Pincus        1980  Venture Capital / Growth Equity   \n",
       "1            Kleiner Perkins        1980  Venture Capital / Growth Equity   \n",
       "2              TA Associates        1980  Venture Capital / Growth Equity   \n",
       "3              Apax Partners        1981  Venture Capital / Growth Equity   \n",
       "4  New Enterprise Associates        1981  Venture Capital / Growth Equity   \n",
       "\n",
       "   fund_size_amt fund_currency  \n",
       "0    101000000.0           USD  \n",
       "1     55000000.0           USD  \n",
       "2     60000000.0           USD  \n",
       "3     25530000.0           USD  \n",
       "4     45310000.0           USD  "
      ]
     },
     "execution_count": 320,
     "metadata": {},
     "output_type": "execute_result"
    }
   ],
   "source": [
    "df3.head()"
   ]
  },
  {
   "cell_type": "code",
   "execution_count": 321,
   "id": "7de4c526",
   "metadata": {},
   "outputs": [],
   "source": [
    "allfeatures3 = ['fund_id', 'fund_name', 'manager_id', 'manager', 'close_year', 'strategy',\n",
    "               'fund_size_amt', 'fund_currency']"
   ]
  },
  {
   "cell_type": "code",
   "execution_count": 322,
   "id": "cfcee5ee",
   "metadata": {},
   "outputs": [],
   "source": [
    "for i in allfeatures3:\n",
    "    df3[i] = df3[i].fillna(0)"
   ]
  },
  {
   "cell_type": "code",
   "execution_count": 329,
   "id": "b0dcb1a4",
   "metadata": {},
   "outputs": [],
   "source": [
    "df3['fund_name'] = pd.to_numeric(df3['fund_name'], errors='coerce')\n",
    "df3['manager'] = pd.to_numeric(df3['manager'], errors='coerce')\n",
    "df3['strategy'] = pd.to_numeric(df3['strategy'], errors='coerce')\n",
    "df3['fund_currency'] = pd.to_numeric(df3['fund_currency'], errors='coerce')"
   ]
  },
  {
   "cell_type": "code",
   "execution_count": 330,
   "id": "36169381",
   "metadata": {},
   "outputs": [],
   "source": [
    "featurenames5 = ['fund_id', 'fund_name', 'manager_id', 'manager', 'close_year', 'strategy',\n",
    "               'fund_currency']"
   ]
  },
  {
   "cell_type": "code",
   "execution_count": 331,
   "id": "6fdea75e",
   "metadata": {},
   "outputs": [],
   "source": [
    "col_cat5 = ['fund_name', 'manager', 'strategy', 'fund_currency']\n",
    "\n",
    "col_num5 = ['fund_id', 'manager_id', 'close_year']"
   ]
  },
  {
   "cell_type": "code",
   "execution_count": 332,
   "id": "ee785b4c",
   "metadata": {},
   "outputs": [],
   "source": [
    "X5 = df3[featurenames5]\n",
    "y5 = df3.fund_size_amt"
   ]
  },
  {
   "cell_type": "code",
   "execution_count": 333,
   "id": "560bd779",
   "metadata": {},
   "outputs": [],
   "source": [
    "X_train5, X_test5, y_train5, y_test5 = train_test_split(X5, y5, test_size=0.1,\n",
    "                                                   random_state=0)"
   ]
  },
  {
   "cell_type": "code",
   "execution_count": 334,
   "id": "2262eb85",
   "metadata": {},
   "outputs": [],
   "source": [
    "X_train_cat5 = X_train5[col_cat5]\n",
    "X_train_num5 = X_train5[col_num5]\n",
    "\n",
    "X_test_cat5 = X_test5[col_cat5]\n",
    "X_test_num5 = X_test5[col_num5]"
   ]
  },
  {
   "cell_type": "code",
   "execution_count": 335,
   "id": "10bdfb3f",
   "metadata": {},
   "outputs": [],
   "source": [
    "ohe5 = make_pipeline(SimpleImputer(strategy='constant'), OneHotEncoder())\n",
    "X_train_cat_enc5 = ohe5.fit_transform(X_train_cat5)\n",
    "X_test_cat_enc5 = ohe5.fit_transform(X_test_cat5)\n",
    "\n",
    "scaler_num5 = make_pipeline(StandardScaler(), SimpleImputer())\n",
    "X_train_num_scaled5 = scaler_num5.fit_transform(X_train_num5)\n",
    "X_test_num_scaled5 = scaler_num5.fit_transform(X_test_num5)"
   ]
  },
  {
   "cell_type": "code",
   "execution_count": 336,
   "id": "dc540174",
   "metadata": {},
   "outputs": [],
   "source": [
    "X_train_scaled5 = sparse.hstack((X_train_cat_enc5,\n",
    "                                sparse.csr_matrix(X_train_num_scaled5)))\n",
    "X_test_scaled5 = sparse.hstack((X_test_cat_enc5,\n",
    "                               sparse.csr_matrix(X_test_num_scaled5)))"
   ]
  },
  {
   "cell_type": "code",
   "execution_count": 337,
   "id": "d065bb36",
   "metadata": {},
   "outputs": [],
   "source": [
    "pipe_lasso5 = make_pipeline(Lasso(alpha=100, max_iter=1000))"
   ]
  },
  {
   "cell_type": "code",
   "execution_count": 338,
   "id": "d7f40ddf",
   "metadata": {},
   "outputs": [],
   "source": [
    "lasso5 = pipe_lasso5.fit(X_train_scaled5, y_train5)"
   ]
  },
  {
   "cell_type": "code",
   "execution_count": 339,
   "id": "b43fee59",
   "metadata": {},
   "outputs": [
    {
     "ename": "ValueError",
     "evalue": "dimension mismatch",
     "output_type": "error",
     "traceback": [
      "\u001b[0;31m---------------------------------------------------------------------------\u001b[0m",
      "\u001b[0;31mValueError\u001b[0m                                Traceback (most recent call last)",
      "\u001b[0;32m/var/folders/_7/h5pf_y9106z75mck2bx53gqw0000gn/T/ipykernel_88039/53726837.py\u001b[0m in \u001b[0;36m<module>\u001b[0;34m\u001b[0m\n\u001b[0;32m----> 1\u001b[0;31m \u001b[0mprint\u001b[0m\u001b[0;34m(\u001b[0m\u001b[0;34m\"Test set score: {:.2f}\"\u001b[0m\u001b[0;34m.\u001b[0m\u001b[0mformat\u001b[0m\u001b[0;34m(\u001b[0m\u001b[0mlasso5\u001b[0m\u001b[0;34m.\u001b[0m\u001b[0mscore\u001b[0m\u001b[0;34m(\u001b[0m\u001b[0mX_test_scaled5\u001b[0m\u001b[0;34m,\u001b[0m \u001b[0my_test5\u001b[0m\u001b[0;34m)\u001b[0m\u001b[0;34m)\u001b[0m\u001b[0;34m)\u001b[0m\u001b[0;34m\u001b[0m\u001b[0;34m\u001b[0m\u001b[0m\n\u001b[0m\u001b[1;32m      2\u001b[0m \u001b[0mprint\u001b[0m\u001b[0;34m(\u001b[0m\u001b[0;34m\"Number of features used:\"\u001b[0m\u001b[0;34m,\u001b[0m \u001b[0mnp\u001b[0m\u001b[0;34m.\u001b[0m\u001b[0msum\u001b[0m\u001b[0;34m(\u001b[0m\u001b[0mlasso5\u001b[0m\u001b[0;34m[\u001b[0m\u001b[0;34m'lasso'\u001b[0m\u001b[0;34m]\u001b[0m\u001b[0;34m.\u001b[0m\u001b[0mcoef_\u001b[0m \u001b[0;34m!=\u001b[0m \u001b[0;36m0\u001b[0m\u001b[0;34m)\u001b[0m\u001b[0;34m)\u001b[0m\u001b[0;34m\u001b[0m\u001b[0;34m\u001b[0m\u001b[0m\n",
      "\u001b[0;32m/opt/anaconda3/lib/python3.9/site-packages/sklearn/utils/metaestimators.py\u001b[0m in \u001b[0;36m<lambda>\u001b[0;34m(*args, **kwargs)\u001b[0m\n\u001b[1;32m    118\u001b[0m \u001b[0;34m\u001b[0m\u001b[0m\n\u001b[1;32m    119\u001b[0m         \u001b[0;31m# lambda, but not partial, allows help() to work with update_wrapper\u001b[0m\u001b[0;34m\u001b[0m\u001b[0;34m\u001b[0m\u001b[0m\n\u001b[0;32m--> 120\u001b[0;31m         \u001b[0mout\u001b[0m \u001b[0;34m=\u001b[0m \u001b[0;32mlambda\u001b[0m \u001b[0;34m*\u001b[0m\u001b[0margs\u001b[0m\u001b[0;34m,\u001b[0m \u001b[0;34m**\u001b[0m\u001b[0mkwargs\u001b[0m\u001b[0;34m:\u001b[0m \u001b[0mself\u001b[0m\u001b[0;34m.\u001b[0m\u001b[0mfn\u001b[0m\u001b[0;34m(\u001b[0m\u001b[0mobj\u001b[0m\u001b[0;34m,\u001b[0m \u001b[0;34m*\u001b[0m\u001b[0margs\u001b[0m\u001b[0;34m,\u001b[0m \u001b[0;34m**\u001b[0m\u001b[0mkwargs\u001b[0m\u001b[0;34m)\u001b[0m\u001b[0;34m\u001b[0m\u001b[0;34m\u001b[0m\u001b[0m\n\u001b[0m\u001b[1;32m    121\u001b[0m         \u001b[0;31m# update the docstring of the returned function\u001b[0m\u001b[0;34m\u001b[0m\u001b[0;34m\u001b[0m\u001b[0m\n\u001b[1;32m    122\u001b[0m         \u001b[0mupdate_wrapper\u001b[0m\u001b[0;34m(\u001b[0m\u001b[0mout\u001b[0m\u001b[0;34m,\u001b[0m \u001b[0mself\u001b[0m\u001b[0;34m.\u001b[0m\u001b[0mfn\u001b[0m\u001b[0;34m)\u001b[0m\u001b[0;34m\u001b[0m\u001b[0;34m\u001b[0m\u001b[0m\n",
      "\u001b[0;32m/opt/anaconda3/lib/python3.9/site-packages/sklearn/pipeline.py\u001b[0m in \u001b[0;36mscore\u001b[0;34m(self, X, y, sample_weight)\u001b[0m\n\u001b[1;32m    620\u001b[0m         \u001b[0;32mif\u001b[0m \u001b[0msample_weight\u001b[0m \u001b[0;32mis\u001b[0m \u001b[0;32mnot\u001b[0m \u001b[0;32mNone\u001b[0m\u001b[0;34m:\u001b[0m\u001b[0;34m\u001b[0m\u001b[0;34m\u001b[0m\u001b[0m\n\u001b[1;32m    621\u001b[0m             \u001b[0mscore_params\u001b[0m\u001b[0;34m[\u001b[0m\u001b[0;34m'sample_weight'\u001b[0m\u001b[0;34m]\u001b[0m \u001b[0;34m=\u001b[0m \u001b[0msample_weight\u001b[0m\u001b[0;34m\u001b[0m\u001b[0;34m\u001b[0m\u001b[0m\n\u001b[0;32m--> 622\u001b[0;31m         \u001b[0;32mreturn\u001b[0m \u001b[0mself\u001b[0m\u001b[0;34m.\u001b[0m\u001b[0msteps\u001b[0m\u001b[0;34m[\u001b[0m\u001b[0;34m-\u001b[0m\u001b[0;36m1\u001b[0m\u001b[0;34m]\u001b[0m\u001b[0;34m[\u001b[0m\u001b[0;34m-\u001b[0m\u001b[0;36m1\u001b[0m\u001b[0;34m]\u001b[0m\u001b[0;34m.\u001b[0m\u001b[0mscore\u001b[0m\u001b[0;34m(\u001b[0m\u001b[0mXt\u001b[0m\u001b[0;34m,\u001b[0m \u001b[0my\u001b[0m\u001b[0;34m,\u001b[0m \u001b[0;34m**\u001b[0m\u001b[0mscore_params\u001b[0m\u001b[0;34m)\u001b[0m\u001b[0;34m\u001b[0m\u001b[0;34m\u001b[0m\u001b[0m\n\u001b[0m\u001b[1;32m    623\u001b[0m \u001b[0;34m\u001b[0m\u001b[0m\n\u001b[1;32m    624\u001b[0m     \u001b[0;34m@\u001b[0m\u001b[0mproperty\u001b[0m\u001b[0;34m\u001b[0m\u001b[0;34m\u001b[0m\u001b[0m\n",
      "\u001b[0;32m/opt/anaconda3/lib/python3.9/site-packages/sklearn/base.py\u001b[0m in \u001b[0;36mscore\u001b[0;34m(self, X, y, sample_weight)\u001b[0m\n\u001b[1;32m    551\u001b[0m \u001b[0;34m\u001b[0m\u001b[0m\n\u001b[1;32m    552\u001b[0m         \u001b[0;32mfrom\u001b[0m \u001b[0;34m.\u001b[0m\u001b[0mmetrics\u001b[0m \u001b[0;32mimport\u001b[0m \u001b[0mr2_score\u001b[0m\u001b[0;34m\u001b[0m\u001b[0;34m\u001b[0m\u001b[0m\n\u001b[0;32m--> 553\u001b[0;31m         \u001b[0my_pred\u001b[0m \u001b[0;34m=\u001b[0m \u001b[0mself\u001b[0m\u001b[0;34m.\u001b[0m\u001b[0mpredict\u001b[0m\u001b[0;34m(\u001b[0m\u001b[0mX\u001b[0m\u001b[0;34m)\u001b[0m\u001b[0;34m\u001b[0m\u001b[0;34m\u001b[0m\u001b[0m\n\u001b[0m\u001b[1;32m    554\u001b[0m         \u001b[0;32mreturn\u001b[0m \u001b[0mr2_score\u001b[0m\u001b[0;34m(\u001b[0m\u001b[0my\u001b[0m\u001b[0;34m,\u001b[0m \u001b[0my_pred\u001b[0m\u001b[0;34m,\u001b[0m \u001b[0msample_weight\u001b[0m\u001b[0;34m=\u001b[0m\u001b[0msample_weight\u001b[0m\u001b[0;34m)\u001b[0m\u001b[0;34m\u001b[0m\u001b[0;34m\u001b[0m\u001b[0m\n\u001b[1;32m    555\u001b[0m \u001b[0;34m\u001b[0m\u001b[0m\n",
      "\u001b[0;32m/opt/anaconda3/lib/python3.9/site-packages/sklearn/linear_model/_base.py\u001b[0m in \u001b[0;36mpredict\u001b[0;34m(self, X)\u001b[0m\n\u001b[1;32m    236\u001b[0m             \u001b[0mReturns\u001b[0m \u001b[0mpredicted\u001b[0m \u001b[0mvalues\u001b[0m\u001b[0;34m.\u001b[0m\u001b[0;34m\u001b[0m\u001b[0;34m\u001b[0m\u001b[0m\n\u001b[1;32m    237\u001b[0m         \"\"\"\n\u001b[0;32m--> 238\u001b[0;31m         \u001b[0;32mreturn\u001b[0m \u001b[0mself\u001b[0m\u001b[0;34m.\u001b[0m\u001b[0m_decision_function\u001b[0m\u001b[0;34m(\u001b[0m\u001b[0mX\u001b[0m\u001b[0;34m)\u001b[0m\u001b[0;34m\u001b[0m\u001b[0;34m\u001b[0m\u001b[0m\n\u001b[0m\u001b[1;32m    239\u001b[0m \u001b[0;34m\u001b[0m\u001b[0m\n\u001b[1;32m    240\u001b[0m     \u001b[0m_preprocess_data\u001b[0m \u001b[0;34m=\u001b[0m \u001b[0mstaticmethod\u001b[0m\u001b[0;34m(\u001b[0m\u001b[0m_preprocess_data\u001b[0m\u001b[0;34m)\u001b[0m\u001b[0;34m\u001b[0m\u001b[0;34m\u001b[0m\u001b[0m\n",
      "\u001b[0;32m/opt/anaconda3/lib/python3.9/site-packages/sklearn/linear_model/_coordinate_descent.py\u001b[0m in \u001b[0;36m_decision_function\u001b[0;34m(self, X)\u001b[0m\n\u001b[1;32m    893\u001b[0m         \u001b[0mcheck_is_fitted\u001b[0m\u001b[0;34m(\u001b[0m\u001b[0mself\u001b[0m\u001b[0;34m)\u001b[0m\u001b[0;34m\u001b[0m\u001b[0;34m\u001b[0m\u001b[0m\n\u001b[1;32m    894\u001b[0m         \u001b[0;32mif\u001b[0m \u001b[0msparse\u001b[0m\u001b[0;34m.\u001b[0m\u001b[0misspmatrix\u001b[0m\u001b[0;34m(\u001b[0m\u001b[0mX\u001b[0m\u001b[0;34m)\u001b[0m\u001b[0;34m:\u001b[0m\u001b[0;34m\u001b[0m\u001b[0;34m\u001b[0m\u001b[0m\n\u001b[0;32m--> 895\u001b[0;31m             return safe_sparse_dot(X, self.coef_.T,\n\u001b[0m\u001b[1;32m    896\u001b[0m                                    dense_output=True) + self.intercept_\n\u001b[1;32m    897\u001b[0m         \u001b[0;32melse\u001b[0m\u001b[0;34m:\u001b[0m\u001b[0;34m\u001b[0m\u001b[0;34m\u001b[0m\u001b[0m\n",
      "\u001b[0;32m/opt/anaconda3/lib/python3.9/site-packages/sklearn/utils/validation.py\u001b[0m in \u001b[0;36minner_f\u001b[0;34m(*args, **kwargs)\u001b[0m\n\u001b[1;32m     61\u001b[0m             \u001b[0mextra_args\u001b[0m \u001b[0;34m=\u001b[0m \u001b[0mlen\u001b[0m\u001b[0;34m(\u001b[0m\u001b[0margs\u001b[0m\u001b[0;34m)\u001b[0m \u001b[0;34m-\u001b[0m \u001b[0mlen\u001b[0m\u001b[0;34m(\u001b[0m\u001b[0mall_args\u001b[0m\u001b[0;34m)\u001b[0m\u001b[0;34m\u001b[0m\u001b[0;34m\u001b[0m\u001b[0m\n\u001b[1;32m     62\u001b[0m             \u001b[0;32mif\u001b[0m \u001b[0mextra_args\u001b[0m \u001b[0;34m<=\u001b[0m \u001b[0;36m0\u001b[0m\u001b[0;34m:\u001b[0m\u001b[0;34m\u001b[0m\u001b[0;34m\u001b[0m\u001b[0m\n\u001b[0;32m---> 63\u001b[0;31m                 \u001b[0;32mreturn\u001b[0m \u001b[0mf\u001b[0m\u001b[0;34m(\u001b[0m\u001b[0;34m*\u001b[0m\u001b[0margs\u001b[0m\u001b[0;34m,\u001b[0m \u001b[0;34m**\u001b[0m\u001b[0mkwargs\u001b[0m\u001b[0;34m)\u001b[0m\u001b[0;34m\u001b[0m\u001b[0;34m\u001b[0m\u001b[0m\n\u001b[0m\u001b[1;32m     64\u001b[0m \u001b[0;34m\u001b[0m\u001b[0m\n\u001b[1;32m     65\u001b[0m             \u001b[0;31m# extra_args > 0\u001b[0m\u001b[0;34m\u001b[0m\u001b[0;34m\u001b[0m\u001b[0m\n",
      "\u001b[0;32m/opt/anaconda3/lib/python3.9/site-packages/sklearn/utils/extmath.py\u001b[0m in \u001b[0;36msafe_sparse_dot\u001b[0;34m(a, b, dense_output)\u001b[0m\n\u001b[1;32m    150\u001b[0m             \u001b[0mret\u001b[0m \u001b[0;34m=\u001b[0m \u001b[0mnp\u001b[0m\u001b[0;34m.\u001b[0m\u001b[0mdot\u001b[0m\u001b[0;34m(\u001b[0m\u001b[0ma\u001b[0m\u001b[0;34m,\u001b[0m \u001b[0mb\u001b[0m\u001b[0;34m)\u001b[0m\u001b[0;34m\u001b[0m\u001b[0;34m\u001b[0m\u001b[0m\n\u001b[1;32m    151\u001b[0m     \u001b[0;32melse\u001b[0m\u001b[0;34m:\u001b[0m\u001b[0;34m\u001b[0m\u001b[0;34m\u001b[0m\u001b[0m\n\u001b[0;32m--> 152\u001b[0;31m         \u001b[0mret\u001b[0m \u001b[0;34m=\u001b[0m \u001b[0ma\u001b[0m \u001b[0;34m@\u001b[0m \u001b[0mb\u001b[0m\u001b[0;34m\u001b[0m\u001b[0;34m\u001b[0m\u001b[0m\n\u001b[0m\u001b[1;32m    153\u001b[0m \u001b[0;34m\u001b[0m\u001b[0m\n\u001b[1;32m    154\u001b[0m     if (sparse.issparse(a) and sparse.issparse(b)\n",
      "\u001b[0;32m/opt/anaconda3/lib/python3.9/site-packages/scipy/sparse/base.py\u001b[0m in \u001b[0;36m__matmul__\u001b[0;34m(self, other)\u001b[0m\n\u001b[1;32m    558\u001b[0m             raise ValueError(\"Scalar operands are not allowed, \"\n\u001b[1;32m    559\u001b[0m                              \"use '*' instead\")\n\u001b[0;32m--> 560\u001b[0;31m         \u001b[0;32mreturn\u001b[0m \u001b[0mself\u001b[0m\u001b[0;34m.\u001b[0m\u001b[0m__mul__\u001b[0m\u001b[0;34m(\u001b[0m\u001b[0mother\u001b[0m\u001b[0;34m)\u001b[0m\u001b[0;34m\u001b[0m\u001b[0;34m\u001b[0m\u001b[0m\n\u001b[0m\u001b[1;32m    561\u001b[0m \u001b[0;34m\u001b[0m\u001b[0m\n\u001b[1;32m    562\u001b[0m     \u001b[0;32mdef\u001b[0m \u001b[0m__rmatmul__\u001b[0m\u001b[0;34m(\u001b[0m\u001b[0mself\u001b[0m\u001b[0;34m,\u001b[0m \u001b[0mother\u001b[0m\u001b[0;34m)\u001b[0m\u001b[0;34m:\u001b[0m\u001b[0;34m\u001b[0m\u001b[0;34m\u001b[0m\u001b[0m\n",
      "\u001b[0;32m/opt/anaconda3/lib/python3.9/site-packages/scipy/sparse/base.py\u001b[0m in \u001b[0;36m__mul__\u001b[0;34m(self, other)\u001b[0m\n\u001b[1;32m    496\u001b[0m             \u001b[0;31m# dense row or column vector\u001b[0m\u001b[0;34m\u001b[0m\u001b[0;34m\u001b[0m\u001b[0m\n\u001b[1;32m    497\u001b[0m             \u001b[0;32mif\u001b[0m \u001b[0mother\u001b[0m\u001b[0;34m.\u001b[0m\u001b[0mshape\u001b[0m \u001b[0;34m!=\u001b[0m \u001b[0;34m(\u001b[0m\u001b[0mN\u001b[0m\u001b[0;34m,\u001b[0m\u001b[0;34m)\u001b[0m \u001b[0;32mand\u001b[0m \u001b[0mother\u001b[0m\u001b[0;34m.\u001b[0m\u001b[0mshape\u001b[0m \u001b[0;34m!=\u001b[0m \u001b[0;34m(\u001b[0m\u001b[0mN\u001b[0m\u001b[0;34m,\u001b[0m \u001b[0;36m1\u001b[0m\u001b[0;34m)\u001b[0m\u001b[0;34m:\u001b[0m\u001b[0;34m\u001b[0m\u001b[0;34m\u001b[0m\u001b[0m\n\u001b[0;32m--> 498\u001b[0;31m                 \u001b[0;32mraise\u001b[0m \u001b[0mValueError\u001b[0m\u001b[0;34m(\u001b[0m\u001b[0;34m'dimension mismatch'\u001b[0m\u001b[0;34m)\u001b[0m\u001b[0;34m\u001b[0m\u001b[0;34m\u001b[0m\u001b[0m\n\u001b[0m\u001b[1;32m    499\u001b[0m \u001b[0;34m\u001b[0m\u001b[0m\n\u001b[1;32m    500\u001b[0m             \u001b[0mresult\u001b[0m \u001b[0;34m=\u001b[0m \u001b[0mself\u001b[0m\u001b[0;34m.\u001b[0m\u001b[0m_mul_vector\u001b[0m\u001b[0;34m(\u001b[0m\u001b[0mnp\u001b[0m\u001b[0;34m.\u001b[0m\u001b[0mravel\u001b[0m\u001b[0;34m(\u001b[0m\u001b[0mother\u001b[0m\u001b[0;34m)\u001b[0m\u001b[0;34m)\u001b[0m\u001b[0;34m\u001b[0m\u001b[0;34m\u001b[0m\u001b[0m\n",
      "\u001b[0;31mValueError\u001b[0m: dimension mismatch"
     ]
    }
   ],
   "source": [
    "print(\"Test set score: {:.2f}\".format(lasso5.score(X_test_scaled5, y_test5)))\n",
    "print(\"Number of features used:\", np.sum(lasso5['lasso'].coef_ != 0))"
   ]
  },
  {
   "cell_type": "code",
   "execution_count": null,
   "id": "70597c33",
   "metadata": {},
   "outputs": [],
   "source": []
  }
 ],
 "metadata": {
  "kernelspec": {
   "display_name": "Python 3 (ipykernel)",
   "language": "python",
   "name": "python3"
  },
  "language_info": {
   "codemirror_mode": {
    "name": "ipython",
    "version": 3
   },
   "file_extension": ".py",
   "mimetype": "text/x-python",
   "name": "python",
   "nbconvert_exporter": "python",
   "pygments_lexer": "ipython3",
   "version": "3.9.7"
  }
 },
 "nbformat": 4,
 "nbformat_minor": 5
}
